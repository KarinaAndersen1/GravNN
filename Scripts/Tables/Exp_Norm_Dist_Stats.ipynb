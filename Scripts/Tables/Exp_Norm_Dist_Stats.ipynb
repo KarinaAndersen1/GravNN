{
 "metadata": {
  "language_info": {
   "codemirror_mode": {
    "name": "ipython",
    "version": 3
   },
   "file_extension": ".py",
   "mimetype": "text/x-python",
   "name": "python",
   "nbconvert_exporter": "python",
   "pygments_lexer": "ipython3",
   "version": "3.7.9-final"
  },
  "orig_nbformat": 2,
  "kernelspec": {
   "name": "python3",
   "display_name": "Python 3",
   "language": "python"
  }
 },
 "nbformat": 4,
 "nbformat_minor": 2,
 "cells": [
  {
   "cell_type": "code",
   "execution_count": null,
   "metadata": {},
   "outputs": [],
   "source": [
    "import pandas as pd\n",
    "import numpy as np"
   ]
  },
  {
   "cell_type": "code",
   "execution_count": null,
   "metadata": {},
   "outputs": [],
   "source": [
    "rand_df = pd.read_pickle( \"C:\\\\Users\\\\John\\\\Documents\\\\Research\\\\ML_Gravity\\\\N_1000000_Rand_Study.data\").sort_values(by='layers')\n",
    "exp_df = pd.read_pickle( \"C:\\\\Users\\\\John\\\\Documents\\\\Research\\\\ML_Gravity\\\\N_1000000_exp_norm_study.data\")\n"
   ]
  },
  {
   "cell_type": "code",
   "execution_count": 94,
   "metadata": {},
   "outputs": [],
   "source": [
    "exp_df.rename(columns={'LEO_sh_diff_mean':'LEO_sh_rse_mean', 'LEO_sh_diff_median':'LEO_sh_rse_median'},inplace=True)\n",
    "exp_df.to_pickle(\"C:\\\\Users\\\\John\\\\Documents\\\\Research\\\\ML_Gravity\\\\N_1000000_exp_norm_study.data\")"
   ]
  },
  {
   "cell_type": "code",
   "execution_count": null,
   "metadata": {},
   "outputs": [],
   "source": [
    "sub_df = rand_df\n",
    "brill_sh = rand_df['Brillouin_sh_rse_mean']\n",
    "sub_df['dC_Brill'] = (sub_df['params'] - brill_sh*(brill_sh+1))/(brill_sh*(brill_sh+1))\n",
    "\n",
    "brill_F_sh = sub_df['Brillouin_sh_sigma_2_mean']\n",
    "sub_df['dC_F_Brill'] = (sub_df['params'] - brill_F_sh*(brill_F_sh+1))/(brill_F_sh*(brill_F_sh+1))\n",
    "\n",
    "\n",
    "LEO_sh = sub_df['LEO_sh_rse_mean']\n",
    "sub_df['dC_LEO'] = (sub_df['params'] - LEO_sh*(LEO_sh+1))/(LEO_sh*(LEO_sh+1))\n",
    "\n",
    "LEO_F_sh = sub_df['LEO_sh_sigma_2_mean']\n",
    "sub_df['dC_F_LEO'] = (sub_df['params'] - LEO_F_sh*(LEO_F_sh+1))/(LEO_F_sh*(LEO_F_sh+1))\n",
    "caption='Random Distribution Statistics'\n",
    "label='tab:RandDistStats'\n",
    "print(sub_df.to_latex(columns=['layers', 'dC_Brill', 'dC_F_Brill', 'dC_LEO', 'dC_F_LEO'],float_format=\"%.2f\",index=False,caption=caption, label=label, column_format='|c|c|c|c|c|'))"
   ]
  },
  {
   "cell_type": "code",
   "execution_count": null,
   "metadata": {},
   "outputs": [],
   "source": [
    "from GravNN.Trajectories.ExponentialDist import ExponentialDist\n",
    "#exp_df[exp_df['distribution']==ExponentialDist.__class__]\n"
   ]
  },
  {
   "cell_type": "code",
   "execution_count": null,
   "metadata": {},
   "outputs": [],
   "source": [
    "\n",
    "sub_df = exp_df[pd.isna(exp_df['mu'])][exp_df['invert'] == True][exp_df['scale_parameter']==140000.0].sort_values(by='params')\n",
    "brill_sh = sub_df['Brillouin_sh_rse_mean']\n",
    "sub_df['dC_Brill'] = (sub_df['params'] - brill_sh*(brill_sh+1))/(brill_sh*(brill_sh+1))\n",
    "\n",
    "brill_F_sh = sub_df['Brillouin_sh_sigma_2_mean']\n",
    "sub_df['dC_F_Brill'] = (sub_df['params'] - brill_F_sh*(brill_F_sh+1))/(brill_F_sh*(brill_F_sh+1))\n",
    "\n",
    "\n",
    "LEO_sh = sub_df['LEO_sh_rse_mean']\n",
    "sub_df['dC_LEO'] = (sub_df['params'] - LEO_sh*(LEO_sh+1))/(LEO_sh*(LEO_sh+1))\n",
    "\n",
    "LEO_F_sh = sub_df['LEO_sh_sigma_2_mean']\n",
    "sub_df['dC_F_LEO'] = (sub_df['params'] - LEO_F_sh*(LEO_F_sh+1))/(LEO_F_sh*(LEO_F_sh+1))\n",
    "caption='$\\mathbb{E(x, 420, 14)} Distribution Statistics'\n",
    "label='tab:E_420_14_stats'\n",
    "print(sub_df.to_latex(columns=['layers', 'dC_Brill', 'dC_F_Brill', 'dC_LEO', 'dC_F_LEO'],float_format=\"%.2f\",index=False,caption=caption, label=label, column_format='|c|c|c|c|c|'))"
   ]
  },
  {
   "cell_type": "code",
   "execution_count": null,
   "metadata": {},
   "outputs": [],
   "source": [
    "sub_df = exp_df[pd.isna(exp_df['mu'])][exp_df['invert'] == False][exp_df['scale_parameter']==140000.0].sort_values(by='params')\n",
    "brill_sh = sub_df['Brillouin_sh_rse_mean']\n",
    "sub_df['dC_Brill'] = (sub_df['params'] - brill_sh*(brill_sh+1))/(brill_sh*(brill_sh+1))\n",
    "\n",
    "brill_F_sh = sub_df['Brillouin_sh_sigma_2_mean']\n",
    "sub_df['dC_F_Brill'] = (sub_df['params'] - brill_F_sh*(brill_F_sh+1))/(brill_F_sh*(brill_F_sh+1))\n",
    "\n",
    "\n",
    "LEO_sh = sub_df['LEO_sh_rse_mean']\n",
    "sub_df['dC_LEO'] = (sub_df['params'] - LEO_sh*(LEO_sh+1))/(LEO_sh*(LEO_sh+1))\n",
    "\n",
    "LEO_F_sh = sub_df['LEO_sh_sigma_2_mean']\n",
    "sub_df['dC_F_LEO'] = (sub_df['params'] - LEO_F_sh*(LEO_F_sh+1))/(LEO_F_sh*(LEO_F_sh+1))\n",
    "\n",
    "caption='$\\mathbb{E(x, 0, 14)} Distribution Statistics'\n",
    "label='tab:E_0_14_stats'\n",
    "print(sub_df.to_latex(columns=['layers', 'dC_Brill', 'dC_F_Brill', 'dC_LEO', 'dC_F_LEO'],float_format=\"%.2f\",index=False,caption=caption, label=label, column_format='|c|c|c|c|c|'))"
   ]
  },
  {
   "cell_type": "code",
   "execution_count": null,
   "metadata": {},
   "outputs": [],
   "source": [
    "sub_df = exp_df[pd.isna(exp_df['mu'])][exp_df['invert'] == True][exp_df['scale_parameter']==42000.0].sort_values(by='params')\n",
    "brill_sh = sub_df['Brillouin_sh_rse_mean']\n",
    "sub_df['dC_Brill'] = (sub_df['params'] - brill_sh*(brill_sh+1))/(brill_sh*(brill_sh+1))\n",
    "\n",
    "brill_F_sh = sub_df['Brillouin_sh_sigma_2_mean']\n",
    "sub_df['dC_F_Brill'] = (sub_df['params'] - brill_F_sh*(brill_F_sh+1))/(brill_F_sh*(brill_F_sh+1))\n",
    "\n",
    "\n",
    "LEO_sh = sub_df['LEO_sh_rse_mean']\n",
    "sub_df['dC_LEO'] = (sub_df['params'] - LEO_sh*(LEO_sh+1))/(LEO_sh*(LEO_sh+1))\n",
    "\n",
    "LEO_F_sh = sub_df['LEO_sh_sigma_2_mean']\n",
    "sub_df['dC_F_LEO'] = (sub_df['params'] - LEO_F_sh*(LEO_F_sh+1))/(LEO_F_sh*(LEO_F_sh+1))\n",
    "caption='$\\mathbb{E(x, 420, 42)} Distribution Statistics'\n",
    "label='tab:E_420_42_stats'\n",
    "print(sub_df.to_latex(columns=['layers', 'dC_Brill', 'dC_F_Brill', 'dC_LEO', 'dC_F_LEO'],float_format=\"%.2f\",index=False,caption=caption, label=label, column_format='|c|c|c|c|c|'))"
   ]
  },
  {
   "cell_type": "code",
   "execution_count": null,
   "metadata": {},
   "outputs": [],
   "source": [
    "sub_df = exp_df[pd.isna(exp_df['mu'])][exp_df['invert'] == False][exp_df['scale_parameter']==42000.0].sort_values(by='params')\n",
    "brill_sh = sub_df['Brillouin_sh_rse_mean']\n",
    "sub_df['dC_Brill'] = (sub_df['params'] - brill_sh*(brill_sh+1))/(brill_sh*(brill_sh+1))\n",
    "\n",
    "brill_F_sh = sub_df['Brillouin_sh_sigma_2_mean']\n",
    "sub_df['dC_F_Brill'] = (sub_df['params'] - brill_F_sh*(brill_F_sh+1))/(brill_F_sh*(brill_F_sh+1))\n",
    "\n",
    "\n",
    "LEO_sh = sub_df['LEO_sh_rse_mean']\n",
    "sub_df['dC_LEO'] = (sub_df['params'] - LEO_sh*(LEO_sh+1))/(LEO_sh*(LEO_sh+1))\n",
    "\n",
    "LEO_F_sh = sub_df['LEO_sh_sigma_2_mean']\n",
    "sub_df['dC_F_LEO'] = (sub_df['params'] - LEO_F_sh*(LEO_F_sh+1))/(LEO_F_sh*(LEO_F_sh+1))\n",
    "caption='$\\mathbb{E(x, 0, 42)} Distribution Statistics'\n",
    "label='tab:E_0_42_stats'\n",
    "print(sub_df.to_latex(columns=['layers', 'dC_Brill', 'dC_F_Brill', 'dC_LEO', 'dC_F_LEO'],float_format=\"%.2f\",index=False,caption=caption, label=label, column_format='|c|c|c|c|c|'))"
   ]
  },
  {
   "cell_type": "code",
   "execution_count": null,
   "metadata": {},
   "outputs": [],
   "source": [
    "sub_df = pd.read_pickle( \"C:\\\\Users\\\\John\\\\Documents\\\\Research\\\\ML_Gravity\\\\N_1000000_PINN_Study.data\")\n",
    "brill_sh = sub_df['Brillouin_sh_rse_mean']\n",
    "sub_df['dC_Brill'] = (sub_df['params'] - brill_sh*(brill_sh+1))/(brill_sh*(brill_sh+1))\n",
    "\n",
    "brill_F_sh = sub_df['Brillouin_sh_sigma_2_mean']\n",
    "sub_df['dC_F_Brill'] = (sub_df['params'] - brill_F_sh*(brill_F_sh+1))/(brill_F_sh*(brill_F_sh+1))\n",
    "\n",
    "\n",
    "LEO_sh = sub_df['LEO_sh_rse_mean']\n",
    "sub_df['dC_LEO'] = (sub_df['params'] - LEO_sh*(LEO_sh+1))/(LEO_sh*(LEO_sh+1))\n",
    "\n",
    "LEO_F_sh = sub_df['LEO_sh_sigma_2_mean']\n",
    "sub_df['dC_F_LEO'] = (sub_df['params'] - LEO_F_sh*(LEO_F_sh+1))/(LEO_F_sh*(LEO_F_sh+1))\n",
    "caption='$\\mathbb{E(x, 0, 42)} Distribution Statistics'\n",
    "label='tab:E_0_42_stats'\n",
    "print(sub_df.to_latex(columns=['layers', 'dC_Brill', 'dC_F_Brill', 'dC_LEO', 'dC_F_LEO'],float_format=\"%.2f\",index=False,caption=caption, label=label, column_format='|c|c|c|c|c|'))"
   ]
  },
  {
   "cell_type": "code",
   "execution_count": 96,
   "metadata": {},
   "outputs": [],
   "source": [
    "sub_df = pd.read_pickle( \"C:\\\\Users\\\\John\\\\Documents\\\\Research\\\\ML_Gravity\\\\N_1000000_PINN_Study.data\")"
   ]
  },
  {
   "cell_type": "code",
   "execution_count": 98,
   "metadata": {},
   "outputs": [],
   "source": [
    "sub_df.rename(columns={'LEO_sh_diff_mean':'LEO_sh_rse_mean', 'LEO_sh_diff_median':'LEO_sh_rse_median', 'Brillouin_sh_diff_mean':'Brillouin_sh_rse_mean', 'Brillouin_sh_diff_median':'Brillouin_sh_rse_median'},inplace=True)\n",
    "sub_df.to_pickle(\"C:\\\\Users\\\\John\\\\Documents\\\\Research\\\\ML_Gravity\\\\N_1000000_PINN_Study.data\")"
   ]
  },
  {
   "cell_type": "code",
   "execution_count": null,
   "metadata": {},
   "outputs": [],
   "source": []
  }
 ]
}