{
 "metadata": {
  "language_info": {
   "codemirror_mode": {
    "name": "ipython",
    "version": 3
   },
   "file_extension": ".py",
   "mimetype": "text/x-python",
   "name": "python",
   "nbconvert_exporter": "python",
   "pygments_lexer": "ipython3",
   "version": "3.7.9-final"
  },
  "orig_nbformat": 2,
  "kernelspec": {
   "name": "python3",
   "display_name": "Python 3.7.9 64-bit",
   "metadata": {
    "interpreter": {
     "hash": "35e3af59d3e06b5bab0f409a858e458c29f9e188770119e2e5e93795b5d1e9ba"
    }
   }
  }
 },
 "nbformat": 4,
 "nbformat_minor": 2,
 "cells": [
  {
   "cell_type": "code",
   "execution_count": 1,
   "metadata": {},
   "outputs": [],
   "source": [
    "%matplotlib inline"
   ]
  },
  {
   "cell_type": "code",
   "execution_count": 2,
   "metadata": {},
   "outputs": [],
   "source": [
    "import pandas as pd \n",
    "import matplotlib.pyplot as plt \n",
    "import numpy as np \n",
    "import pickle\n",
    "import os\n",
    "import sigfig"
   ]
  },
  {
   "cell_type": "code",
   "execution_count": 33,
   "metadata": {},
   "outputs": [],
   "source": [
    "file_name = 'C:\\\\Users\\\\John\\\\Documents\\\\Research\\\\ML_Gravity\\\\sh_stats_Brillouin.data'\n",
    "\n",
    "with open(file_name, 'rb') as f:\n",
    "    df = pickle.load(f)\n",
    "\n",
    "nn_data_name = 'C:\\\\Users\\\\John\\\\Documents\\\\Research\\\\ML_Gravity\\\\tensorflow_2_results.data'\n",
    "#nn_data_name = 'C:\\\\Users\\\\John\\\\Documents\\\\Research\\\\ML_Gravity\\\\tensorflow_2_ablation.data'\n",
    "nn_data_name = 'C:\\\\Users\\\\John\\\\Documents\\\\Research\\\\ML_Gravity\\\\param_study.data'\n",
    "#nn_data_name = 'C:\\\\Users\\\\John\\\\Documents\\\\Research\\\\ML_Gravity\\\\temp.data'\n",
    "\n",
    "with open(nn_data_name, 'rb') as f:\n",
    "    nn_df = pickle.load(f)"
   ]
  },
  {
   "cell_type": "code",
   "execution_count": null,
   "metadata": {},
   "outputs": [],
   "source": [
    "nn_df.iloc[-1]['network_type']"
   ]
  },
  {
   "cell_type": "code",
   "execution_count": 29,
   "metadata": {},
   "outputs": [
    {
     "output_type": "stream",
     "name": "stdout",
     "text": [
      "2459199.256412037\n2459199.266979167\n2459199.2851620372\n2459199.340300926\n2459199.3964930554\n2459199.427627315\n2459199.4955208334\n2459199.5555671295\n2459199.608784722\n2459199.6497337963\n2459199.7016319446\n2459199.7425810187\n2459199.7947222223\n2459199.8350810185\n2459200.222974537\n2459200.306770833\n2459200.6251273146\n2459200.684421296\n2459200.7466666666\n"
     ]
    }
   ],
   "source": [
    "for index in nn_df.index:\n",
    "    print(pd.Timestamp(index).to_julian_date())"
   ]
  },
  {
   "cell_type": "code",
   "execution_count": 27,
   "metadata": {},
   "outputs": [
    {
     "output_type": "execute_result",
     "data": {
      "text/plain": [
       "Index(['Thu Dec 17 16:55:31 2020', 'Thu Dec 17 16:56:30 2020',\n",
       "       'Thu Dec 17 17:07:00 2020', 'Thu Dec 17 17:08:09 2020',\n",
       "       'Thu Dec 17 17:24:59 2020', 'Thu Dec 17 17:53:54 2020'],\n",
       "      dtype='object', name='timetag')"
      ]
     },
     "metadata": {},
     "execution_count": 27
    }
   ],
   "source": [
    "nn_df.index"
   ]
  },
  {
   "cell_type": "code",
   "execution_count": null,
   "metadata": {},
   "outputs": [],
   "source": []
  }
 ]
}