{
 "metadata": {
  "language_info": {
   "codemirror_mode": {
    "name": "ipython",
    "version": 3
   },
   "file_extension": ".py",
   "mimetype": "text/x-python",
   "name": "python",
   "nbconvert_exporter": "python",
   "pygments_lexer": "ipython3",
   "version": "3.7.9-final"
  },
  "orig_nbformat": 2,
  "kernelspec": {
   "name": "Python 3.7.9 64-bit",
   "display_name": "Python 3.7.9 64-bit",
   "metadata": {
    "interpreter": {
     "hash": "35e3af59d3e06b5bab0f409a858e458c29f9e188770119e2e5e93795b5d1e9ba"
    }
   }
  }
 },
 "nbformat": 4,
 "nbformat_minor": 2,
 "cells": [
  {
   "cell_type": "code",
   "execution_count": 1,
   "metadata": {},
   "outputs": [],
   "source": [
    "import pandas as pd"
   ]
  },
  {
   "cell_type": "code",
   "execution_count": 75,
   "metadata": {},
   "outputs": [],
   "source": [
    "nn_df = pd.read_pickle('C:\\\\Users\\\\John\\\\Documents\\\\Research\\\\ML_Gravity\\\\continuous_results.data')"
   ]
  },
  {
   "cell_type": "code",
   "execution_count": 71,
   "metadata": {},
   "outputs": [],
   "source": [
    "df_file = 'C:\\\\Users\\\\John\\\\Documents\\\\Research\\\\ML_Gravity\\\\continuous_results.data'\n",
    "nn_df.to_pickle(df_file)"
   ]
  },
  {
   "cell_type": "code",
   "execution_count": 70,
   "metadata": {},
   "outputs": [],
   "source": [
    "nn_df = nn_df.drop(index=nn_df.iloc[-7:].index)"
   ]
  },
  {
   "cell_type": "code",
   "execution_count": 73,
   "metadata": {},
   "outputs": [
    {
     "output_type": "execute_result",
     "data": {
      "text/plain": [
       "                         PINN_flag  N_train  degree  \\\n",
       "timetag                                               \n",
       "Fri Oct 30 00:52:15 2020      True    40000    1000   \n",
       "Fri Oct 30 04:42:05 2020     False    40000    1000   \n",
       "Fri Oct 30 05:46:49 2020      True    40000    1000   \n",
       "Fri Oct 30 06:00:53 2020     False    20000    1000   \n",
       "Fri Oct 30 06:49:24 2020      True    20000    1000   \n",
       "Fri Oct 30 07:19:59 2020     False    80000    1000   \n",
       "Fri Oct 30 08:57:57 2020      True    80000    1000   \n",
       "\n",
       "                                                          layers  epochs  \\\n",
       "timetag                                                                    \n",
       "Fri Oct 30 00:52:15 2020  [3, 20, 20, 20, 20, 20, 20, 20, 20, 4]  200000   \n",
       "Fri Oct 30 04:42:05 2020  [3, 20, 20, 20, 20, 20, 20, 20, 20, 4]  200000   \n",
       "Fri Oct 30 05:46:49 2020  [3, 20, 20, 20, 20, 20, 20, 20, 20, 4]  200000   \n",
       "Fri Oct 30 06:00:53 2020  [3, 20, 20, 20, 20, 20, 20, 20, 20, 4]  200000   \n",
       "Fri Oct 30 06:49:24 2020  [3, 20, 20, 20, 20, 20, 20, 20, 20, 4]  200000   \n",
       "Fri Oct 30 07:19:59 2020  [3, 20, 20, 20, 20, 20, 20, 20, 20, 4]  200000   \n",
       "Fri Oct 30 08:57:57 2020  [3, 20, 20, 20, 20, 20, 20, 20, 20, 4]  200000   \n",
       "\n",
       "                          params  trajectory  radius_min  radius_max  \\\n",
       "timetag                                                                \n",
       "Fri Oct 30 00:52:15 2020   12416  RandomDist   6378136.6   6378146.6   \n",
       "Fri Oct 30 04:42:05 2020    3104  RandomDist   6378136.6   6378146.6   \n",
       "Fri Oct 30 05:46:49 2020    6208  RandomDist   6378136.6   6378146.6   \n",
       "Fri Oct 30 06:00:53 2020    9312  RandomDist   6378136.6   6378146.6   \n",
       "Fri Oct 30 06:49:24 2020   12416  RandomDist   6378136.6   6378146.6   \n",
       "Fri Oct 30 07:19:59 2020   15520  RandomDist   6378136.6   6378146.6   \n",
       "Fri Oct 30 08:57:57 2020   18624  RandomDist   6378136.6   6378146.6   \n",
       "\n",
       "                          train_time  ...  sigma_5_c_mean  sigma_5_c_std  \\\n",
       "timetag                               ...                                  \n",
       "Fri Oct 30 00:52:15 2020     3992.77  ...             NaN            NaN   \n",
       "Fri Oct 30 04:42:05 2020     1131.27  ...             NaN            NaN   \n",
       "Fri Oct 30 05:46:49 2020     3858.92  ...             NaN            NaN   \n",
       "Fri Oct 30 06:00:53 2020      815.30  ...             NaN            NaN   \n",
       "Fri Oct 30 06:49:24 2020     2869.49  ...             NaN            NaN   \n",
       "Fri Oct 30 07:19:59 2020     1790.80  ...             NaN            NaN   \n",
       "Fri Oct 30 08:57:57 2020     5818.26  ...             NaN            NaN   \n",
       "\n",
       "                          sigma_5_c_median  max_error  sigma_2_mean  \\\n",
       "timetag                                                               \n",
       "Fri Oct 30 00:52:15 2020               NaN   2.333169           NaN   \n",
       "Fri Oct 30 04:42:05 2020               NaN   0.007964      0.001084   \n",
       "Fri Oct 30 05:46:49 2020               NaN   0.007882      0.001132   \n",
       "Fri Oct 30 06:00:53 2020               NaN   0.008151      0.001153   \n",
       "Fri Oct 30 06:49:24 2020               NaN   0.008220      0.001163   \n",
       "Fri Oct 30 07:19:59 2020               NaN   0.008102      0.001076   \n",
       "Fri Oct 30 08:57:57 2020               NaN   0.008049      0.001078   \n",
       "\n",
       "                          sigma_2_std  sigma_2_median  sigma_2_c_mean  \\\n",
       "timetag                                                                 \n",
       "Fri Oct 30 00:52:15 2020          NaN             NaN        0.822246   \n",
       "Fri Oct 30 04:42:05 2020     0.000536        0.000991        0.000194   \n",
       "Fri Oct 30 05:46:49 2020     0.000519        0.001042        0.000201   \n",
       "Fri Oct 30 06:00:53 2020     0.000553        0.001056        0.000211   \n",
       "Fri Oct 30 06:49:24 2020     0.000554        0.001055        0.000208   \n",
       "Fri Oct 30 07:19:59 2020     0.000524        0.000991        0.000186   \n",
       "Fri Oct 30 08:57:57 2020     0.000505        0.000998        0.000192   \n",
       "\n",
       "                          sigma_2_c_std  sigma_2_c_median  \n",
       "timetag                                                    \n",
       "Fri Oct 30 00:52:15 2020       0.405484          0.734074  \n",
       "Fri Oct 30 04:42:05 2020       0.000151          0.000151  \n",
       "Fri Oct 30 05:46:49 2020       0.000149          0.000158  \n",
       "Fri Oct 30 06:00:53 2020       0.000157          0.000168  \n",
       "Fri Oct 30 06:49:24 2020       0.000154          0.000165  \n",
       "Fri Oct 30 07:19:59 2020       0.000146          0.000144  \n",
       "Fri Oct 30 08:57:57 2020       0.000147          0.000149  \n",
       "\n",
       "[7 rows x 45 columns]"
      ],
      "text/html": "<div>\n<style scoped>\n    .dataframe tbody tr th:only-of-type {\n        vertical-align: middle;\n    }\n\n    .dataframe tbody tr th {\n        vertical-align: top;\n    }\n\n    .dataframe thead th {\n        text-align: right;\n    }\n</style>\n<table border=\"1\" class=\"dataframe\">\n  <thead>\n    <tr style=\"text-align: right;\">\n      <th></th>\n      <th>PINN_flag</th>\n      <th>N_train</th>\n      <th>degree</th>\n      <th>layers</th>\n      <th>epochs</th>\n      <th>params</th>\n      <th>trajectory</th>\n      <th>radius_min</th>\n      <th>radius_max</th>\n      <th>train_time</th>\n      <th>...</th>\n      <th>sigma_5_c_mean</th>\n      <th>sigma_5_c_std</th>\n      <th>sigma_5_c_median</th>\n      <th>max_error</th>\n      <th>sigma_2_mean</th>\n      <th>sigma_2_std</th>\n      <th>sigma_2_median</th>\n      <th>sigma_2_c_mean</th>\n      <th>sigma_2_c_std</th>\n      <th>sigma_2_c_median</th>\n    </tr>\n    <tr>\n      <th>timetag</th>\n      <th></th>\n      <th></th>\n      <th></th>\n      <th></th>\n      <th></th>\n      <th></th>\n      <th></th>\n      <th></th>\n      <th></th>\n      <th></th>\n      <th></th>\n      <th></th>\n      <th></th>\n      <th></th>\n      <th></th>\n      <th></th>\n      <th></th>\n      <th></th>\n      <th></th>\n      <th></th>\n      <th></th>\n    </tr>\n  </thead>\n  <tbody>\n    <tr>\n      <th>Fri Oct 30 00:52:15 2020</th>\n      <td>True</td>\n      <td>40000</td>\n      <td>1000</td>\n      <td>[3, 20, 20, 20, 20, 20, 20, 20, 20, 4]</td>\n      <td>200000</td>\n      <td>12416</td>\n      <td>RandomDist</td>\n      <td>6378136.6</td>\n      <td>6378146.6</td>\n      <td>3992.77</td>\n      <td>...</td>\n      <td>NaN</td>\n      <td>NaN</td>\n      <td>NaN</td>\n      <td>2.333169</td>\n      <td>NaN</td>\n      <td>NaN</td>\n      <td>NaN</td>\n      <td>0.822246</td>\n      <td>0.405484</td>\n      <td>0.734074</td>\n    </tr>\n    <tr>\n      <th>Fri Oct 30 04:42:05 2020</th>\n      <td>False</td>\n      <td>40000</td>\n      <td>1000</td>\n      <td>[3, 20, 20, 20, 20, 20, 20, 20, 20, 4]</td>\n      <td>200000</td>\n      <td>3104</td>\n      <td>RandomDist</td>\n      <td>6378136.6</td>\n      <td>6378146.6</td>\n      <td>1131.27</td>\n      <td>...</td>\n      <td>NaN</td>\n      <td>NaN</td>\n      <td>NaN</td>\n      <td>0.007964</td>\n      <td>0.001084</td>\n      <td>0.000536</td>\n      <td>0.000991</td>\n      <td>0.000194</td>\n      <td>0.000151</td>\n      <td>0.000151</td>\n    </tr>\n    <tr>\n      <th>Fri Oct 30 05:46:49 2020</th>\n      <td>True</td>\n      <td>40000</td>\n      <td>1000</td>\n      <td>[3, 20, 20, 20, 20, 20, 20, 20, 20, 4]</td>\n      <td>200000</td>\n      <td>6208</td>\n      <td>RandomDist</td>\n      <td>6378136.6</td>\n      <td>6378146.6</td>\n      <td>3858.92</td>\n      <td>...</td>\n      <td>NaN</td>\n      <td>NaN</td>\n      <td>NaN</td>\n      <td>0.007882</td>\n      <td>0.001132</td>\n      <td>0.000519</td>\n      <td>0.001042</td>\n      <td>0.000201</td>\n      <td>0.000149</td>\n      <td>0.000158</td>\n    </tr>\n    <tr>\n      <th>Fri Oct 30 06:00:53 2020</th>\n      <td>False</td>\n      <td>20000</td>\n      <td>1000</td>\n      <td>[3, 20, 20, 20, 20, 20, 20, 20, 20, 4]</td>\n      <td>200000</td>\n      <td>9312</td>\n      <td>RandomDist</td>\n      <td>6378136.6</td>\n      <td>6378146.6</td>\n      <td>815.30</td>\n      <td>...</td>\n      <td>NaN</td>\n      <td>NaN</td>\n      <td>NaN</td>\n      <td>0.008151</td>\n      <td>0.001153</td>\n      <td>0.000553</td>\n      <td>0.001056</td>\n      <td>0.000211</td>\n      <td>0.000157</td>\n      <td>0.000168</td>\n    </tr>\n    <tr>\n      <th>Fri Oct 30 06:49:24 2020</th>\n      <td>True</td>\n      <td>20000</td>\n      <td>1000</td>\n      <td>[3, 20, 20, 20, 20, 20, 20, 20, 20, 4]</td>\n      <td>200000</td>\n      <td>12416</td>\n      <td>RandomDist</td>\n      <td>6378136.6</td>\n      <td>6378146.6</td>\n      <td>2869.49</td>\n      <td>...</td>\n      <td>NaN</td>\n      <td>NaN</td>\n      <td>NaN</td>\n      <td>0.008220</td>\n      <td>0.001163</td>\n      <td>0.000554</td>\n      <td>0.001055</td>\n      <td>0.000208</td>\n      <td>0.000154</td>\n      <td>0.000165</td>\n    </tr>\n    <tr>\n      <th>Fri Oct 30 07:19:59 2020</th>\n      <td>False</td>\n      <td>80000</td>\n      <td>1000</td>\n      <td>[3, 20, 20, 20, 20, 20, 20, 20, 20, 4]</td>\n      <td>200000</td>\n      <td>15520</td>\n      <td>RandomDist</td>\n      <td>6378136.6</td>\n      <td>6378146.6</td>\n      <td>1790.80</td>\n      <td>...</td>\n      <td>NaN</td>\n      <td>NaN</td>\n      <td>NaN</td>\n      <td>0.008102</td>\n      <td>0.001076</td>\n      <td>0.000524</td>\n      <td>0.000991</td>\n      <td>0.000186</td>\n      <td>0.000146</td>\n      <td>0.000144</td>\n    </tr>\n    <tr>\n      <th>Fri Oct 30 08:57:57 2020</th>\n      <td>True</td>\n      <td>80000</td>\n      <td>1000</td>\n      <td>[3, 20, 20, 20, 20, 20, 20, 20, 20, 4]</td>\n      <td>200000</td>\n      <td>18624</td>\n      <td>RandomDist</td>\n      <td>6378136.6</td>\n      <td>6378146.6</td>\n      <td>5818.26</td>\n      <td>...</td>\n      <td>NaN</td>\n      <td>NaN</td>\n      <td>NaN</td>\n      <td>0.008049</td>\n      <td>0.001078</td>\n      <td>0.000505</td>\n      <td>0.000998</td>\n      <td>0.000192</td>\n      <td>0.000147</td>\n      <td>0.000149</td>\n    </tr>\n  </tbody>\n</table>\n<p>7 rows × 45 columns</p>\n</div>"
     },
     "metadata": {},
     "execution_count": 73
    }
   ],
   "source": [
    "nn_df.iloc[-7:]"
   ]
  },
  {
   "cell_type": "code",
   "execution_count": 16,
   "metadata": {},
   "outputs": [
    {
     "output_type": "execute_result",
     "data": {
      "text/plain": [
       "dict_keys(['PINN_flag', 'N_train', 'degree', 'layers', 'epochs', 'params', 'trajectory', 'radius_min', 'radius_max', 'train_time', 'rse_mean', 'rse_std', 'rse_median', 'rse_a0_mean', 'rse_a1_mean', 'rse_a2_mean', 'percent_rel_mean', 'percent_rel_std', 'percent_rel_median', 'percent_rel_a0_mean', 'percent_rel_a1_mean', 'percent_rel_a2_mean', 'activation', 'acc_noise', 'deg_removed', 'init_file', 'sigma_3_mean', 'sigma_3_std', 'sigma_3_median', 'sigma_3_c_mean', 'sigma_3_c_std', 'sigma_3_c_median', 'sigma_5_mean', 'sigma_5_std', 'sigma_5_median', 'sigma_5_c_mean', 'sigma_5_c_std', 'sigma_5_c_median', 'max_error', 'sigma_2_mean', 'sigma_2_std', 'sigma_2_median', 'sigma_2_c_mean', 'sigma_2_c_std', 'sigma_2_c_median'])"
      ]
     },
     "metadata": {},
     "execution_count": 16
    }
   ],
   "source": [
    "nn_df.iloc[-16:].to_dict().keys()\n"
   ]
  },
  {
   "cell_type": "code",
   "execution_count": 64,
   "metadata": {},
   "outputs": [
    {
     "output_type": "execute_result",
     "data": {
      "text/plain": [
       "{'PINN_flag': False,\n",
       " 'N_train': 40000,\n",
       " 'degree': 1000,\n",
       " 'layers': [3, 20, 20, 20, 20, 20, 20, 20, 20, 4],\n",
       " 'epochs': 200000,\n",
       " 'params': 3104,\n",
       " 'trajectory': 'RandomDist',\n",
       " 'radius_min': 6378136.6,\n",
       " 'radius_max': 6378146.6,\n",
       " 'train_time': 1138.63,\n",
       " 'rse_mean': 0.00010872147911923118,\n",
       " 'rse_std': 0.00015000811563881136,\n",
       " 'rse_median': 6.551523660530689e-05,\n",
       " 'rse_a0_mean': 0.00010743601123903129,\n",
       " 'rse_a1_mean': 0.00010576039776439521,\n",
       " 'rse_a2_mean': 0.00011296802835426709,\n",
       " 'percent_rel_mean': 607.7534445441718,\n",
       " 'percent_rel_std': 126069.7315502246,\n",
       " 'percent_rel_median': 54.85115046187299,\n",
       " 'percent_rel_a0_mean': 431.73429331700714,\n",
       " 'percent_rel_a1_mean': 913.1726235990556,\n",
       " 'percent_rel_a2_mean': 478.35341671645324,\n",
       " 'activation': 'tanh',\n",
       " 'acc_noise': 0.0,\n",
       " 'deg_removed': 2.0,\n",
       " 'init_file': None,\n",
       " 'sigma_3_mean': 0.0009501298954571741,\n",
       " 'sigma_3_std': 0.0005102438270765529,\n",
       " 'sigma_3_median': 0.0008527087378083034,\n",
       " 'sigma_3_c_mean': 0.0001833460932137685,\n",
       " 'sigma_3_c_std': 0.000138864879239933,\n",
       " 'sigma_3_c_median': 0.0001442262925413705,\n",
       " 'sigma_5_mean': 0.001396607693199038,\n",
       " 'sigma_5_std': 0.000591190719106921,\n",
       " 'sigma_5_median': 0.0013411257728099522,\n",
       " 'sigma_5_c_mean': 0.0001833460932137685,\n",
       " 'sigma_5_c_std': 0.000138864879239933,\n",
       " 'sigma_5_c_median': 0.0001442262925413705,\n",
       " 'max_error': 0.007569498762680977,\n",
       " 'sigma_2_mean': nan,\n",
       " 'sigma_2_std': nan,\n",
       " 'sigma_2_median': nan,\n",
       " 'sigma_2_c_mean': nan,\n",
       " 'sigma_2_c_std': nan,\n",
       " 'sigma_2_c_median': nan}"
      ]
     },
     "metadata": {},
     "execution_count": 64
    }
   ],
   "source": [
    "#pd.DataFrame(nn_df.iloc[-16]).to_dict().items\n",
    "nn_df.iloc[-16].to_dict()\n",
    "#pd.Timestamp(nn_df.iloc[-16].name).to_julian_date()"
   ]
  },
  {
   "cell_type": "code",
   "execution_count": null,
   "metadata": {},
   "outputs": [],
   "source": []
  }
 ]
}