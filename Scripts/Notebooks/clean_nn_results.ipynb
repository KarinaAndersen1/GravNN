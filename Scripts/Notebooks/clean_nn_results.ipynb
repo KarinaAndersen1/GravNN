{
 "metadata": {
  "language_info": {
   "codemirror_mode": {
    "name": "ipython",
    "version": 3
   },
   "file_extension": ".py",
   "mimetype": "text/x-python",
   "name": "python",
   "nbconvert_exporter": "python",
   "pygments_lexer": "ipython3",
   "version": "3.7.9-final"
  },
  "orig_nbformat": 2,
  "kernelspec": {
   "name": "Python 3.7.9 64-bit",
   "display_name": "Python 3.7.9 64-bit",
   "metadata": {
    "interpreter": {
     "hash": "35e3af59d3e06b5bab0f409a858e458c29f9e188770119e2e5e93795b5d1e9ba"
    }
   }
  }
 },
 "nbformat": 4,
 "nbformat_minor": 2,
 "cells": [
  {
   "cell_type": "code",
   "execution_count": 1,
   "metadata": {},
   "outputs": [],
   "source": [
    "import pandas as pd"
   ]
  },
  {
   "cell_type": "code",
   "execution_count": 2,
   "metadata": {},
   "outputs": [],
   "source": [
    "nn_df = pd.read_pickle('C:\\\\Users\\\\John\\\\Documents\\\\Research\\\\ML_Gravity\\\\continuous_results.data')"
   ]
  },
  {
   "cell_type": "code",
   "execution_count": 9,
   "metadata": {},
   "outputs": [],
   "source": [
    "df_file = 'C:\\\\Users\\\\John\\\\Documents\\\\Research\\\\ML_Gravity\\\\continuous_results.data'\n",
    "nn_df.to_pickle(df_file)"
   ]
  },
  {
   "cell_type": "code",
   "execution_count": 8,
   "metadata": {},
   "outputs": [],
   "source": [
    "nn_df = nn_df.drop(index=nn_df.iloc[-11:-4].index)"
   ]
  },
  {
   "cell_type": "code",
   "execution_count": 7,
   "metadata": {},
   "outputs": [
    {
     "output_type": "execute_result",
     "data": {
      "text/plain": [
       "                         PINN_flag  N_train  degree  \\\n",
       "timetag                                               \n",
       "Tue Nov  3 22:19:25 2020      True    40000    1000   \n",
       "Sun Nov 15 00:03:36 2020     False    40000    1000   \n",
       "Sun Nov 15 00:47:03 2020     False    40000    1000   \n",
       "Sun Nov 15 01:48:33 2020     False    40000    1000   \n",
       "Sun Nov 15 03:06:23 2020      True    40000    1000   \n",
       "Sun Nov 15 03:32:56 2020     False    40000    1000   \n",
       "Sun Nov 15 04:38:13 2020      True    40000    1000   \n",
       "Sun Nov 15 05:18:18 2020     False    40000    1000   \n",
       "\n",
       "                                                          layers  epochs  \\\n",
       "timetag                                                                    \n",
       "Tue Nov  3 22:19:25 2020  [3, 20, 20, 20, 20, 20, 20, 20, 20, 1]  200000   \n",
       "Sun Nov 15 00:03:36 2020  [3, 20, 20, 20, 20, 20, 20, 20, 20, 3]  200000   \n",
       "Sun Nov 15 00:47:03 2020  [3, 20, 20, 20, 20, 20, 20, 20, 20, 3]  200000   \n",
       "Sun Nov 15 01:48:33 2020  [3, 20, 20, 20, 20, 20, 20, 20, 20, 3]  200000   \n",
       "Sun Nov 15 03:06:23 2020  [3, 20, 20, 20, 20, 20, 20, 20, 20, 1]  200000   \n",
       "Sun Nov 15 03:32:56 2020  [3, 20, 20, 20, 20, 20, 20, 20, 20, 3]  200000   \n",
       "Sun Nov 15 04:38:13 2020  [3, 20, 20, 20, 20, 20, 20, 20, 20, 1]  200000   \n",
       "Sun Nov 15 05:18:18 2020  [3, 20, 20, 20, 20, 20, 20, 20, 20, 3]  200000   \n",
       "\n",
       "                          params  trajectory  radius_min  radius_max  \\\n",
       "timetag                                                                \n",
       "Tue Nov  3 22:19:25 2020    3041  RandomDist   6378136.6   6378146.6   \n",
       "Sun Nov 15 00:03:36 2020    3083  RandomDist   6378136.6   6378146.6   \n",
       "Sun Nov 15 00:47:03 2020    3083  RandomDist   6378136.6   6378146.6   \n",
       "Sun Nov 15 01:48:33 2020    3083  RandomDist   6378136.6   6378146.6   \n",
       "Sun Nov 15 03:06:23 2020    3041  RandomDist   6378136.6   6378146.6   \n",
       "Sun Nov 15 03:32:56 2020    3083  RandomDist   6378136.6   6378146.6   \n",
       "Sun Nov 15 04:38:13 2020    3041  RandomDist   6378136.6   6378146.6   \n",
       "Sun Nov 15 05:18:18 2020    3083  RandomDist   6378136.6   6378146.6   \n",
       "\n",
       "                          train_time  ...  sigma_5_c_std  sigma_5_c_median  \\\n",
       "timetag                               ...                                    \n",
       "Tue Nov  3 22:19:25 2020     3859.85  ...            NaN               NaN   \n",
       "Sun Nov 15 00:03:36 2020     1414.69  ...            NaN               NaN   \n",
       "Sun Nov 15 00:47:03 2020     1445.20  ...            NaN               NaN   \n",
       "Sun Nov 15 01:48:33 2020     1539.05  ...            NaN               NaN   \n",
       "Sun Nov 15 03:06:23 2020     4651.92  ...            NaN               NaN   \n",
       "Sun Nov 15 03:32:56 2020     1582.47  ...            NaN               NaN   \n",
       "Sun Nov 15 04:38:13 2020     3900.03  ...            NaN               NaN   \n",
       "Sun Nov 15 05:18:18 2020     1452.52  ...            NaN               NaN   \n",
       "\n",
       "                          max_error  sigma_2_mean  sigma_2_std  \\\n",
       "timetag                                                          \n",
       "Tue Nov  3 22:19:25 2020   0.007859      0.001038     0.000543   \n",
       "Sun Nov 15 00:03:36 2020   0.007684      0.000992     0.000616   \n",
       "Sun Nov 15 00:47:03 2020   0.006531      0.000992     0.000598   \n",
       "Sun Nov 15 01:48:33 2020   0.007441      0.001015     0.000604   \n",
       "Sun Nov 15 03:06:23 2020   0.013711      0.000994     0.000718   \n",
       "Sun Nov 15 03:32:56 2020   0.008148      0.001103     0.000549   \n",
       "Sun Nov 15 04:38:13 2020   0.007839      0.001228     0.000515   \n",
       "Sun Nov 15 05:18:18 2020   0.006950      0.001005     0.000609   \n",
       "\n",
       "                          sigma_2_median  sigma_2_c_mean  sigma_2_c_std  \\\n",
       "timetag                                                                   \n",
       "Tue Nov  3 22:19:25 2020        0.000948        0.000177       0.000150   \n",
       "Sun Nov 15 00:03:36 2020        0.000869        0.000179       0.000149   \n",
       "Sun Nov 15 00:47:03 2020        0.000871        0.000179       0.000151   \n",
       "Sun Nov 15 01:48:33 2020        0.000894        0.000180       0.000153   \n",
       "Sun Nov 15 03:06:23 2020        0.000852        0.000170       0.000168   \n",
       "Sun Nov 15 03:32:56 2020        0.001010        0.000180       0.000150   \n",
       "Sun Nov 15 04:38:13 2020        0.001124        0.000201       0.000152   \n",
       "Sun Nov 15 05:18:18 2020        0.000886        0.000180       0.000152   \n",
       "\n",
       "                          sigma_2_c_median  \\\n",
       "timetag                                      \n",
       "Tue Nov  3 22:19:25 2020          0.000133   \n",
       "Sun Nov 15 00:03:36 2020          0.000137   \n",
       "Sun Nov 15 00:47:03 2020          0.000135   \n",
       "Sun Nov 15 01:48:33 2020          0.000137   \n",
       "Sun Nov 15 03:06:23 2020          0.000125   \n",
       "Sun Nov 15 03:32:56 2020          0.000136   \n",
       "Sun Nov 15 04:38:13 2020          0.000159   \n",
       "Sun Nov 15 05:18:18 2020          0.000137   \n",
       "\n",
       "                                                                      notes  \n",
       "timetag                                                                      \n",
       "Tue Nov  3 22:19:25 2020  PINN - Only use automatic differentiation for acc  \n",
       "Sun Nov 15 00:03:36 2020  Fresh round of analysis with loss plots and pr...  \n",
       "Sun Nov 15 00:47:03 2020  Fresh round of analysis with loss plots and pr...  \n",
       "Sun Nov 15 01:48:33 2020  Fresh round of analysis with loss plots and pr...  \n",
       "Sun Nov 15 03:06:23 2020                                                     \n",
       "Sun Nov 15 03:32:56 2020         Attempting removing no spherical harmonics  \n",
       "Sun Nov 15 04:38:13 2020                                                     \n",
       "Sun Nov 15 05:18:18 2020  Fresh round of analysis with loss plots and pr...  \n",
       "\n",
       "[8 rows x 46 columns]"
      ],
      "text/html": "<div>\n<style scoped>\n    .dataframe tbody tr th:only-of-type {\n        vertical-align: middle;\n    }\n\n    .dataframe tbody tr th {\n        vertical-align: top;\n    }\n\n    .dataframe thead th {\n        text-align: right;\n    }\n</style>\n<table border=\"1\" class=\"dataframe\">\n  <thead>\n    <tr style=\"text-align: right;\">\n      <th></th>\n      <th>PINN_flag</th>\n      <th>N_train</th>\n      <th>degree</th>\n      <th>layers</th>\n      <th>epochs</th>\n      <th>params</th>\n      <th>trajectory</th>\n      <th>radius_min</th>\n      <th>radius_max</th>\n      <th>train_time</th>\n      <th>...</th>\n      <th>sigma_5_c_std</th>\n      <th>sigma_5_c_median</th>\n      <th>max_error</th>\n      <th>sigma_2_mean</th>\n      <th>sigma_2_std</th>\n      <th>sigma_2_median</th>\n      <th>sigma_2_c_mean</th>\n      <th>sigma_2_c_std</th>\n      <th>sigma_2_c_median</th>\n      <th>notes</th>\n    </tr>\n    <tr>\n      <th>timetag</th>\n      <th></th>\n      <th></th>\n      <th></th>\n      <th></th>\n      <th></th>\n      <th></th>\n      <th></th>\n      <th></th>\n      <th></th>\n      <th></th>\n      <th></th>\n      <th></th>\n      <th></th>\n      <th></th>\n      <th></th>\n      <th></th>\n      <th></th>\n      <th></th>\n      <th></th>\n      <th></th>\n      <th></th>\n    </tr>\n  </thead>\n  <tbody>\n    <tr>\n      <th>Tue Nov  3 22:19:25 2020</th>\n      <td>True</td>\n      <td>40000</td>\n      <td>1000</td>\n      <td>[3, 20, 20, 20, 20, 20, 20, 20, 20, 1]</td>\n      <td>200000</td>\n      <td>3041</td>\n      <td>RandomDist</td>\n      <td>6378136.6</td>\n      <td>6378146.6</td>\n      <td>3859.85</td>\n      <td>...</td>\n      <td>NaN</td>\n      <td>NaN</td>\n      <td>0.007859</td>\n      <td>0.001038</td>\n      <td>0.000543</td>\n      <td>0.000948</td>\n      <td>0.000177</td>\n      <td>0.000150</td>\n      <td>0.000133</td>\n      <td>PINN - Only use automatic differentiation for acc</td>\n    </tr>\n    <tr>\n      <th>Sun Nov 15 00:03:36 2020</th>\n      <td>False</td>\n      <td>40000</td>\n      <td>1000</td>\n      <td>[3, 20, 20, 20, 20, 20, 20, 20, 20, 3]</td>\n      <td>200000</td>\n      <td>3083</td>\n      <td>RandomDist</td>\n      <td>6378136.6</td>\n      <td>6378146.6</td>\n      <td>1414.69</td>\n      <td>...</td>\n      <td>NaN</td>\n      <td>NaN</td>\n      <td>0.007684</td>\n      <td>0.000992</td>\n      <td>0.000616</td>\n      <td>0.000869</td>\n      <td>0.000179</td>\n      <td>0.000149</td>\n      <td>0.000137</td>\n      <td>Fresh round of analysis with loss plots and pr...</td>\n    </tr>\n    <tr>\n      <th>Sun Nov 15 00:47:03 2020</th>\n      <td>False</td>\n      <td>40000</td>\n      <td>1000</td>\n      <td>[3, 20, 20, 20, 20, 20, 20, 20, 20, 3]</td>\n      <td>200000</td>\n      <td>3083</td>\n      <td>RandomDist</td>\n      <td>6378136.6</td>\n      <td>6378146.6</td>\n      <td>1445.20</td>\n      <td>...</td>\n      <td>NaN</td>\n      <td>NaN</td>\n      <td>0.006531</td>\n      <td>0.000992</td>\n      <td>0.000598</td>\n      <td>0.000871</td>\n      <td>0.000179</td>\n      <td>0.000151</td>\n      <td>0.000135</td>\n      <td>Fresh round of analysis with loss plots and pr...</td>\n    </tr>\n    <tr>\n      <th>Sun Nov 15 01:48:33 2020</th>\n      <td>False</td>\n      <td>40000</td>\n      <td>1000</td>\n      <td>[3, 20, 20, 20, 20, 20, 20, 20, 20, 3]</td>\n      <td>200000</td>\n      <td>3083</td>\n      <td>RandomDist</td>\n      <td>6378136.6</td>\n      <td>6378146.6</td>\n      <td>1539.05</td>\n      <td>...</td>\n      <td>NaN</td>\n      <td>NaN</td>\n      <td>0.007441</td>\n      <td>0.001015</td>\n      <td>0.000604</td>\n      <td>0.000894</td>\n      <td>0.000180</td>\n      <td>0.000153</td>\n      <td>0.000137</td>\n      <td>Fresh round of analysis with loss plots and pr...</td>\n    </tr>\n    <tr>\n      <th>Sun Nov 15 03:06:23 2020</th>\n      <td>True</td>\n      <td>40000</td>\n      <td>1000</td>\n      <td>[3, 20, 20, 20, 20, 20, 20, 20, 20, 1]</td>\n      <td>200000</td>\n      <td>3041</td>\n      <td>RandomDist</td>\n      <td>6378136.6</td>\n      <td>6378146.6</td>\n      <td>4651.92</td>\n      <td>...</td>\n      <td>NaN</td>\n      <td>NaN</td>\n      <td>0.013711</td>\n      <td>0.000994</td>\n      <td>0.000718</td>\n      <td>0.000852</td>\n      <td>0.000170</td>\n      <td>0.000168</td>\n      <td>0.000125</td>\n      <td></td>\n    </tr>\n    <tr>\n      <th>Sun Nov 15 03:32:56 2020</th>\n      <td>False</td>\n      <td>40000</td>\n      <td>1000</td>\n      <td>[3, 20, 20, 20, 20, 20, 20, 20, 20, 3]</td>\n      <td>200000</td>\n      <td>3083</td>\n      <td>RandomDist</td>\n      <td>6378136.6</td>\n      <td>6378146.6</td>\n      <td>1582.47</td>\n      <td>...</td>\n      <td>NaN</td>\n      <td>NaN</td>\n      <td>0.008148</td>\n      <td>0.001103</td>\n      <td>0.000549</td>\n      <td>0.001010</td>\n      <td>0.000180</td>\n      <td>0.000150</td>\n      <td>0.000136</td>\n      <td>Attempting removing no spherical harmonics</td>\n    </tr>\n    <tr>\n      <th>Sun Nov 15 04:38:13 2020</th>\n      <td>True</td>\n      <td>40000</td>\n      <td>1000</td>\n      <td>[3, 20, 20, 20, 20, 20, 20, 20, 20, 1]</td>\n      <td>200000</td>\n      <td>3041</td>\n      <td>RandomDist</td>\n      <td>6378136.6</td>\n      <td>6378146.6</td>\n      <td>3900.03</td>\n      <td>...</td>\n      <td>NaN</td>\n      <td>NaN</td>\n      <td>0.007839</td>\n      <td>0.001228</td>\n      <td>0.000515</td>\n      <td>0.001124</td>\n      <td>0.000201</td>\n      <td>0.000152</td>\n      <td>0.000159</td>\n      <td></td>\n    </tr>\n    <tr>\n      <th>Sun Nov 15 05:18:18 2020</th>\n      <td>False</td>\n      <td>40000</td>\n      <td>1000</td>\n      <td>[3, 20, 20, 20, 20, 20, 20, 20, 20, 3]</td>\n      <td>200000</td>\n      <td>3083</td>\n      <td>RandomDist</td>\n      <td>6378136.6</td>\n      <td>6378146.6</td>\n      <td>1452.52</td>\n      <td>...</td>\n      <td>NaN</td>\n      <td>NaN</td>\n      <td>0.006950</td>\n      <td>0.001005</td>\n      <td>0.000609</td>\n      <td>0.000886</td>\n      <td>0.000180</td>\n      <td>0.000152</td>\n      <td>0.000137</td>\n      <td>Fresh round of analysis with loss plots and pr...</td>\n    </tr>\n  </tbody>\n</table>\n<p>8 rows × 46 columns</p>\n</div>"
     },
     "metadata": {},
     "execution_count": 7
    }
   ],
   "source": [
    "nn_df.iloc[-11:-4]"
   ]
  },
  {
   "cell_type": "code",
   "execution_count": 16,
   "metadata": {},
   "outputs": [
    {
     "output_type": "execute_result",
     "data": {
      "text/plain": [
       "dict_keys(['PINN_flag', 'N_train', 'degree', 'layers', 'epochs', 'params', 'trajectory', 'radius_min', 'radius_max', 'train_time', 'rse_mean', 'rse_std', 'rse_median', 'rse_a0_mean', 'rse_a1_mean', 'rse_a2_mean', 'percent_rel_mean', 'percent_rel_std', 'percent_rel_median', 'percent_rel_a0_mean', 'percent_rel_a1_mean', 'percent_rel_a2_mean', 'activation', 'acc_noise', 'deg_removed', 'init_file', 'sigma_3_mean', 'sigma_3_std', 'sigma_3_median', 'sigma_3_c_mean', 'sigma_3_c_std', 'sigma_3_c_median', 'sigma_5_mean', 'sigma_5_std', 'sigma_5_median', 'sigma_5_c_mean', 'sigma_5_c_std', 'sigma_5_c_median', 'max_error', 'sigma_2_mean', 'sigma_2_std', 'sigma_2_median', 'sigma_2_c_mean', 'sigma_2_c_std', 'sigma_2_c_median'])"
      ]
     },
     "metadata": {},
     "execution_count": 16
    }
   ],
   "source": [
    "nn_df.iloc[-16:].to_dict().keys()\n"
   ]
  },
  {
   "cell_type": "code",
   "execution_count": 64,
   "metadata": {},
   "outputs": [
    {
     "output_type": "execute_result",
     "data": {
      "text/plain": [
       "{'PINN_flag': False,\n",
       " 'N_train': 40000,\n",
       " 'degree': 1000,\n",
       " 'layers': [3, 20, 20, 20, 20, 20, 20, 20, 20, 4],\n",
       " 'epochs': 200000,\n",
       " 'params': 3104,\n",
       " 'trajectory': 'RandomDist',\n",
       " 'radius_min': 6378136.6,\n",
       " 'radius_max': 6378146.6,\n",
       " 'train_time': 1138.63,\n",
       " 'rse_mean': 0.00010872147911923118,\n",
       " 'rse_std': 0.00015000811563881136,\n",
       " 'rse_median': 6.551523660530689e-05,\n",
       " 'rse_a0_mean': 0.00010743601123903129,\n",
       " 'rse_a1_mean': 0.00010576039776439521,\n",
       " 'rse_a2_mean': 0.00011296802835426709,\n",
       " 'percent_rel_mean': 607.7534445441718,\n",
       " 'percent_rel_std': 126069.7315502246,\n",
       " 'percent_rel_median': 54.85115046187299,\n",
       " 'percent_rel_a0_mean': 431.73429331700714,\n",
       " 'percent_rel_a1_mean': 913.1726235990556,\n",
       " 'percent_rel_a2_mean': 478.35341671645324,\n",
       " 'activation': 'tanh',\n",
       " 'acc_noise': 0.0,\n",
       " 'deg_removed': 2.0,\n",
       " 'init_file': None,\n",
       " 'sigma_3_mean': 0.0009501298954571741,\n",
       " 'sigma_3_std': 0.0005102438270765529,\n",
       " 'sigma_3_median': 0.0008527087378083034,\n",
       " 'sigma_3_c_mean': 0.0001833460932137685,\n",
       " 'sigma_3_c_std': 0.000138864879239933,\n",
       " 'sigma_3_c_median': 0.0001442262925413705,\n",
       " 'sigma_5_mean': 0.001396607693199038,\n",
       " 'sigma_5_std': 0.000591190719106921,\n",
       " 'sigma_5_median': 0.0013411257728099522,\n",
       " 'sigma_5_c_mean': 0.0001833460932137685,\n",
       " 'sigma_5_c_std': 0.000138864879239933,\n",
       " 'sigma_5_c_median': 0.0001442262925413705,\n",
       " 'max_error': 0.007569498762680977,\n",
       " 'sigma_2_mean': nan,\n",
       " 'sigma_2_std': nan,\n",
       " 'sigma_2_median': nan,\n",
       " 'sigma_2_c_mean': nan,\n",
       " 'sigma_2_c_std': nan,\n",
       " 'sigma_2_c_median': nan}"
      ]
     },
     "metadata": {},
     "execution_count": 64
    }
   ],
   "source": [
    "#pd.DataFrame(nn_df.iloc[-16]).to_dict().items\n",
    "nn_df.iloc[-16].to_dict()\n",
    "#pd.Timestamp(nn_df.iloc[-16].name).to_julian_date()"
   ]
  },
  {
   "cell_type": "code",
   "execution_count": null,
   "metadata": {},
   "outputs": [],
   "source": []
  }
 ]
}