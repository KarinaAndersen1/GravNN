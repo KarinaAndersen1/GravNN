{
 "cells": [
  {
   "cell_type": "code",
   "execution_count": 1,
   "metadata": {},
   "outputs": [],
   "source": [
    "import pandas as pd\n",
    "import numpy as np\n",
    "import tensorflow as tf\n",
    "from GravNN.Networks.Networks import ResNet, TraditionalNet"
   ]
  },
  {
   "cell_type": "code",
   "execution_count": 29,
   "metadata": {},
   "outputs": [],
   "source": [
    "df_10 = pd.read_pickle('C:\\\\Users\\\\John\\\\Documents\\\\Research\\\\ML_Gravity\\\\Data\\\\Dataframes\\\\hyperparameter_earth_10_v1.data')"
   ]
  },
  {
   "cell_type": "code",
   "execution_count": 8,
   "metadata": {},
   "outputs": [],
   "source": [
    "df_20 = pd.read_pickle('C:\\\\Users\\\\John\\\\Documents\\\\Research\\\\ML_Gravity\\\\Data\\\\Dataframes\\\\hyperparameter_earth_v5.data')"
   ]
  },
  {
   "cell_type": "code",
   "execution_count": null,
   "metadata": {},
   "outputs": [],
   "source": [
    "df_40 = pd.read_pickle('C:\\\\Users\\\\John\\\\Documents\\\\Research\\\\ML_Gravity\\\\Data\\\\Dataframes\\\\hyperparameter_earth_40_v2.data')"
   ]
  },
  {
   "cell_type": "code",
   "execution_count": null,
   "metadata": {},
   "outputs": [],
   "source": [
    "df_80 = pd.read_pickle('C:\\\\Users\\\\John\\\\Documents\\\\Research\\\\ML_Gravity\\\\Data\\\\Dataframes\\\\hyperparameter_earth_80_v1.data')"
   ]
  },
  {
   "cell_type": "code",
   "execution_count": 9,
   "metadata": {},
   "outputs": [
    {
     "data": {
      "text/html": [
       "<div>\n",
       "<style scoped>\n",
       "    .dataframe tbody tr th:only-of-type {\n",
       "        vertical-align: middle;\n",
       "    }\n",
       "\n",
       "    .dataframe tbody tr th {\n",
       "        vertical-align: top;\n",
       "    }\n",
       "\n",
       "    .dataframe thead th {\n",
       "        text-align: right;\n",
       "    }\n",
       "</style>\n",
       "<table border=\"1\" class=\"dataframe\">\n",
       "  <thead>\n",
       "    <tr style=\"text-align: right;\">\n",
       "      <th></th>\n",
       "      <th>params</th>\n",
       "      <th>epochs</th>\n",
       "      <th>Brillouin_param_rse_mean</th>\n",
       "      <th>Brillouin_param_sigma_2_mean</th>\n",
       "      <th>batch_size</th>\n",
       "      <th>decay_rate_epoch</th>\n",
       "      <th>learning_rate</th>\n",
       "      <th>decay_rate</th>\n",
       "      <th>activation</th>\n",
       "    </tr>\n",
       "    <tr>\n",
       "      <th>timetag</th>\n",
       "      <th></th>\n",
       "      <th></th>\n",
       "      <th></th>\n",
       "      <th></th>\n",
       "      <th></th>\n",
       "      <th></th>\n",
       "      <th></th>\n",
       "      <th></th>\n",
       "      <th></th>\n",
       "    </tr>\n",
       "  </thead>\n",
       "  <tbody>\n",
       "    <tr>\n",
       "      <th>Fri Apr  9 18:57:26 2021</th>\n",
       "      <td>3083</td>\n",
       "      <td>300000</td>\n",
       "      <td>46.0</td>\n",
       "      <td>69.0</td>\n",
       "      <td>131072</td>\n",
       "      <td>5000000000</td>\n",
       "      <td>0.02</td>\n",
       "      <td>2.0</td>\n",
       "      <td>gelu</td>\n",
       "    </tr>\n",
       "    <tr>\n",
       "      <th>Fri Apr  9 19:07:08 2021</th>\n",
       "      <td>3083</td>\n",
       "      <td>300000</td>\n",
       "      <td>49.0</td>\n",
       "      <td>73.0</td>\n",
       "      <td>131072</td>\n",
       "      <td>150000</td>\n",
       "      <td>0.02</td>\n",
       "      <td>2.0</td>\n",
       "      <td>gelu</td>\n",
       "    </tr>\n",
       "    <tr>\n",
       "      <th>Sun Apr 11 05:16:08 2021</th>\n",
       "      <td>3083</td>\n",
       "      <td>100000</td>\n",
       "      <td>49.0</td>\n",
       "      <td>75.0</td>\n",
       "      <td>1048576</td>\n",
       "      <td>5000</td>\n",
       "      <td>0.02</td>\n",
       "      <td>2.0</td>\n",
       "      <td>gelu</td>\n",
       "    </tr>\n",
       "    <tr>\n",
       "      <th>Sun Apr 11 10:44:55 2021</th>\n",
       "      <td>3083</td>\n",
       "      <td>100000</td>\n",
       "      <td>50.0</td>\n",
       "      <td>72.0</td>\n",
       "      <td>1048576</td>\n",
       "      <td>15000</td>\n",
       "      <td>0.02</td>\n",
       "      <td>2.0</td>\n",
       "      <td>gelu</td>\n",
       "    </tr>\n",
       "    <tr>\n",
       "      <th>Fri Apr  9 17:32:55 2021</th>\n",
       "      <td>3083</td>\n",
       "      <td>300000</td>\n",
       "      <td>51.0</td>\n",
       "      <td>81.0</td>\n",
       "      <td>131072</td>\n",
       "      <td>100000</td>\n",
       "      <td>0.02</td>\n",
       "      <td>2.0</td>\n",
       "      <td>gelu</td>\n",
       "    </tr>\n",
       "    <tr>\n",
       "      <th>Fri Apr  9 18:44:21 2021</th>\n",
       "      <td>3083</td>\n",
       "      <td>300000</td>\n",
       "      <td>52.0</td>\n",
       "      <td>78.0</td>\n",
       "      <td>131072</td>\n",
       "      <td>50000</td>\n",
       "      <td>0.02</td>\n",
       "      <td>2.0</td>\n",
       "      <td>gelu</td>\n",
       "    </tr>\n",
       "    <tr>\n",
       "      <th>Sat Apr 10 08:10:30 2021</th>\n",
       "      <td>3083</td>\n",
       "      <td>50000</td>\n",
       "      <td>53.0</td>\n",
       "      <td>79.0</td>\n",
       "      <td>131072</td>\n",
       "      <td>50000</td>\n",
       "      <td>0.02</td>\n",
       "      <td>2.0</td>\n",
       "      <td>gelu</td>\n",
       "    </tr>\n",
       "  </tbody>\n",
       "</table>\n",
       "</div>"
      ],
      "text/plain": [
       "                          params  epochs  Brillouin_param_rse_mean  \\\n",
       "timetag                                                              \n",
       "Fri Apr  9 18:57:26 2021    3083  300000                      46.0   \n",
       "Fri Apr  9 19:07:08 2021    3083  300000                      49.0   \n",
       "Sun Apr 11 05:16:08 2021    3083  100000                      49.0   \n",
       "Sun Apr 11 10:44:55 2021    3083  100000                      50.0   \n",
       "Fri Apr  9 17:32:55 2021    3083  300000                      51.0   \n",
       "Fri Apr  9 18:44:21 2021    3083  300000                      52.0   \n",
       "Sat Apr 10 08:10:30 2021    3083   50000                      53.0   \n",
       "\n",
       "                          Brillouin_param_sigma_2_mean  batch_size  \\\n",
       "timetag                                                              \n",
       "Fri Apr  9 18:57:26 2021                          69.0      131072   \n",
       "Fri Apr  9 19:07:08 2021                          73.0      131072   \n",
       "Sun Apr 11 05:16:08 2021                          75.0     1048576   \n",
       "Sun Apr 11 10:44:55 2021                          72.0     1048576   \n",
       "Fri Apr  9 17:32:55 2021                          81.0      131072   \n",
       "Fri Apr  9 18:44:21 2021                          78.0      131072   \n",
       "Sat Apr 10 08:10:30 2021                          79.0      131072   \n",
       "\n",
       "                          decay_rate_epoch  learning_rate  decay_rate  \\\n",
       "timetag                                                                 \n",
       "Fri Apr  9 18:57:26 2021        5000000000           0.02         2.0   \n",
       "Fri Apr  9 19:07:08 2021            150000           0.02         2.0   \n",
       "Sun Apr 11 05:16:08 2021              5000           0.02         2.0   \n",
       "Sun Apr 11 10:44:55 2021             15000           0.02         2.0   \n",
       "Fri Apr  9 17:32:55 2021            100000           0.02         2.0   \n",
       "Fri Apr  9 18:44:21 2021             50000           0.02         2.0   \n",
       "Sat Apr 10 08:10:30 2021             50000           0.02         2.0   \n",
       "\n",
       "                         activation  \n",
       "timetag                              \n",
       "Fri Apr  9 18:57:26 2021       gelu  \n",
       "Fri Apr  9 19:07:08 2021       gelu  \n",
       "Sun Apr 11 05:16:08 2021       gelu  \n",
       "Sun Apr 11 10:44:55 2021       gelu  \n",
       "Fri Apr  9 17:32:55 2021       gelu  \n",
       "Fri Apr  9 18:44:21 2021       gelu  \n",
       "Sat Apr 10 08:10:30 2021       gelu  "
      ]
     },
     "execution_count": 9,
     "metadata": {},
     "output_type": "execute_result"
    }
   ],
   "source": [
    "df_20[['params', 'epochs','Brillouin_param_rse_mean', 'Brillouin_param_sigma_2_mean', 'batch_size', 'decay_rate_epoch','learning_rate', 'decay_rate', 'activation']].sort_values(by='Brillouin_param_rse_mean')"
   ]
  },
  {
   "cell_type": "code",
   "execution_count": 6,
   "metadata": {},
   "outputs": [
    {
     "data": {
      "text/html": [
       "<div>\n",
       "<style scoped>\n",
       "    .dataframe tbody tr th:only-of-type {\n",
       "        vertical-align: middle;\n",
       "    }\n",
       "\n",
       "    .dataframe tbody tr th {\n",
       "        vertical-align: top;\n",
       "    }\n",
       "\n",
       "    .dataframe thead th {\n",
       "        text-align: right;\n",
       "    }\n",
       "</style>\n",
       "<table border=\"1\" class=\"dataframe\">\n",
       "  <thead>\n",
       "    <tr style=\"text-align: right;\">\n",
       "      <th></th>\n",
       "      <th>params</th>\n",
       "      <th>epochs</th>\n",
       "      <th>Brillouin_param_rse_mean</th>\n",
       "      <th>Brillouin_param_sigma_2_mean</th>\n",
       "      <th>batch_size</th>\n",
       "      <th>decay_rate_epoch</th>\n",
       "      <th>learning_rate</th>\n",
       "      <th>decay_rate</th>\n",
       "      <th>activation</th>\n",
       "    </tr>\n",
       "    <tr>\n",
       "      <th>timetag</th>\n",
       "      <th></th>\n",
       "      <th></th>\n",
       "      <th></th>\n",
       "      <th></th>\n",
       "      <th></th>\n",
       "      <th></th>\n",
       "      <th></th>\n",
       "      <th></th>\n",
       "      <th></th>\n",
       "    </tr>\n",
       "  </thead>\n",
       "  <tbody>\n",
       "    <tr>\n",
       "      <th>Tue Apr 13 02:01:02 2021</th>\n",
       "      <td>11763</td>\n",
       "      <td>100000</td>\n",
       "      <td>89.0</td>\n",
       "      <td>109.0</td>\n",
       "      <td>262144</td>\n",
       "      <td>25000</td>\n",
       "      <td>0.005</td>\n",
       "      <td>2.0</td>\n",
       "      <td>tanh</td>\n",
       "    </tr>\n",
       "    <tr>\n",
       "      <th>Tue Apr 13 02:21:44 2021</th>\n",
       "      <td>11763</td>\n",
       "      <td>100000</td>\n",
       "      <td>106.0</td>\n",
       "      <td>136.0</td>\n",
       "      <td>262144</td>\n",
       "      <td>25000</td>\n",
       "      <td>0.005</td>\n",
       "      <td>2.0</td>\n",
       "      <td>gelu</td>\n",
       "    </tr>\n",
       "  </tbody>\n",
       "</table>\n",
       "</div>"
      ],
      "text/plain": [
       "                          params  epochs  Brillouin_param_rse_mean  \\\n",
       "timetag                                                              \n",
       "Tue Apr 13 02:01:02 2021   11763  100000                      89.0   \n",
       "Tue Apr 13 02:21:44 2021   11763  100000                     106.0   \n",
       "\n",
       "                          Brillouin_param_sigma_2_mean  batch_size  \\\n",
       "timetag                                                              \n",
       "Tue Apr 13 02:01:02 2021                         109.0      262144   \n",
       "Tue Apr 13 02:21:44 2021                         136.0      262144   \n",
       "\n",
       "                          decay_rate_epoch  learning_rate  decay_rate  \\\n",
       "timetag                                                                 \n",
       "Tue Apr 13 02:01:02 2021             25000          0.005         2.0   \n",
       "Tue Apr 13 02:21:44 2021             25000          0.005         2.0   \n",
       "\n",
       "                         activation  \n",
       "timetag                              \n",
       "Tue Apr 13 02:01:02 2021       tanh  \n",
       "Tue Apr 13 02:21:44 2021       gelu  "
      ]
     },
     "execution_count": 6,
     "metadata": {},
     "output_type": "execute_result"
    }
   ],
   "source": [
    "df_40[['params', 'epochs','Brillouin_param_rse_mean', 'Brillouin_param_sigma_2_mean', 'batch_size', 'decay_rate_epoch','learning_rate', 'decay_rate', 'activation']].sort_values(by='Brillouin_param_rse_mean')"
   ]
  },
  {
   "cell_type": "code",
   "execution_count": 10,
   "metadata": {},
   "outputs": [
    {
     "data": {
      "text/html": [
       "<div>\n",
       "<style scoped>\n",
       "    .dataframe tbody tr th:only-of-type {\n",
       "        vertical-align: middle;\n",
       "    }\n",
       "\n",
       "    .dataframe tbody tr th {\n",
       "        vertical-align: top;\n",
       "    }\n",
       "\n",
       "    .dataframe thead th {\n",
       "        text-align: right;\n",
       "    }\n",
       "</style>\n",
       "<table border=\"1\" class=\"dataframe\">\n",
       "  <thead>\n",
       "    <tr style=\"text-align: right;\">\n",
       "      <th></th>\n",
       "      <th>params</th>\n",
       "      <th>epochs</th>\n",
       "      <th>Brillouin_param_rse_mean</th>\n",
       "      <th>Brillouin_param_sigma_2_mean</th>\n",
       "      <th>batch_size</th>\n",
       "      <th>decay_rate_epoch</th>\n",
       "      <th>learning_rate</th>\n",
       "      <th>decay_rate</th>\n",
       "      <th>activation</th>\n",
       "    </tr>\n",
       "    <tr>\n",
       "      <th>timetag</th>\n",
       "      <th></th>\n",
       "      <th></th>\n",
       "      <th></th>\n",
       "      <th></th>\n",
       "      <th></th>\n",
       "      <th></th>\n",
       "      <th></th>\n",
       "      <th></th>\n",
       "      <th></th>\n",
       "    </tr>\n",
       "  </thead>\n",
       "  <tbody>\n",
       "    <tr>\n",
       "      <th>Tue Apr 13 17:04:00 2021</th>\n",
       "      <td>45923</td>\n",
       "      <td>100000</td>\n",
       "      <td>158.0</td>\n",
       "      <td>193.0</td>\n",
       "      <td>262144</td>\n",
       "      <td>25000</td>\n",
       "      <td>0.005</td>\n",
       "      <td>2.0</td>\n",
       "      <td>gelu</td>\n",
       "    </tr>\n",
       "  </tbody>\n",
       "</table>\n",
       "</div>"
      ],
      "text/plain": [
       "                          params  epochs  Brillouin_param_rse_mean  \\\n",
       "timetag                                                              \n",
       "Tue Apr 13 17:04:00 2021   45923  100000                     158.0   \n",
       "\n",
       "                          Brillouin_param_sigma_2_mean  batch_size  \\\n",
       "timetag                                                              \n",
       "Tue Apr 13 17:04:00 2021                         193.0      262144   \n",
       "\n",
       "                          decay_rate_epoch  learning_rate  decay_rate  \\\n",
       "timetag                                                                 \n",
       "Tue Apr 13 17:04:00 2021             25000          0.005         2.0   \n",
       "\n",
       "                         activation  \n",
       "timetag                              \n",
       "Tue Apr 13 17:04:00 2021       gelu  "
      ]
     },
     "execution_count": 10,
     "metadata": {},
     "output_type": "execute_result"
    }
   ],
   "source": [
    "df_80[['params', 'epochs','Brillouin_param_rse_mean', 'Brillouin_param_sigma_2_mean', 'batch_size', 'decay_rate_epoch','learning_rate', 'decay_rate', 'activation']].sort_values(by='Brillouin_param_rse_mean')"
   ]
  },
  {
   "cell_type": "code",
   "execution_count": 30,
   "metadata": {
    "scrolled": true
   },
   "outputs": [],
   "source": [
    "series_10 = df_10.sort_values(by='Brillouin_param_sigma_2_mean', ascending=False).iloc[0]\n",
    "series_20 = df_20.sort_values(by='Brillouin_param_sigma_2_mean', ascending=False).iloc[0]\n",
    "series_40 = df_40.sort_values(by='Brillouin_param_sigma_2_mean', ascending=False).iloc[0]\n",
    "series_80 = df_80.sort_values(by='Brillouin_param_sigma_2_mean', ascending=False).iloc[0]"
   ]
  },
  {
   "cell_type": "code",
   "execution_count": 35,
   "metadata": {},
   "outputs": [
    {
     "data": {
      "text/html": [
       "<div>\n",
       "<style scoped>\n",
       "    .dataframe tbody tr th:only-of-type {\n",
       "        vertical-align: middle;\n",
       "    }\n",
       "\n",
       "    .dataframe tbody tr th {\n",
       "        vertical-align: top;\n",
       "    }\n",
       "\n",
       "    .dataframe thead th {\n",
       "        text-align: right;\n",
       "    }\n",
       "</style>\n",
       "<table border=\"1\" class=\"dataframe\">\n",
       "  <thead>\n",
       "    <tr style=\"text-align: right;\">\n",
       "      <th></th>\n",
       "      <th>params</th>\n",
       "      <th>epochs</th>\n",
       "      <th>Brillouin_param_rse_mean</th>\n",
       "      <th>Brillouin_param_sigma_2_mean</th>\n",
       "      <th>batch_size</th>\n",
       "      <th>decay_rate_epoch</th>\n",
       "      <th>learning_rate</th>\n",
       "      <th>decay_rate</th>\n",
       "      <th>activation</th>\n",
       "    </tr>\n",
       "  </thead>\n",
       "  <tbody>\n",
       "    <tr>\n",
       "      <th>Wed Apr 14 14:56:49 2021</th>\n",
       "      <td>843</td>\n",
       "      <td>100000</td>\n",
       "      <td>13.0</td>\n",
       "      <td>21.0</td>\n",
       "      <td>262144</td>\n",
       "      <td>25000</td>\n",
       "      <td>0.005</td>\n",
       "      <td>2.0</td>\n",
       "      <td>gelu</td>\n",
       "    </tr>\n",
       "    <tr>\n",
       "      <th>Fri Apr  9 17:32:55 2021</th>\n",
       "      <td>3083</td>\n",
       "      <td>300000</td>\n",
       "      <td>51.0</td>\n",
       "      <td>81.0</td>\n",
       "      <td>131072</td>\n",
       "      <td>100000</td>\n",
       "      <td>0.020</td>\n",
       "      <td>2.0</td>\n",
       "      <td>gelu</td>\n",
       "    </tr>\n",
       "    <tr>\n",
       "      <th>Tue Apr 13 02:21:44 2021</th>\n",
       "      <td>11763</td>\n",
       "      <td>100000</td>\n",
       "      <td>106.0</td>\n",
       "      <td>136.0</td>\n",
       "      <td>262144</td>\n",
       "      <td>25000</td>\n",
       "      <td>0.005</td>\n",
       "      <td>2.0</td>\n",
       "      <td>gelu</td>\n",
       "    </tr>\n",
       "    <tr>\n",
       "      <th>Tue Apr 13 17:04:00 2021</th>\n",
       "      <td>45923</td>\n",
       "      <td>100000</td>\n",
       "      <td>158.0</td>\n",
       "      <td>193.0</td>\n",
       "      <td>262144</td>\n",
       "      <td>25000</td>\n",
       "      <td>0.005</td>\n",
       "      <td>2.0</td>\n",
       "      <td>gelu</td>\n",
       "    </tr>\n",
       "  </tbody>\n",
       "</table>\n",
       "</div>"
      ],
      "text/plain": [
       "                          params  epochs  Brillouin_param_rse_mean  \\\n",
       "Wed Apr 14 14:56:49 2021     843  100000                      13.0   \n",
       "Fri Apr  9 17:32:55 2021    3083  300000                      51.0   \n",
       "Tue Apr 13 02:21:44 2021   11763  100000                     106.0   \n",
       "Tue Apr 13 17:04:00 2021   45923  100000                     158.0   \n",
       "\n",
       "                          Brillouin_param_sigma_2_mean  batch_size  \\\n",
       "Wed Apr 14 14:56:49 2021                          21.0      262144   \n",
       "Fri Apr  9 17:32:55 2021                          81.0      131072   \n",
       "Tue Apr 13 02:21:44 2021                         136.0      262144   \n",
       "Tue Apr 13 17:04:00 2021                         193.0      262144   \n",
       "\n",
       "                          decay_rate_epoch  learning_rate  decay_rate  \\\n",
       "Wed Apr 14 14:56:49 2021             25000          0.005         2.0   \n",
       "Fri Apr  9 17:32:55 2021            100000          0.020         2.0   \n",
       "Tue Apr 13 02:21:44 2021             25000          0.005         2.0   \n",
       "Tue Apr 13 17:04:00 2021             25000          0.005         2.0   \n",
       "\n",
       "                         activation  \n",
       "Wed Apr 14 14:56:49 2021       gelu  \n",
       "Fri Apr  9 17:32:55 2021       gelu  \n",
       "Tue Apr 13 02:21:44 2021       gelu  \n",
       "Tue Apr 13 17:04:00 2021       gelu  "
      ]
     },
     "execution_count": 35,
     "metadata": {},
     "output_type": "execute_result"
    }
   ],
   "source": [
    "consolidated_df = pd.DataFrame([series_10, series_20, series_40, series_80])\n",
    "consolidated_df[['params', 'epochs','Brillouin_param_rse_mean', 'Brillouin_param_sigma_2_mean', 'batch_size', 'decay_rate_epoch','learning_rate', 'decay_rate', 'activation']].sort_values(by='Brillouin_param_rse_mean')"
   ]
  },
  {
   "cell_type": "code",
   "execution_count": 33,
   "metadata": {},
   "outputs": [],
   "source": [
    "save_name = 'C:\\\\Users\\\\John\\\\Documents\\\\Research\\\\ML_Gravity\\\\Data\\\\Dataframes\\\\traditional_nn_df.data'\n",
    "consolidated_df.to_pickle(save_name)"
   ]
  },
  {
   "cell_type": "code",
   "execution_count": 3,
   "metadata": {},
   "outputs": [],
   "source": [
    "import copy\n",
    "backup = copy.deepcopy(df)"
   ]
  },
  {
   "cell_type": "code",
   "execution_count": 4,
   "metadata": {},
   "outputs": [],
   "source": [
    "loss_list = []\n",
    "val_loss_list = []\n",
    "\n",
    "for history in df['history']:\n",
    "    loss_list.append(history['loss'][-1])\n",
    "    val_loss_list.append(history['val_loss'][-1])\n",
    "df['loss'] = loss_list\n",
    "df['val_loss'] = val_loss_list\n",
    "\n",
    "networks = (df['network_type'] == ResNet)\n",
    "networks.replace(True, 'resnet',inplace=True)\n",
    "networks.replace(False, 'traditional',inplace=True)\n",
    "df['network_type'] = networks\n",
    "\n",
    "df['model_param_est'] = df['Brillouin_param_rse_median']*(df['Brillouin_param_rse_median']+1)"
   ]
  },
  {
   "cell_type": "code",
   "execution_count": 5,
   "metadata": {
    "scrolled": false
   },
   "outputs": [
    {
     "data": {
      "text/plain": [
       "<AxesSubplot:xlabel='network_shape', ylabel='Brillouin_rse_median'>"
      ]
     },
     "execution_count": 5,
     "metadata": {},
     "output_type": "execute_result"
    },
    {
     "data": {
      "image/png": "[encoded data removed]",
      "text/plain": [
       "<Figure size 432x288 with 1 Axes>"
      ]
     },
     "metadata": {
      "needs_background": "light"
     },
     "output_type": "display_data"
    },
    {
     "data": {
      "image/png": "[encoded data removed]",
      "text/plain": [
       "<Figure size 432x288 with 1 Axes>"
      ]
     },
     "metadata": {
      "needs_background": "light"
     },
     "output_type": "display_data"
    },
    {
     "data": {
      "image/png": "[encoded data removed]",
      "text/plain": [
       "<Figure size 432x288 with 1 Axes>"
      ]
     },
     "metadata": {
      "needs_background": "light"
     },
     "output_type": "display_data"
    },
    {
     "data": {
      "image/png": "[encoded data removed]",
      "text/plain": [
       "<Figure size 432x288 with 1 Axes>"
      ]
     },
     "metadata": {
      "needs_background": "light"
     },
     "output_type": "display_data"
    },
    {
     "data": {
      "image/png": "[encoded data removed]",
      "text/plain": [
       "<Figure size 432x288 with 1 Axes>"
      ]
     },
     "metadata": {
      "needs_background": "light"
     },
     "output_type": "display_data"
    },
    {
     "data": {
      "image/png": "[encoded data removed]",
      "text/plain": [
       "<Figure size 432x288 with 1 Axes>"
      ]
     },
     "metadata": {
      "needs_background": "light"
     },
     "output_type": "display_data"
    },
    {
     "data": {
      "image/png": "[encoded data removed]",
      "text/plain": [
       "<Figure size 432x288 with 1 Axes>"
      ]
     },
     "metadata": {
      "needs_background": "light"
     },
     "output_type": "display_data"
    },
    {
     "data": {
      "image/png": "[encoded data removed]",
      "text/plain": [
       "<Figure size 432x288 with 1 Axes>"
      ]
     },
     "metadata": {
      "needs_background": "light"
     },
     "output_type": "display_data"
    },
    {
     "data": {
      "image/png": "[encoded data removed]",
      "text/plain": [
       "<Figure size 432x288 with 1 Axes>"
      ]
     },
     "metadata": {
      "needs_background": "light"
     },
     "output_type": "display_data"
    },
    {
     "data": {
      "image/png": "[encoded data removed]",
      "text/plain": [
       "<Figure size 432x288 with 1 Axes>"
      ]
     },
     "metadata": {
      "needs_background": "light"
     },
     "output_type": "display_data"
    },
    {
     "data": {
      "image/png": "[encoded data removed]",
      "text/plain": [
       "<Figure size 432x288 with 1 Axes>"
      ]
     },
     "metadata": {
      "needs_background": "light"
     },
     "output_type": "display_data"
    },
    {
     "data": {
      "image/png": "[encoded data removed]",
      "text/plain": [
       "<Figure size 432x288 with 1 Axes>"
      ]
     },
     "metadata": {
      "needs_background": "light"
     },
     "output_type": "display_data"
    },
    {
     "data": {
      "image/png": "[encoded data removed]",
      "text/plain": [
       "<Figure size 432x288 with 1 Axes>"
      ]
     },
     "metadata": {
      "needs_background": "light"
     },
     "output_type": "display_data"
    },
    {
     "data": {
      "image/png": "[encoded data removed]",
      "text/plain": [
       "<Figure size 432x288 with 1 Axes>"
      ]
     },
     "metadata": {
      "needs_background": "light"
     },
     "output_type": "display_data"
    }
   ],
   "source": [
    "sub_df = df[['params', 'batch_size', 'N_train', 'activation', 'initializer', 'learning_rate', 'network_type', 'loss', 'val_loss']].sort_values(by='val_loss', ascending=False)#, 'Brillouin_sh_diff_median']\n",
    "\n",
    "min_y = None\n",
    "max_y = None#0.00650509\n",
    "max_y = None #0.005\n",
    "df.plot.scatter('params', 'val_loss', ylim=[min_y, max_y],logy=True, grid=True)\n",
    "df.plot.scatter('loss', 'val_loss',  ylim=[min_y,max_y],logy=True, logx=True, grid=True)\n",
    "df.plot.scatter('Brillouin_rse_median', 'val_loss', ylim=[min_y, max_y],logy=True, grid=True)\n",
    "\n",
    "df.plot.scatter('model_param_est', 'Brillouin_rse_mean', ylim=[min_y, max_y],logy=True, grid=True)\n",
    "df.plot.scatter('batch_size', 'Brillouin_rse_mean',  ylim=[min_y,max_y], logx=True, logy=True, grid=True)\n",
    "df.plot.scatter('activation', 'Brillouin_rse_mean',  ylim=[min_y, max_y], logy=True, grid=True)\n",
    "df.plot.scatter('initializer', 'Brillouin_rse_mean', ylim=[min_y, max_y], logy=True, grid=True)\n",
    "df.plot.scatter('N_train', 'Brillouin_rse_mean', ylim=[min_y, max_y], logx=True, logy=True, grid=True)\n",
    "df.plot.scatter('learning_rate', 'Brillouin_rse_mean', ylim=[min_y, max_y], logx=True, logy=True, grid=True)\n",
    "df.plot.scatter('network_type', 'Brillouin_rse_mean', ylim=[min_y, max_y], logx=False, logy=True, grid=True)\n",
    "df.plot.scatter('epochs', 'Brillouin_rse_mean', ylim=[min_y, max_y], logx=False, logy=True, grid=True)\n",
    "df.plot.scatter('decay_rate_epoch', 'Brillouin_rse_mean', ylim=[min_y, max_y], logx=False, logy=True, grid=True)\n",
    "\n",
    "df.plot.scatter('N_train', 'Brillouin_param_rse_mean', ylim=[min_y, max_y], logx=True, logy=False, grid=True)\n",
    "df.plot.scatter('network_shape', 'Brillouin_rse_median', ylim=[min_y, max_y],  logy=True, grid=True)"
   ]
  },
  {
   "cell_type": "code",
   "execution_count": 6,
   "metadata": {},
   "outputs": [
    {
     "data": {
      "text/plain": [
       "<matplotlib.legend.Legend at 0x2b27a038b48>"
      ]
     },
     "execution_count": 6,
     "metadata": {},
     "output_type": "execute_result"
    },
    {
     "data": {
      "image/png": "[encoded data removed]",
      "text/plain": [
       "<Figure size 1080x1440 with 1 Axes>"
      ]
     },
     "metadata": {
      "needs_background": "light"
     },
     "output_type": "display_data"
    }
   ],
   "source": [
    "import matplotlib.pyplot as plt\n",
    "from scipy.ndimage.filters import uniform_filter1d\n",
    "\n",
    "plt.figure(figsize=(15,20))\n",
    "for i in range(0,len(df)):\n",
    "    row = df.iloc[i]\n",
    "    y = row['history']['val_loss']\n",
    "    x = np.linspace(0,50000,len(y))\n",
    "\n",
    "    N = 1000\n",
    "    y_hat = y[N:]\n",
    "    x_hat = x[N:]\n",
    "#     poly = np.polyfit(x_hat, y_hat,10)\n",
    "#     poly_y = np.poly1d(poly)(x_hat)\n",
    "    poly_y = uniform_filter1d(y_hat, 100)\n",
    "\n",
    "    alpha = 1\n",
    "    alpha = 1.0 if row['learning_rate'] == 0.001 else 0.1 # 0.01, 0.005\n",
    "#     alpha = 1.0 if row['decay_rate'] == 2 else 0.1 # 0.01, 0.005\n",
    "#     alpha = 1\n",
    "#     alpha = 1.0 if row['batch_size'] == 32768*4 else 0.1 #  32768\n",
    "#     alpha = 1.0 if row['decay_rate_epoch'] == 50000 else 0.1 #  32768\n",
    "    #alpha = 1.0 if row['decay_epoch_0'] == 100000 else 0.1\n",
    "    #alpha = 1.0 if row['activation'] == 'gelu' else 0.1 # tanh, relu, gelu, swish\n",
    "    #alpha = 1.0 if row['initializer'] == 'glorot_uniform' else 0.1 # tanh, relu, gelu, swish\n",
    "\n",
    "    #alpha = 1\n",
    "    #alpha = 1.0 if row['network_type'] == 'traditional' and row['batch_size'] == 32768 else 0.1\n",
    "    #alpha = 1.0 if row['activation'] == 'swish' and row['learning_rate'] == 0.005 else 0.1\n",
    "    #alpha = 1.0 if row['activation'] == 'swish' and row['batch_size'] == 32768 else 0.1\n",
    "    #alpha = 1.0 if row['activation'] == 'tanh' else 0.1\n",
    "\n",
    "    alpha = 1.0 if row['epochs'] > 100000 else 0.0# and row['batch_size'] == 32768 else 0.1\n",
    "    alpha = 1.0 if row['learning_rate'] == 0.02 else 0.1# and row['batch_size'] == 32768 else 0.1\n",
    "\n",
    "    alpha = 1\n",
    "\n",
    "    plt.semilogy(poly_y,alpha=alpha, label=str(row['decay_rate_epoch']) + \"_\" + str(row['learning_rate']))\n",
    "\n",
    "plt.legend()\n"
   ]
  },
  {
   "cell_type": "code",
   "execution_count": 7,
   "metadata": {},
   "outputs": [
    {
     "data": {
      "image/png": "[encoded data removed]",
      "text/plain": [
       "<Figure size 1080x1440 with 1 Axes>"
      ]
     },
     "metadata": {
      "needs_background": "light"
     },
     "output_type": "display_data"
    }
   ],
   "source": [
    "import matplotlib.pyplot as plt\n",
    "from scipy.ndimage.filters import uniform_filter1d\n",
    "\n",
    "plt.figure(figsize=(15,20))\n",
    "for i in range(0,len(df)):\n",
    "    row = df.iloc[i]\n",
    "    y = row['history']['val_loss']\n",
    "    x = np.linspace(0,50000,len(y))\n",
    "    \n",
    "    N = 1000\n",
    "    y_hat = y[N:]\n",
    "    x_hat = x[N:]\n",
    "#     poly = np.polyfit(x_hat, y_hat,10)\n",
    "#     poly_y = np.poly1d(poly)(x_hat)\n",
    "    poly_y = uniform_filter1d(y_hat, 500)\n",
    "    alpha = 1.0 if row['learning_rate'] == 0.00005 else 0.1 # 0.00005, 0.0005, 0.005\n",
    "    #alpha = 1.0 if row['batch_size'] == 2048 else 0.1\n",
    "    alpha = 1\n",
    "    grad = np.gradient(poly_y, x_hat)\n",
    "    grad_poly_y = uniform_filter1d(grad, 5000)\n",
    "\n",
    "    plt.plot(grad_poly_y,alpha=alpha)\n",
    "    \n"
   ]
  },
  {
   "cell_type": "code",
   "execution_count": 229,
   "metadata": {},
   "outputs": [],
   "source": [
    "df = copy.deepcopy(backup)"
   ]
  },
  {
   "cell_type": "code",
   "execution_count": 8,
   "metadata": {},
   "outputs": [
    {
     "data": {
      "text/html": [
       "<div>\n",
       "<style scoped>\n",
       "    .dataframe tbody tr th:only-of-type {\n",
       "        vertical-align: middle;\n",
       "    }\n",
       "\n",
       "    .dataframe tbody tr th {\n",
       "        vertical-align: top;\n",
       "    }\n",
       "\n",
       "    .dataframe thead th {\n",
       "        text-align: right;\n",
       "    }\n",
       "</style>\n",
       "<table border=\"1\" class=\"dataframe\">\n",
       "  <thead>\n",
       "    <tr style=\"text-align: right;\">\n",
       "      <th></th>\n",
       "      <th>params</th>\n",
       "      <th>Brillouin_param_rse_mean</th>\n",
       "      <th>Brillouin_param_sigma_2_mean</th>\n",
       "      <th>batch_size</th>\n",
       "      <th>decay_rate_epoch</th>\n",
       "      <th>learning_rate</th>\n",
       "      <th>decay_rate</th>\n",
       "      <th>activation</th>\n",
       "    </tr>\n",
       "    <tr>\n",
       "      <th>timetag</th>\n",
       "      <th></th>\n",
       "      <th></th>\n",
       "      <th></th>\n",
       "      <th></th>\n",
       "      <th></th>\n",
       "      <th></th>\n",
       "      <th></th>\n",
       "      <th></th>\n",
       "    </tr>\n",
       "  </thead>\n",
       "  <tbody>\n",
       "    <tr>\n",
       "      <th>Tue Apr 13 17:04:00 2021</th>\n",
       "      <td>45923</td>\n",
       "      <td>158.0</td>\n",
       "      <td>193.0</td>\n",
       "      <td>262144</td>\n",
       "      <td>25000</td>\n",
       "      <td>0.005</td>\n",
       "      <td>2.0</td>\n",
       "      <td>gelu</td>\n",
       "    </tr>\n",
       "  </tbody>\n",
       "</table>\n",
       "</div>"
      ],
      "text/plain": [
       "                          params  Brillouin_param_rse_mean  \\\n",
       "timetag                                                      \n",
       "Tue Apr 13 17:04:00 2021   45923                     158.0   \n",
       "\n",
       "                          Brillouin_param_sigma_2_mean  batch_size  \\\n",
       "timetag                                                              \n",
       "Tue Apr 13 17:04:00 2021                         193.0      262144   \n",
       "\n",
       "                          decay_rate_epoch  learning_rate  decay_rate  \\\n",
       "timetag                                                                 \n",
       "Tue Apr 13 17:04:00 2021             25000          0.005         2.0   \n",
       "\n",
       "                         activation  \n",
       "timetag                              \n",
       "Tue Apr 13 17:04:00 2021       gelu  "
      ]
     },
     "execution_count": 8,
     "metadata": {},
     "output_type": "execute_result"
    }
   ],
   "source": [
    "backup[['params','Brillouin_param_rse_mean', 'Brillouin_param_sigma_2_mean', 'batch_size', 'decay_rate_epoch','learning_rate', 'decay_rate', 'activation']].sort_values(by='Brillouin_param_rse_mean')"
   ]
  },
  {
   "cell_type": "code",
   "execution_count": 9,
   "metadata": {},
   "outputs": [
    {
     "data": {
      "text/plain": [
       "37442"
      ]
     },
     "execution_count": 9,
     "metadata": {},
     "output_type": "execute_result"
    }
   ],
   "source": [
    "193*194"
   ]
  },
  {
   "cell_type": "code",
   "execution_count": 11,
   "metadata": {},
   "outputs": [
    {
     "data": {
      "text/plain": [
       "array([2459318.21111111])"
      ]
     },
     "execution_count": 11,
     "metadata": {},
     "output_type": "execute_result"
    }
   ],
   "source": [
    "backup['id'].values"
   ]
  },
  {
   "cell_type": "code",
   "execution_count": null,
   "metadata": {},
   "outputs": [],
   "source": []
  }
 ],
 "metadata": {
  "kernelspec": {
   "display_name": "Python 3",
   "language": "python",
   "name": "python3"
  },
  "language_info": {
   "codemirror_mode": {
    "name": "ipython",
    "version": 3
   },
   "file_extension": ".py",
   "mimetype": "text/x-python",
   "name": "python",
   "nbconvert_exporter": "python",
   "pygments_lexer": "ipython3",
   "version": "3.7.9"
  }
 },
 "nbformat": 4,
 "nbformat_minor": 4
}
