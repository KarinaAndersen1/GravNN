{
 "cells": [
  {
   "cell_type": "code",
   "execution_count": 1,
   "metadata": {},
   "outputs": [],
   "source": [
    "import pandas as pd\n",
    "df = pd.read_pickle(\"C:\\\\Users\\\\John\\\\Documents\\\\Research\\\\ML_Gravity\\\\Data\\\\Dataframes\\\\exponential_invert_dist.data\")\n",
    "df2 = pd.read_pickle(\"C:\\\\Users\\\\John\\\\Documents\\\\Research\\\\ML_Gravity\\\\Data\\\\Dataframes\\\\exponential_invert_dist_v2.data\")"
   ]
  },
  {
   "cell_type": "code",
   "execution_count": 2,
   "metadata": {},
   "outputs": [],
   "source": [
    "df_all = pd.concat([df,df2])"
   ]
  },
  {
   "cell_type": "code",
   "execution_count": 3,
   "metadata": {},
   "outputs": [
    {
     "data": {
      "text/html": [
       "<div>\n",
       "<style scoped>\n",
       "    .dataframe tbody tr th:only-of-type {\n",
       "        vertical-align: middle;\n",
       "    }\n",
       "\n",
       "    .dataframe tbody tr th {\n",
       "        vertical-align: top;\n",
       "    }\n",
       "\n",
       "    .dataframe thead th {\n",
       "        text-align: right;\n",
       "    }\n",
       "</style>\n",
       "<table border=\"1\" class=\"dataframe\">\n",
       "  <thead>\n",
       "    <tr style=\"text-align: right;\">\n",
       "      <th></th>\n",
       "      <th>distribution</th>\n",
       "    </tr>\n",
       "    <tr>\n",
       "      <th>timetag</th>\n",
       "      <th></th>\n",
       "    </tr>\n",
       "  </thead>\n",
       "  <tbody>\n",
       "    <tr>\n",
       "      <th>Fri May  7 21:34:32 2021</th>\n",
       "      <td>&lt;class 'GravNN.Trajectories.ExponentialDist.Ex...</td>\n",
       "    </tr>\n",
       "    <tr>\n",
       "      <th>Sat May  8 02:31:45 2021</th>\n",
       "      <td>&lt;class 'GravNN.Trajectories.ExponentialDist.Ex...</td>\n",
       "    </tr>\n",
       "    <tr>\n",
       "      <th>Sat May  8 04:15:57 2021</th>\n",
       "      <td>&lt;class 'GravNN.Trajectories.ExponentialDist.Ex...</td>\n",
       "    </tr>\n",
       "    <tr>\n",
       "      <th>Sat May  8 14:13:42 2021</th>\n",
       "      <td>&lt;class 'GravNN.Trajectories.ExponentialDist.Ex...</td>\n",
       "    </tr>\n",
       "    <tr>\n",
       "      <th>Sat May  8 22:17:51 2021</th>\n",
       "      <td>&lt;class 'GravNN.Trajectories.ExponentialDist.Ex...</td>\n",
       "    </tr>\n",
       "    <tr>\n",
       "      <th>Sun May  9 01:13:46 2021</th>\n",
       "      <td>&lt;class 'GravNN.Trajectories.ExponentialDist.Ex...</td>\n",
       "    </tr>\n",
       "  </tbody>\n",
       "</table>\n",
       "</div>"
      ],
      "text/plain": [
       "                                                               distribution\n",
       "timetag                                                                    \n",
       "Fri May  7 21:34:32 2021  <class 'GravNN.Trajectories.ExponentialDist.Ex...\n",
       "Sat May  8 02:31:45 2021  <class 'GravNN.Trajectories.ExponentialDist.Ex...\n",
       "Sat May  8 04:15:57 2021  <class 'GravNN.Trajectories.ExponentialDist.Ex...\n",
       "Sat May  8 14:13:42 2021  <class 'GravNN.Trajectories.ExponentialDist.Ex...\n",
       "Sat May  8 22:17:51 2021  <class 'GravNN.Trajectories.ExponentialDist.Ex...\n",
       "Sun May  9 01:13:46 2021  <class 'GravNN.Trajectories.ExponentialDist.Ex..."
      ]
     },
     "execution_count": 3,
     "metadata": {},
     "output_type": "execute_result"
    }
   ],
   "source": [
    "df_all[['distribution']]"
   ]
  },
  {
   "cell_type": "code",
   "execution_count": 4,
   "metadata": {},
   "outputs": [],
   "source": [
    "df_all.to_pickle(\"C:\\\\Users\\\\John\\\\Documents\\\\Research\\\\ML_Gravity\\\\Data\\\\Dataframes\\\\exponential_invert_dist_all.data\")"
   ]
  },
  {
   "cell_type": "code",
   "execution_count": null,
   "metadata": {},
   "outputs": [],
   "source": []
  }
 ],
 "metadata": {
  "kernelspec": {
   "display_name": "Python 3",
   "language": "python",
   "name": "python3"
  },
  "language_info": {
   "codemirror_mode": {
    "name": "ipython",
    "version": 3
   },
   "file_extension": ".py",
   "mimetype": "text/x-python",
   "name": "python",
   "nbconvert_exporter": "python",
   "pygments_lexer": "ipython3",
   "version": "3.7.9"
  }
 },
 "nbformat": 4,
 "nbformat_minor": 4
}
