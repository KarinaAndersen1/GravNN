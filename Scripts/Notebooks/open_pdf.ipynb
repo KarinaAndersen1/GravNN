{
 "metadata": {
  "language_info": {
   "codemirror_mode": {
    "name": "ipython",
    "version": 3
   },
   "file_extension": ".py",
   "mimetype": "text/x-python",
   "name": "python",
   "nbconvert_exporter": "python",
   "pygments_lexer": "ipython3",
   "version": "3.7.9-final"
  },
  "orig_nbformat": 2,
  "kernelspec": {
   "name": "Python 3.7.9 64-bit",
   "display_name": "Python 3.7.9 64-bit",
   "metadata": {
    "interpreter": {
     "hash": "35e3af59d3e06b5bab0f409a858e458c29f9e188770119e2e5e93795b5d1e9ba"
    }
   }
  }
 },
 "nbformat": 4,
 "nbformat_minor": 2,
 "cells": [
  {
   "cell_type": "code",
   "execution_count": 1,
   "metadata": {},
   "outputs": [],
   "source": [
    "import pandas as pd \n",
    "import matplotlib.pyplot as plt \n",
    "import numpy as np \n",
    "import pickle\n",
    "import sigfig\n",
    "import subprocess\n"
   ]
  },
  {
   "cell_type": "code",
   "execution_count": 2,
   "metadata": {},
   "outputs": [],
   "source": [
    "nn_data_name = 'C:\\\\Users\\\\John\\\\Documents\\\\Research\\\\ML_Gravity\\\\continuous_results.data'\n",
    "\n",
    "with open(nn_data_name, 'rb') as f:\n",
    "    nn_df = pickle.load(f)"
   ]
  },
  {
   "cell_type": "code",
   "execution_count": 10,
   "metadata": {},
   "outputs": [
    {
     "output_type": "execute_result",
     "data": {
      "text/plain": [
       "'Mon Nov  2 17:00:30 2020'"
      ]
     },
     "metadata": {},
     "execution_count": 10
    }
   ],
   "source": [
    "nn_df.iloc[-2].name"
   ]
  },
  {
   "cell_type": "code",
   "execution_count": 8,
   "metadata": {},
   "outputs": [
    {
     "output_type": "execute_result",
     "data": {
      "text/plain": [
       "<subprocess.Popen at 0x1a0d91b8108>"
      ]
     },
     "metadata": {},
     "execution_count": 8
    }
   ],
   "source": [
    "\n",
    "nonPINN = nn_df.loc['Mon Nov  2 17:00:48 2020'].name\n",
    "PINN = nn_df.loc['Mon Nov  2 17:00:30 2020'].name\n",
    "timestamp = PINN\n",
    "plot_directory = os.path.abspath('.') + \"/../../Data/Networks/\" + str(pd.Timestamp(timestamp).to_julian_date()) + \"/all.pdf\"\n",
    "subprocess.Popen([plot_directory],shell=True)"
   ]
  },
  {
   "cell_type": "code",
   "execution_count": null,
   "metadata": {},
   "outputs": [],
   "source": []
  }
 ]
}