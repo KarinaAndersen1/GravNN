{
 "metadata": {
  "language_info": {
   "codemirror_mode": {
    "name": "ipython",
    "version": 3
   },
   "file_extension": ".py",
   "mimetype": "text/x-python",
   "name": "python",
   "nbconvert_exporter": "python",
   "pygments_lexer": "ipython3",
   "version": "3.7.9-final"
  },
  "orig_nbformat": 2,
  "kernelspec": {
   "name": "python3",
   "display_name": "Python 3",
   "language": "python"
  }
 },
 "nbformat": 4,
 "nbformat_minor": 2,
 "cells": [
  {
   "cell_type": "code",
   "execution_count": 3,
   "metadata": {},
   "outputs": [],
   "source": [
    "import pandas as pd\n",
    "import numpy as np"
   ]
  },
  {
   "cell_type": "code",
   "execution_count": 4,
   "metadata": {},
   "outputs": [],
   "source": [
    "file_name = \"C:\\\\Users\\\\John\\\\Documents\\\\Research\\\\ML_Gravity\\\\N_1000000_study.data\"\n",
    "file_name = \"C:\\\\Users\\\\John\\\\Documents\\\\Research\\\\ML_Gravity\\\\N_1000000_exp_norm_study.data\"\n",
    "\n",
    "df = pd.read_pickle(file_name)"
   ]
  },
  {
   "cell_type": "code",
   "execution_count": 13,
   "metadata": {},
   "outputs": [
    {
     "output_type": "execute_result",
     "data": {
      "text/plain": [
       "                                                          layers  \\\n",
       "timetag                                                            \n",
       "Fri Dec 25 09:16:30 2020  [3, 20, 20, 20, 20, 20, 20, 20, 20, 3]   \n",
       "Fri Dec 25 12:09:38 2020  [3, 20, 20, 20, 20, 20, 20, 20, 20, 3]   \n",
       "Mon Dec 28 02:20:43 2020  [3, 20, 20, 20, 20, 20, 20, 20, 20, 3]   \n",
       "Mon Dec 28 05:11:45 2020  [3, 20, 20, 20, 20, 20, 20, 20, 20, 3]   \n",
       "Sat Dec 26 20:43:31 2020  [3, 20, 20, 20, 20, 20, 20, 20, 20, 3]   \n",
       "Sat Dec 26 17:51:44 2020  [3, 20, 20, 20, 20, 20, 20, 20, 20, 3]   \n",
       "Fri Dec 25 02:02:13 2020  [3, 40, 40, 40, 40, 40, 40, 40, 40, 3]   \n",
       "Sun Dec 27 23:28:47 2020  [3, 40, 40, 40, 40, 40, 40, 40, 40, 3]   \n",
       "Sun Dec 27 19:09:27 2020  [3, 40, 40, 40, 40, 40, 40, 40, 40, 3]   \n",
       "Sat Dec 26 10:37:50 2020  [3, 40, 40, 40, 40, 40, 40, 40, 40, 3]   \n",
       "Fri Dec 25 06:25:13 2020  [3, 40, 40, 40, 40, 40, 40, 40, 40, 3]   \n",
       "Sat Dec 26 15:00:24 2020  [3, 40, 40, 40, 40, 40, 40, 40, 40, 3]   \n",
       "Thu Dec 24 12:38:24 2020  [3, 80, 80, 80, 80, 80, 80, 80, 80, 3]   \n",
       "Sat Dec 26 06:15:23 2020  [3, 80, 80, 80, 80, 80, 80, 80, 80, 3]   \n",
       "Sun Dec 27 05:43:44 2020  [3, 80, 80, 80, 80, 80, 80, 80, 80, 3]   \n",
       "Sun Dec 27 14:46:27 2020  [3, 80, 80, 80, 80, 80, 80, 80, 80, 3]   \n",
       "Fri Dec 25 21:12:47 2020  [3, 80, 80, 80, 80, 80, 80, 80, 80, 3]   \n",
       "Thu Dec 24 21:38:29 2020  [3, 80, 80, 80, 80, 80, 80, 80, 80, 3]   \n",
       "\n",
       "                                                               distribution  \\\n",
       "timetag                                                                       \n",
       "Fri Dec 25 09:16:30 2020  <class 'GravNN.Trajectories.ExponentialDist.Ex...   \n",
       "Fri Dec 25 12:09:38 2020  <class 'GravNN.Trajectories.ExponentialDist.Ex...   \n",
       "Mon Dec 28 02:20:43 2020  <class 'GravNN.Trajectories.GaussianDist.Gauss...   \n",
       "Mon Dec 28 05:11:45 2020  <class 'GravNN.Trajectories.GaussianDist.Gauss...   \n",
       "Sat Dec 26 20:43:31 2020  <class 'GravNN.Trajectories.ExponentialDist.Ex...   \n",
       "Sat Dec 26 17:51:44 2020  <class 'GravNN.Trajectories.ExponentialDist.Ex...   \n",
       "Fri Dec 25 02:02:13 2020  <class 'GravNN.Trajectories.ExponentialDist.Ex...   \n",
       "Sun Dec 27 23:28:47 2020  <class 'GravNN.Trajectories.GaussianDist.Gauss...   \n",
       "Sun Dec 27 19:09:27 2020  <class 'GravNN.Trajectories.GaussianDist.Gauss...   \n",
       "Sat Dec 26 10:37:50 2020  <class 'GravNN.Trajectories.ExponentialDist.Ex...   \n",
       "Fri Dec 25 06:25:13 2020  <class 'GravNN.Trajectories.ExponentialDist.Ex...   \n",
       "Sat Dec 26 15:00:24 2020  <class 'GravNN.Trajectories.ExponentialDist.Ex...   \n",
       "Thu Dec 24 12:38:24 2020  <class 'GravNN.Trajectories.ExponentialDist.Ex...   \n",
       "Sat Dec 26 06:15:23 2020  <class 'GravNN.Trajectories.ExponentialDist.Ex...   \n",
       "Sun Dec 27 05:43:44 2020  <class 'GravNN.Trajectories.GaussianDist.Gauss...   \n",
       "Sun Dec 27 14:46:27 2020  <class 'GravNN.Trajectories.GaussianDist.Gauss...   \n",
       "Fri Dec 25 21:12:47 2020  <class 'GravNN.Trajectories.ExponentialDist.Ex...   \n",
       "Thu Dec 24 21:38:29 2020  <class 'GravNN.Trajectories.ExponentialDist.Ex...   \n",
       "\n",
       "                          invert  scale_parameter     sigma  \\\n",
       "timetag                                                       \n",
       "Fri Dec 25 09:16:30 2020   False         140000.0       NaN   \n",
       "Fri Dec 25 12:09:38 2020    True         140000.0       NaN   \n",
       "Mon Dec 28 02:20:43 2020   False          42000.0  140000.0   \n",
       "Mon Dec 28 05:11:45 2020   False          42000.0   42000.0   \n",
       "Sat Dec 26 20:43:31 2020    True          42000.0       NaN   \n",
       "Sat Dec 26 17:51:44 2020   False          42000.0       NaN   \n",
       "Fri Dec 25 02:02:13 2020   False         140000.0       NaN   \n",
       "Sun Dec 27 23:28:47 2020   False          42000.0   42000.0   \n",
       "Sun Dec 27 19:09:27 2020   False          42000.0  140000.0   \n",
       "Sat Dec 26 10:37:50 2020   False          42000.0       NaN   \n",
       "Fri Dec 25 06:25:13 2020    True         140000.0       NaN   \n",
       "Sat Dec 26 15:00:24 2020    True          42000.0       NaN   \n",
       "Thu Dec 24 12:38:24 2020   False         140000.0       NaN   \n",
       "Sat Dec 26 06:15:23 2020    True          42000.0       NaN   \n",
       "Sun Dec 27 05:43:44 2020   False          42000.0  140000.0   \n",
       "Sun Dec 27 14:46:27 2020   False          42000.0   42000.0   \n",
       "Fri Dec 25 21:12:47 2020   False          42000.0       NaN   \n",
       "Thu Dec 24 21:38:29 2020    True         140000.0       NaN   \n",
       "\n",
       "                          Brillouin_sh_diff_median  LEO_sh_diff_median  \\\n",
       "timetag                                                                  \n",
       "Fri Dec 25 09:16:30 2020                      49.0                 8.0   \n",
       "Fri Dec 25 12:09:38 2020                      38.0                19.0   \n",
       "Mon Dec 28 02:20:43 2020                      28.0                28.0   \n",
       "Mon Dec 28 05:11:45 2020                      17.0                34.0   \n",
       "Sat Dec 26 20:43:31 2020                      20.0                29.0   \n",
       "Sat Dec 26 17:51:44 2020                      56.0                 3.0   \n",
       "Fri Dec 25 02:02:13 2020                      89.0                10.0   \n",
       "Sun Dec 27 23:28:47 2020                      17.0                49.0   \n",
       "Sun Dec 27 19:09:27 2020                      55.0                35.0   \n",
       "Sat Dec 26 10:37:50 2020                     103.0                 3.0   \n",
       "Fri Dec 25 06:25:13 2020                      67.0                24.0   \n",
       "Sat Dec 26 15:00:24 2020                      30.0                43.0   \n",
       "Thu Dec 24 12:38:24 2020                     138.0                13.0   \n",
       "Sat Dec 26 06:15:23 2020                      23.0                44.0   \n",
       "Sun Dec 27 05:43:44 2020                      50.0                38.0   \n",
       "Sun Dec 27 14:46:27 2020                      11.0                53.0   \n",
       "Fri Dec 25 21:12:47 2020                     151.0                 3.0   \n",
       "Thu Dec 24 21:38:29 2020                     104.0                28.0   \n",
       "\n",
       "                          Brillouin_sh_diff_mean  LEO_sh_diff_mean  params  \n",
       "timetag                                                                     \n",
       "Fri Dec 25 09:16:30 2020                    55.0               8.0    3083  \n",
       "Fri Dec 25 12:09:38 2020                    38.0              20.0    3083  \n",
       "Mon Dec 28 02:20:43 2020                    30.0              28.0    3083  \n",
       "Mon Dec 28 05:11:45 2020                    16.0              35.0    3083  \n",
       "Sat Dec 26 20:43:31 2020                    20.0              30.0    3083  \n",
       "Sat Dec 26 17:51:44 2020                    65.0               3.0    3083  \n",
       "Fri Dec 25 02:02:13 2020                   101.0              10.0   11763  \n",
       "Sun Dec 27 23:28:47 2020                    18.0              51.0   11763  \n",
       "Sun Dec 27 19:09:27 2020                    52.0              36.0   11763  \n",
       "Sat Dec 26 10:37:50 2020                   114.0               2.0   11763  \n",
       "Fri Dec 25 06:25:13 2020                    73.0              25.0   11763  \n",
       "Sat Dec 26 15:00:24 2020                    34.0              45.0   11763  \n",
       "Thu Dec 24 12:38:24 2020                   148.0              12.0   45923  \n",
       "Sat Dec 26 06:15:23 2020                    25.0              47.0   45923  \n",
       "Sun Dec 27 05:43:44 2020                    39.0              40.0   45923  \n",
       "Sun Dec 27 14:46:27 2020                    12.0              55.0   45923  \n",
       "Fri Dec 25 21:12:47 2020                   169.0               2.0   45923  \n",
       "Thu Dec 24 21:38:29 2020                    92.0              29.0   45923  "
      ],
      "text/html": "<div>\n<style scoped>\n    .dataframe tbody tr th:only-of-type {\n        vertical-align: middle;\n    }\n\n    .dataframe tbody tr th {\n        vertical-align: top;\n    }\n\n    .dataframe thead th {\n        text-align: right;\n    }\n</style>\n<table border=\"1\" class=\"dataframe\">\n  <thead>\n    <tr style=\"text-align: right;\">\n      <th></th>\n      <th>layers</th>\n      <th>distribution</th>\n      <th>invert</th>\n      <th>scale_parameter</th>\n      <th>sigma</th>\n      <th>Brillouin_sh_diff_median</th>\n      <th>LEO_sh_diff_median</th>\n      <th>Brillouin_sh_diff_mean</th>\n      <th>LEO_sh_diff_mean</th>\n      <th>params</th>\n    </tr>\n    <tr>\n      <th>timetag</th>\n      <th></th>\n      <th></th>\n      <th></th>\n      <th></th>\n      <th></th>\n      <th></th>\n      <th></th>\n      <th></th>\n      <th></th>\n      <th></th>\n    </tr>\n  </thead>\n  <tbody>\n    <tr>\n      <th>Fri Dec 25 09:16:30 2020</th>\n      <td>[3, 20, 20, 20, 20, 20, 20, 20, 20, 3]</td>\n      <td>&lt;class 'GravNN.Trajectories.ExponentialDist.Ex...</td>\n      <td>False</td>\n      <td>140000.0</td>\n      <td>NaN</td>\n      <td>49.0</td>\n      <td>8.0</td>\n      <td>55.0</td>\n      <td>8.0</td>\n      <td>3083</td>\n    </tr>\n    <tr>\n      <th>Fri Dec 25 12:09:38 2020</th>\n      <td>[3, 20, 20, 20, 20, 20, 20, 20, 20, 3]</td>\n      <td>&lt;class 'GravNN.Trajectories.ExponentialDist.Ex...</td>\n      <td>True</td>\n      <td>140000.0</td>\n      <td>NaN</td>\n      <td>38.0</td>\n      <td>19.0</td>\n      <td>38.0</td>\n      <td>20.0</td>\n      <td>3083</td>\n    </tr>\n    <tr>\n      <th>Mon Dec 28 02:20:43 2020</th>\n      <td>[3, 20, 20, 20, 20, 20, 20, 20, 20, 3]</td>\n      <td>&lt;class 'GravNN.Trajectories.GaussianDist.Gauss...</td>\n      <td>False</td>\n      <td>42000.0</td>\n      <td>140000.0</td>\n      <td>28.0</td>\n      <td>28.0</td>\n      <td>30.0</td>\n      <td>28.0</td>\n      <td>3083</td>\n    </tr>\n    <tr>\n      <th>Mon Dec 28 05:11:45 2020</th>\n      <td>[3, 20, 20, 20, 20, 20, 20, 20, 20, 3]</td>\n      <td>&lt;class 'GravNN.Trajectories.GaussianDist.Gauss...</td>\n      <td>False</td>\n      <td>42000.0</td>\n      <td>42000.0</td>\n      <td>17.0</td>\n      <td>34.0</td>\n      <td>16.0</td>\n      <td>35.0</td>\n      <td>3083</td>\n    </tr>\n    <tr>\n      <th>Sat Dec 26 20:43:31 2020</th>\n      <td>[3, 20, 20, 20, 20, 20, 20, 20, 20, 3]</td>\n      <td>&lt;class 'GravNN.Trajectories.ExponentialDist.Ex...</td>\n      <td>True</td>\n      <td>42000.0</td>\n      <td>NaN</td>\n      <td>20.0</td>\n      <td>29.0</td>\n      <td>20.0</td>\n      <td>30.0</td>\n      <td>3083</td>\n    </tr>\n    <tr>\n      <th>Sat Dec 26 17:51:44 2020</th>\n      <td>[3, 20, 20, 20, 20, 20, 20, 20, 20, 3]</td>\n      <td>&lt;class 'GravNN.Trajectories.ExponentialDist.Ex...</td>\n      <td>False</td>\n      <td>42000.0</td>\n      <td>NaN</td>\n      <td>56.0</td>\n      <td>3.0</td>\n      <td>65.0</td>\n      <td>3.0</td>\n      <td>3083</td>\n    </tr>\n    <tr>\n      <th>Fri Dec 25 02:02:13 2020</th>\n      <td>[3, 40, 40, 40, 40, 40, 40, 40, 40, 3]</td>\n      <td>&lt;class 'GravNN.Trajectories.ExponentialDist.Ex...</td>\n      <td>False</td>\n      <td>140000.0</td>\n      <td>NaN</td>\n      <td>89.0</td>\n      <td>10.0</td>\n      <td>101.0</td>\n      <td>10.0</td>\n      <td>11763</td>\n    </tr>\n    <tr>\n      <th>Sun Dec 27 23:28:47 2020</th>\n      <td>[3, 40, 40, 40, 40, 40, 40, 40, 40, 3]</td>\n      <td>&lt;class 'GravNN.Trajectories.GaussianDist.Gauss...</td>\n      <td>False</td>\n      <td>42000.0</td>\n      <td>42000.0</td>\n      <td>17.0</td>\n      <td>49.0</td>\n      <td>18.0</td>\n      <td>51.0</td>\n      <td>11763</td>\n    </tr>\n    <tr>\n      <th>Sun Dec 27 19:09:27 2020</th>\n      <td>[3, 40, 40, 40, 40, 40, 40, 40, 40, 3]</td>\n      <td>&lt;class 'GravNN.Trajectories.GaussianDist.Gauss...</td>\n      <td>False</td>\n      <td>42000.0</td>\n      <td>140000.0</td>\n      <td>55.0</td>\n      <td>35.0</td>\n      <td>52.0</td>\n      <td>36.0</td>\n      <td>11763</td>\n    </tr>\n    <tr>\n      <th>Sat Dec 26 10:37:50 2020</th>\n      <td>[3, 40, 40, 40, 40, 40, 40, 40, 40, 3]</td>\n      <td>&lt;class 'GravNN.Trajectories.ExponentialDist.Ex...</td>\n      <td>False</td>\n      <td>42000.0</td>\n      <td>NaN</td>\n      <td>103.0</td>\n      <td>3.0</td>\n      <td>114.0</td>\n      <td>2.0</td>\n      <td>11763</td>\n    </tr>\n    <tr>\n      <th>Fri Dec 25 06:25:13 2020</th>\n      <td>[3, 40, 40, 40, 40, 40, 40, 40, 40, 3]</td>\n      <td>&lt;class 'GravNN.Trajectories.ExponentialDist.Ex...</td>\n      <td>True</td>\n      <td>140000.0</td>\n      <td>NaN</td>\n      <td>67.0</td>\n      <td>24.0</td>\n      <td>73.0</td>\n      <td>25.0</td>\n      <td>11763</td>\n    </tr>\n    <tr>\n      <th>Sat Dec 26 15:00:24 2020</th>\n      <td>[3, 40, 40, 40, 40, 40, 40, 40, 40, 3]</td>\n      <td>&lt;class 'GravNN.Trajectories.ExponentialDist.Ex...</td>\n      <td>True</td>\n      <td>42000.0</td>\n      <td>NaN</td>\n      <td>30.0</td>\n      <td>43.0</td>\n      <td>34.0</td>\n      <td>45.0</td>\n      <td>11763</td>\n    </tr>\n    <tr>\n      <th>Thu Dec 24 12:38:24 2020</th>\n      <td>[3, 80, 80, 80, 80, 80, 80, 80, 80, 3]</td>\n      <td>&lt;class 'GravNN.Trajectories.ExponentialDist.Ex...</td>\n      <td>False</td>\n      <td>140000.0</td>\n      <td>NaN</td>\n      <td>138.0</td>\n      <td>13.0</td>\n      <td>148.0</td>\n      <td>12.0</td>\n      <td>45923</td>\n    </tr>\n    <tr>\n      <th>Sat Dec 26 06:15:23 2020</th>\n      <td>[3, 80, 80, 80, 80, 80, 80, 80, 80, 3]</td>\n      <td>&lt;class 'GravNN.Trajectories.ExponentialDist.Ex...</td>\n      <td>True</td>\n      <td>42000.0</td>\n      <td>NaN</td>\n      <td>23.0</td>\n      <td>44.0</td>\n      <td>25.0</td>\n      <td>47.0</td>\n      <td>45923</td>\n    </tr>\n    <tr>\n      <th>Sun Dec 27 05:43:44 2020</th>\n      <td>[3, 80, 80, 80, 80, 80, 80, 80, 80, 3]</td>\n      <td>&lt;class 'GravNN.Trajectories.GaussianDist.Gauss...</td>\n      <td>False</td>\n      <td>42000.0</td>\n      <td>140000.0</td>\n      <td>50.0</td>\n      <td>38.0</td>\n      <td>39.0</td>\n      <td>40.0</td>\n      <td>45923</td>\n    </tr>\n    <tr>\n      <th>Sun Dec 27 14:46:27 2020</th>\n      <td>[3, 80, 80, 80, 80, 80, 80, 80, 80, 3]</td>\n      <td>&lt;class 'GravNN.Trajectories.GaussianDist.Gauss...</td>\n      <td>False</td>\n      <td>42000.0</td>\n      <td>42000.0</td>\n      <td>11.0</td>\n      <td>53.0</td>\n      <td>12.0</td>\n      <td>55.0</td>\n      <td>45923</td>\n    </tr>\n    <tr>\n      <th>Fri Dec 25 21:12:47 2020</th>\n      <td>[3, 80, 80, 80, 80, 80, 80, 80, 80, 3]</td>\n      <td>&lt;class 'GravNN.Trajectories.ExponentialDist.Ex...</td>\n      <td>False</td>\n      <td>42000.0</td>\n      <td>NaN</td>\n      <td>151.0</td>\n      <td>3.0</td>\n      <td>169.0</td>\n      <td>2.0</td>\n      <td>45923</td>\n    </tr>\n    <tr>\n      <th>Thu Dec 24 21:38:29 2020</th>\n      <td>[3, 80, 80, 80, 80, 80, 80, 80, 80, 3]</td>\n      <td>&lt;class 'GravNN.Trajectories.ExponentialDist.Ex...</td>\n      <td>True</td>\n      <td>140000.0</td>\n      <td>NaN</td>\n      <td>104.0</td>\n      <td>28.0</td>\n      <td>92.0</td>\n      <td>29.0</td>\n      <td>45923</td>\n    </tr>\n  </tbody>\n</table>\n</div>"
     },
     "metadata": {},
     "execution_count": 13
    }
   ],
   "source": [
    "df[['layers', 'distribution', 'invert', 'scale_parameter', 'sigma', 'Brillouin_sh_diff_median', 'LEO_sh_diff_median', 'Brillouin_sh_diff_mean', 'LEO_sh_diff_mean', 'params']].sort_values(by='layers')#, 'Brillouin_sh_diff_median']"
   ]
  },
  {
   "cell_type": "code",
   "execution_count": 65,
   "metadata": {},
   "outputs": [],
   "source": [
    "pd.set_option('mode.chained_assignment','raise')\n",
    "\n",
    "from GravNN.Trajectories.ExponentialDist import ExponentialDist\n",
    "from GravNN.Trajectories.GaussianDist import GaussianDist\n",
    "from GravNN.CelestialBodies.Planets import Earth\n",
    "\n",
    "mask = df['distribution'] == GaussianDist\n",
    "df.loc[mask, ('invert', 'scale_parameter')]=None\n",
    "\n",
    "\n",
    "mask = df['distribution'] == ExponentialDist\n",
    "df.loc[mask, ('mu', 'sigma')]=None\n",
    "\n",
    "df['N_dist'] = 1000000\n",
    "\n",
    "df['planet'] = Earth()"
   ]
  },
  {
   "cell_type": "code",
   "execution_count": 63,
   "metadata": {},
   "outputs": [],
   "source": [
    "df.to_pickle(file_name)"
   ]
  },
  {
   "cell_type": "code",
   "execution_count": 64,
   "metadata": {},
   "outputs": [
    {
     "output_type": "execute_result",
     "data": {
      "text/plain": [
       "timetag\n",
       "Fri Dec 25 02:02:13 2020    1000000\n",
       "Fri Dec 25 06:25:13 2020    1000000\n",
       "Fri Dec 25 09:16:30 2020    1000000\n",
       "Fri Dec 25 12:09:38 2020    1000000\n",
       "Fri Dec 25 21:12:47 2020    1000000\n",
       "Mon Dec 28 02:20:43 2020    1000000\n",
       "Mon Dec 28 05:11:45 2020    1000000\n",
       "Sat Dec 26 06:15:23 2020    1000000\n",
       "Sat Dec 26 10:37:50 2020    1000000\n",
       "Sat Dec 26 15:00:24 2020    1000000\n",
       "Sat Dec 26 17:51:44 2020    1000000\n",
       "Sat Dec 26 20:43:31 2020    1000000\n",
       "Sun Dec 27 05:43:44 2020    1000000\n",
       "Sun Dec 27 14:46:27 2020    1000000\n",
       "Sun Dec 27 19:09:27 2020    1000000\n",
       "Sun Dec 27 23:28:47 2020    1000000\n",
       "Thu Dec 24 12:38:24 2020    1000000\n",
       "Thu Dec 24 21:38:29 2020    1000000\n",
       "Name: N_dist, dtype: int64"
      ]
     },
     "metadata": {},
     "execution_count": 64
    }
   ],
   "source": []
  },
  {
   "cell_type": "code",
   "execution_count": null,
   "metadata": {},
   "outputs": [],
   "source": []
  }
 ]
}