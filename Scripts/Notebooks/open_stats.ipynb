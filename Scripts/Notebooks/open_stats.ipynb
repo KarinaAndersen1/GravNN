{
 "metadata": {
  "language_info": {
   "codemirror_mode": {
    "name": "ipython",
    "version": 3
   },
   "file_extension": ".py",
   "mimetype": "text/x-python",
   "name": "python",
   "nbconvert_exporter": "python",
   "pygments_lexer": "ipython3",
   "version": "3.7.9-final"
  },
  "orig_nbformat": 2,
  "kernelspec": {
   "name": "python3",
   "display_name": "Python 3",
   "language": "python"
  }
 },
 "nbformat": 4,
 "nbformat_minor": 2,
 "cells": [
  {
   "cell_type": "code",
   "execution_count": 2,
   "metadata": {},
   "outputs": [],
   "source": [
    "import pandas as pd\n",
    "import numpy as np"
   ]
  },
  {
   "cell_type": "code",
   "execution_count": 5,
   "metadata": {},
   "outputs": [],
   "source": [
    "file_name = \"C:\\\\Users\\\\John\\\\Documents\\\\Research\\\\ML_Gravity\\\\N_1000000_study.data\"\n",
    "# file_name = \"C:\\\\Users\\\\John\\\\Documents\\\\Research\\\\ML_Gravity\\\\N_1000000_exp_norm_study.data\"\n",
    "#file_name = \"C:\\\\Users\\\\John\\\\Documents\\\\Research\\\\ML_Gravity\\\\temp.data\"\n",
    "#file_name = \"C:\\\\Users\\\\John\\\\Documents\\\\Research\\\\ML_Gravity\\\\N_1000000_PINN_study.data\"\n",
    "file_name = \"C:\\\\Users\\\\John\\\\Documents\\\\Research\\\\ML_Gravity\\\\N_1000000_Rand_Study.data\"\n",
    "\n",
    "#file_name = \"C:\\\\Users\\\\John\\\\Documents\\\\Research\\\\ML_Gravity\\\\N_1000000_PINN_study_opt.data\"\n",
    "\n",
    "\n",
    "\n",
    "# Small Datasets\n",
    "file_name = 'C:\\\\Users\\\\John\\\\Documents\\\\Research\\\\ML_Gravity\\\\N_10000_rand_study.data'\n",
    "#file_name = 'C:\\\\Users\\\\John\\\\Documents\\\\Research\\\\ML_Gravity\\\\N_10000_rand_spherical_study.data'\n",
    "\n",
    "# file_name = 'C:\\\\Users\\\\John\\\\Documents\\\\Research\\\\ML_Gravity\\\\N_10000_exp_study.data'\n",
    "\n",
    "#file_name = 'C:\\\\Users\\\\John\\\\Documents\\\\Research\\\\ML_Gravity\\\\N_10000_rand_PINN_study.data'\n",
    "# file_name = 'C:\\\\Users\\\\John\\\\Documents\\\\Research\\\\ML_Gravity\\\\N_10000_exp_PINN_study.data'\n",
    "\n",
    "# file_name = 'C:\\\\Users\\\\John\\\\Documents\\\\Research\\\\ML_Gravity\\\\N_10000_rand_spherical_study.data'\n",
    "\n",
    "\n",
    "# Eros Datasets\n",
    "\n",
    "file_name = 'C:\\\\Users\\\\John\\\\Documents\\\\Research\\\\ML_Gravity\\\\N_100000_rand_eros_study.data'\n",
    "#file_name = 'C:\\\\Users\\\\John\\\\Documents\\\\Research\\\\ML_Gravity\\\\N_100000_rand_eros_PINN_study.data'\n",
    "\n",
    "df = pd.read_pickle(file_name)"
   ]
  },
  {
   "cell_type": "code",
   "execution_count": 7,
   "metadata": {},
   "outputs": [
    {
     "output_type": "execute_result",
     "data": {
      "text/plain": [
       "array(['C:\\\\Users\\\\John\\\\Documents\\\\Research\\\\ML_Gravity\\\\GravNN\\\\CelestialBodies/../Files/ShapeModels/Eros_Blender_25k_poly.stl',\n",
       "       'C:\\\\Users\\\\John\\\\Documents\\\\Research\\\\ML_Gravity\\\\GravNN\\\\CelestialBodies/../Files/ShapeModels/Eros_Blender_25k_poly.stl',\n",
       "       'C:\\\\Users\\\\John\\\\Documents\\\\Research\\\\ML_Gravity\\\\GravNN\\\\CelestialBodies/../Files/ShapeModels/Eros_Blender_25k_poly.stl'],\n",
       "      dtype=object)"
      ]
     },
     "metadata": {},
     "execution_count": 7
    }
   ],
   "source": [
    "df['grav_file'].values"
   ]
  },
  {
   "cell_type": "code",
   "execution_count": null,
   "metadata": {},
   "outputs": [],
   "source": [
    "df[['layers', 'distribution', 'Brillouin_sh_diff_median', 'LEO_sh_diff_median', 'radius_min','radius_max','params']].sort_values(by='layers')#, 'Brillouin_sh_diff_median']"
   ]
  },
  {
   "source": [
    "# Format Distrubtion Dataframe Columns "
   ],
   "cell_type": "markdown",
   "metadata": {}
  },
  {
   "cell_type": "code",
   "execution_count": null,
   "metadata": {},
   "outputs": [],
   "source": [
    "pd.set_option('mode.chained_assignment','raise')\n",
    "\n",
    "from GravNN.Trajectories.ExponentialDist import ExponentialDist\n",
    "from GravNN.Trajectories.GaussianDist import GaussianDist\n",
    "from GravNN.Trajectories.RandomDist import RandomDist\n",
    "from GravNN.CelestialBodies.Planets import Earth\n",
    "\n",
    "mask = df['distribution'] == RandomDist\n",
    "df.loc[mask, ('invert', 'scale_parameter')]=None\n",
    "\n",
    "\n",
    "mask = df['distribution'] == ExponentialDist\n",
    "df.loc[mask, ('mu', 'sigma')]=None\n",
    "\n",
    "df['N_dist'] = 1000000\n",
    "df['planet'] = Earth()"
   ]
  },
  {
   "cell_type": "code",
   "execution_count": 164,
   "metadata": {},
   "outputs": [],
   "source": [
    "df_rand = df[df['radius_max'] == 6798136.6]\n",
    "df_rand = df_rand[df_rand['radius_min'] == 6378136.6]\n"
   ]
  },
  {
   "cell_type": "code",
   "execution_count": 167,
   "metadata": {},
   "outputs": [],
   "source": [
    "\n",
    "df_rand.to_pickle(\"C:\\\\Users\\\\John\\\\Documents\\\\Research\\\\ML_Gravity\\\\N_1000000_Rand_Study.data\")\n",
    "\n"
   ]
  },
  {
   "cell_type": "code",
   "execution_count": 189,
   "metadata": {},
   "outputs": [],
   "source": [
    "file_name = \"C:\\\\Users\\\\John\\\\Documents\\\\Research\\\\ML_Gravity\\\\N_1000000_Rand_Study.data\"\n",
    "df_rand = pd.read_pickle(file_name)\n",
    "\n",
    "file_name = \"C:\\\\Users\\\\John\\\\Documents\\\\Research\\\\ML_Gravity\\\\N_1000000_exp_norm_study.data\"\n",
    "df_exp = pd.read_pickle(file_name)\n",
    "df_exp['grav_file'] = Earth().sh_hf_file\n",
    "df_exp.rename(columns={\"Brillouin_sh_diff_mean\":\"Brillouin_sh_rse_mean\", \"Brillouin_sh_diff_median\":\"Brillouin_sh_rse_median\"},inplace=True)#, \"Brillouin_diff_std\":\"Brillouin_rse_diff\"}, inplace=True)\n",
    "df_rand.drop(columns=[\"Brillouin_sh_diff_mean\", \"Brillouin_sh_diff_median\"], axis=1,inplace=True)\n",
    "\n",
    "df = pd.concat([df_rand, df_exp])\n",
    "df.to_pickle( \"C:\\\\Users\\\\John\\\\Documents\\\\Research\\\\ML_Gravity\\\\N_1000000_all.data\")\n",
    "\n",
    "\n"
   ]
  },
  {
   "cell_type": "code",
   "execution_count": 190,
   "metadata": {},
   "outputs": [
    {
     "output_type": "execute_result",
     "data": {
      "text/plain": [
       "timetag\n",
       "Fri Jan  1 08:25:06 2021    <class 'GravNN.Trajectories.RandomDist.RandomD...\n",
       "Fri Jan  1 14:24:36 2021    <class 'GravNN.Trajectories.RandomDist.RandomD...\n",
       "Fri Jan  1 18:54:41 2021    <class 'GravNN.Trajectories.RandomDist.RandomD...\n",
       "Fri Jan  1 21:51:03 2021    <class 'GravNN.Trajectories.RandomDist.RandomD...\n",
       "Sat Jan  2 00:29:47 2021    <class 'GravNN.Trajectories.RandomDist.RandomD...\n",
       "Fri Dec 25 02:02:13 2020    <class 'GravNN.Trajectories.ExponentialDist.Ex...\n",
       "Fri Dec 25 06:25:13 2020    <class 'GravNN.Trajectories.ExponentialDist.Ex...\n",
       "Fri Dec 25 09:16:30 2020    <class 'GravNN.Trajectories.ExponentialDist.Ex...\n",
       "Fri Dec 25 12:09:38 2020    <class 'GravNN.Trajectories.ExponentialDist.Ex...\n",
       "Fri Dec 25 21:12:47 2020    <class 'GravNN.Trajectories.ExponentialDist.Ex...\n",
       "Mon Dec 28 02:20:43 2020    <class 'GravNN.Trajectories.GaussianDist.Gauss...\n",
       "Mon Dec 28 05:11:45 2020    <class 'GravNN.Trajectories.GaussianDist.Gauss...\n",
       "Sat Dec 26 06:15:23 2020    <class 'GravNN.Trajectories.ExponentialDist.Ex...\n",
       "Sat Dec 26 10:37:50 2020    <class 'GravNN.Trajectories.ExponentialDist.Ex...\n",
       "Sat Dec 26 15:00:24 2020    <class 'GravNN.Trajectories.ExponentialDist.Ex...\n",
       "Sat Dec 26 17:51:44 2020    <class 'GravNN.Trajectories.ExponentialDist.Ex...\n",
       "Sat Dec 26 20:43:31 2020    <class 'GravNN.Trajectories.ExponentialDist.Ex...\n",
       "Sun Dec 27 05:43:44 2020    <class 'GravNN.Trajectories.GaussianDist.Gauss...\n",
       "Sun Dec 27 14:46:27 2020    <class 'GravNN.Trajectories.GaussianDist.Gauss...\n",
       "Sun Dec 27 19:09:27 2020    <class 'GravNN.Trajectories.GaussianDist.Gauss...\n",
       "Sun Dec 27 23:28:47 2020    <class 'GravNN.Trajectories.GaussianDist.Gauss...\n",
       "Thu Dec 24 12:38:24 2020    <class 'GravNN.Trajectories.ExponentialDist.Ex...\n",
       "Thu Dec 24 21:38:29 2020    <class 'GravNN.Trajectories.ExponentialDist.Ex...\n",
       "Name: distribution, dtype: object"
      ]
     },
     "metadata": {},
     "execution_count": 190
    }
   ],
   "source": [
    "df['distribution']\n"
   ]
  },
  {
   "cell_type": "code",
   "execution_count": 183,
   "metadata": {},
   "outputs": [],
   "source": [
    "df_exp.to_pickle(\"C:\\\\Users\\\\John\\\\Documents\\\\Research\\\\ML_Gravity\\\\N_1000000_exp_norm_study.data\")"
   ]
  },
  {
   "cell_type": "code",
   "execution_count": null,
   "metadata": {},
   "outputs": [],
   "source": [
    "# df_rand.drop(columns={'Brillouin_diff_mean', 'Brillouin_diff_median', 'Brillouin_diff_std', 'LEO_diff_mean', 'LEO_diff_median', 'LEO_diff_std'}, inplace=True)\n",
    "# df_rand.rename(columns={\"Brillouin_diff_mean\":\"Brillouin_rse_mean\", \"Brillouin_diff_median\":\"Brillouin_rse_median\", \"Brillouin_diff_std\":\"Brillouin_rse_diff\"}, inplace=True)\n",
    "# df_rand.rename(columns={\"LEO_diff_mean\":\"LEO_rse_mean\", \"LEO_diff_median\":\"LEO_rse_median\", \"LEO_diff_std\": \"LEO_rse_diff\"}, inplace=True)\n"
   ]
  },
  {
   "cell_type": "code",
   "execution_count": 144,
   "metadata": {},
   "outputs": [
    {
     "output_type": "execute_result",
     "data": {
      "text/plain": [
       "array(['Brillouin_rse_diff', 'Brillouin_sh_rse_mean',\n",
       "       'Brillouin_sh_rse_median', 'LEO_rse_diff', 'LEO_sh_rse_mean',\n",
       "       'LEO_sh_rse_median'], dtype=object)"
      ]
     },
     "metadata": {},
     "execution_count": 144
    }
   ],
   "source": [
    " np.setdiff1d( df_rand.columns.values, df_exp.columns.values)"
   ]
  },
  {
   "cell_type": "code",
   "execution_count": 2,
   "metadata": {},
   "outputs": [],
   "source": [
    "import pandas as pd\n",
    "file_name = 'C:\\\\Users\\\\John\\\\Documents\\\\Research\\\\ML_Gravity\\\\poly_stats_eros_surface.data'\n",
    "df = pd.read_pickle(file_name)"
   ]
  },
  {
   "cell_type": "code",
   "execution_count": null,
   "metadata": {},
   "outputs": [],
   "source": [
    "import pandas as pd\n",
    "file_name = 'C:\\\\Users\\\\John\\\\Documents\\\\Research\\\\ML_Gravity\\\\Data\\\\speed_results.data'\n",
    "df = pd.read_pickle(file_name)"
   ]
  }
 ]
}