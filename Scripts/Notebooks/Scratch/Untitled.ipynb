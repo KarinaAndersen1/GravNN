{
 "cells": [
  {
   "cell_type": "code",
   "execution_count": 8,
   "id": "d3476ec3",
   "metadata": {},
   "outputs": [
    {
     "name": "stdout",
     "output_type": "stream",
     "text": [
      "/Users/johnmartin/Documents/GraduateSchool/Research/ML_Gravity\n"
     ]
    }
   ],
   "source": [
    "%cd /Users/johnmartin/Documents/GraduateSchool/Research/ML_Gravity/"
   ]
  },
  {
   "cell_type": "code",
   "execution_count": 9,
   "id": "51c6e223",
   "metadata": {},
   "outputs": [],
   "source": [
    "from GravNN.Networks.utils import configure_tensorflow\n",
    "from GravNN.Networks.Model import load_config_and_model\n",
    "from GravNN.Networks.Data import standardize_output\n",
    "tf = configure_tensorflow()\n",
    "import numpy as np\n",
    "import pandas as pd"
   ]
  },
  {
   "cell_type": "code",
   "execution_count": 10,
   "id": "92ad2e60",
   "metadata": {},
   "outputs": [
    {
     "name": "stdout",
     "output_type": "stream",
     "text": [
      "WARNING:tensorflow:No training configuration found in save file, so the model was *not* compiled. Compile it manually.\n"
     ]
    }
   ],
   "source": [
    "df_file = \"Data/Dataframes/useless_061121.data\"\n",
    "df = pd.read_pickle(df_file)\n",
    "idx = 0\n",
    "\n",
    "model_id = df[\"id\"].values[idx]\n",
    "tf.keras.backend.clear_session()\n",
    "config, model = load_config_and_model(model_id, df)\n",
    "\n",
    "x_transformer = config['x_transformer'][0]\n",
    "u_transformer = config['u_transformer'][0]\n",
    "\n",
    "x_scaler = x_transformer.data_range_\n",
    "u_scaler = u_transformer.data_range_"
   ]
  },
  {
   "cell_type": "code",
   "execution_count": 26,
   "id": "177b6a34",
   "metadata": {},
   "outputs": [
    {
     "data": {
      "text/plain": [
       "<tf.Tensor: shape=(6,), dtype=float32, numpy=\n",
       "array([ 8.9999998e-01, -6.7979995e+03,  0.0000000e+00,  8.6524404e+03,\n",
       "        6.1181997e+03,  0.0000000e+00], dtype=float32)>"
      ]
     },
     "execution_count": 26,
     "metadata": {},
     "output_type": "execute_result"
    }
   ],
   "source": [
    "a = 6378.0+420.0\n",
    "e = 0.1\n",
    "i = np.pi/4.0\n",
    "omega = 0.0\n",
    "Omega = 0.0\n",
    "tau = 0.0\n",
    "OE = [a, e, i, omega, Omega, tau]\n",
    "mu = 3.986004418*10**14 / 1000**3 # km^3/s^2\n",
    "\n",
    "x0 = tf.constant(x_scaler, dtype=tf.float32, name='x_scale')\n",
    "u0 = tf.constant(u_scaler, dtype=tf.float32, name='u_scale')\n",
    "mu = tf.constant(mu, dtype=tf.float32, name='mu')\n",
    "\n",
    "OE = tf.Variable(OE, dtype=tf.float32, name='orbit_elements')\n",
    "\n",
    "f = tf.constant(0.0, dtype=tf.float32)\n",
    "with tf.GradientTape(persistent=True) as tape:\n",
    "    tape.watch(OE)\n",
    "    tape.watch(x0)\n",
    "    tape.watch(u0)\n",
    "    tape.watch(mu)\n",
    "    tape.watch(f) # Needs to be watched because it isn't a 'trainable variable' https://stackoverflow.com/questions/56916313/tensorflow-2-0-doesnt-compute-the-gradient\n",
    "\n",
    "    a = OE[0]\n",
    "    e = OE[1]\n",
    "    i = OE[2]\n",
    "    omega = OE[3]\n",
    "    Omega = OE[4]\n",
    "    tau = OE[5]\n",
    "\n",
    "    p = a*(1-e**2)\n",
    "\n",
    "    e_tensor, e_mag = tf.linalg.normalize(e)\n",
    "\n",
    "    cf = tf.math.cos(f)\n",
    "    sf = tf.math.sin(f)\n",
    "\n",
    "    r_eHatTerm = p*cf/(1.0+e_mag*cf)\n",
    "    r_ePerpHatTerm = p*sf/(1.0+e_mag*cf)\n",
    "\n",
    "    v_eHatTerm = tf.math.sqrt(mu/p)*-sf\n",
    "    v_ePerpHatTerm = tf.math.sqrt(mu/p)*(e_mag+cf)\n",
    "\n",
    "    cw = tf.math.cos(omega)\n",
    "    sw = tf.math.sin(omega)\n",
    "\n",
    "    cO = tf.math.cos(Omega)\n",
    "    sO = tf.math.sin(Omega)\n",
    "\n",
    "    ci = tf.math.cos(i)\n",
    "    si = tf.math.sin(i)\n",
    "\n",
    "    r_nHat = r_eHatTerm*tf.stack([cw,  sw], 0) + r_ePerpHatTerm*tf.stack([-1.0*sw, cw], 0)\n",
    "    r_xyz = r_nHat[0]*tf.stack([cO, sO, 0.0], 0) + r_nHat[1]*tf.stack([-1.0*ci*sO, ci*cO, si], 0)\n",
    "\n",
    "    v_nHat = v_eHatTerm*tf.stack([cw,  sw], 0) + v_ePerpHatTerm*tf.stack([-1.0*sw, cw], 0)\n",
    "    v_xyz = v_nHat[0]*tf.stack([cO, sO, 0.0], 0) + v_nHat[1]*tf.stack([-1.0*ci*sO, ci*cO, si], 0)\n",
    "\n",
    "    \n",
    "    output = tf.stack([cw,  sw])\n",
    "    output = tf.concat([cw, sw], 0)\n",
    "    \n",
    "    r, v = r_xyz, v_xyz\n",
    "    r_scaled = tf.reshape(r/x0, shape=(1,3))\n",
    "    y_hat = model(r_scaled)#.astype('float32'))\n",
    "    u_pred, a_pred, laplace_pred, curl_pred = standardize_output(y_hat, config)\n",
    "    u = u_pred*u0\n",
    "\n",
    "tape.gradient(r, OE)\n",
    "\n"
   ]
  },
  {
   "cell_type": "code",
   "execution_count": null,
   "id": "64c1e2b8",
   "metadata": {},
   "outputs": [],
   "source": []
  }
 ],
 "metadata": {
  "kernelspec": {
   "display_name": "Python 3",
   "language": "python",
   "name": "python3"
  },
  "language_info": {
   "codemirror_mode": {
    "name": "ipython",
    "version": 3
   },
   "file_extension": ".py",
   "mimetype": "text/x-python",
   "name": "python",
   "nbconvert_exporter": "python",
   "pygments_lexer": "ipython3",
   "version": "3.7.6"
  }
 },
 "nbformat": 4,
 "nbformat_minor": 5
}
