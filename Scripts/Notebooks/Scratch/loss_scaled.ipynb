{
 "metadata": {
  "language_info": {
   "codemirror_mode": {
    "name": "ipython",
    "version": 3
   },
   "file_extension": ".py",
   "mimetype": "text/x-python",
   "name": "python",
   "nbconvert_exporter": "python",
   "pygments_lexer": "ipython3",
   "version": 3
  },
  "orig_nbformat": 2
 },
 "nbformat": 4,
 "nbformat_minor": 2,
 "cells": [
  {
   "cell_type": "code",
   "execution_count": null,
   "metadata": {},
   "outputs": [],
   "source": [
    "import pandas as pd\n",
    "import numpy as np\n",
    "import tensorflow as tf\n",
    "from GravNN.Networks.Networks import ResNet, TraditionalNet"
   ]
  },
  {
   "cell_type": "code",
   "execution_count": null,
   "metadata": {},
   "outputs": [],
   "source": [
    "file_name = 'C:\\\\Users\\\\John\\\\Documents\\\\Research\\\\ML_Gravity\\\\Data\\\\Dataframes\\\\hyperparameter_earth_pinn_20_v2.data'\n",
    "\n",
    "df = pd.read_pickle(file_name)\n",
    "\n",
    "import copy\n",
    "backup = copy.deepcopy(df)"
   ]
  }
 ]
}