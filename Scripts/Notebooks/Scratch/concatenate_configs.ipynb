{
 "cells": [
  {
   "cell_type": "code",
   "execution_count": 3,
   "metadata": {},
   "outputs": [],
   "source": [
    "import pandas as pd\n",
    "import glob\n",
    "import os"
   ]
  },
  {
   "cell_type": "code",
   "execution_count": 15,
   "metadata": {},
   "outputs": [
    {
     "name": "stdout",
     "output_type": "stream",
     "text": [
      "/Users/johnmartin/Documents/GraduateSchool/Research/ML_Gravity/Scripts/Notebooks/Scratch\n",
      "['/Users/johnmartin/Documents/GraduateSchool/Research/ML_Gravity/Scripts/Notebooks/Scratch/../../../Data/Networks/2459442.5715625', '/Users/johnmartin/Documents/GraduateSchool/Research/ML_Gravity/Scripts/Notebooks/Scratch/../../../Data/Networks/2459442.522627315', '/Users/johnmartin/Documents/GraduateSchool/Research/ML_Gravity/Scripts/Notebooks/Scratch/../../../Data/Networks/2459442.5130787035', '/Users/johnmartin/Documents/GraduateSchool/Research/ML_Gravity/Scripts/Notebooks/Scratch/../../../Data/Networks/2459442.5105555556', '/Users/johnmartin/Documents/GraduateSchool/Research/ML_Gravity/Scripts/Notebooks/Scratch/../../../Data/Networks/2459442.4477546294', '/Users/johnmartin/Documents/GraduateSchool/Research/ML_Gravity/Scripts/Notebooks/Scratch/../../../Data/Networks/2459442.4312962964', '/Users/johnmartin/Documents/GraduateSchool/Research/ML_Gravity/Scripts/Notebooks/Scratch/../../../Data/Networks/2459442.419976852', '/Users/johnmartin/Documents/GraduateSchool/Research/ML_Gravity/Scripts/Notebooks/Scratch/../../../Data/Networks/2459442.408703704', '/Users/johnmartin/Documents/GraduateSchool/Research/ML_Gravity/Scripts/Notebooks/Scratch/../../../Data/Networks/2459442.407928241', '/Users/johnmartin/Documents/GraduateSchool/Research/ML_Gravity/Scripts/Notebooks/Scratch/../../../Data/Networks/2459442.396898148', '/Users/johnmartin/Documents/GraduateSchool/Research/ML_Gravity/Scripts/Notebooks/Scratch/../../../Data/Networks/2459442.3901157407', '/Users/johnmartin/Documents/GraduateSchool/Research/ML_Gravity/Scripts/Notebooks/Scratch/../../../Data/Networks/2459442.3801041665', '/Users/johnmartin/Documents/GraduateSchool/Research/ML_Gravity/Scripts/Notebooks/Scratch/../../../Data/Networks/2459442.3491435186', '/Users/johnmartin/Documents/GraduateSchool/Research/ML_Gravity/Scripts/Notebooks/Scratch/../../../Data/Networks/2459442.338576389', '/Users/johnmartin/Documents/GraduateSchool/Research/ML_Gravity/Scripts/Notebooks/Scratch/../../../Data/Networks/2459442.3232175927', '/Users/johnmartin/Documents/GraduateSchool/Research/ML_Gravity/Scripts/Notebooks/Scratch/../../../Data/Networks/2459442.317974537', '/Users/johnmartin/Documents/GraduateSchool/Research/ML_Gravity/Scripts/Notebooks/Scratch/../../../Data/Networks/2459442.3158449074', '/Users/johnmartin/Documents/GraduateSchool/Research/ML_Gravity/Scripts/Notebooks/Scratch/../../../Data/Networks/2459442.315740741', '/Users/johnmartin/Documents/GraduateSchool/Research/ML_Gravity/Scripts/Notebooks/Scratch/../../../Data/Networks/2459442.3131944444', '/Users/johnmartin/Documents/GraduateSchool/Research/ML_Gravity/Scripts/Notebooks/Scratch/../../../Data/Networks/2459442.3080671295', '/Users/johnmartin/Documents/GraduateSchool/Research/ML_Gravity/Scripts/Notebooks/Scratch/../../../Data/Networks/2459442.289270833', '/Users/johnmartin/Documents/GraduateSchool/Research/ML_Gravity/Scripts/Notebooks/Scratch/../../../Data/Networks/2459442.2890046295']\n"
     ]
    }
   ],
   "source": [
    "files = glob.glob(os.path.abspath('.') + '/../../../Data/Networks/*')\n",
    "files.sort(key=os.path.getmtime, reverse=True)\n",
    "df_files = files[1:23]\n",
    "print(os.path.abspath('.'))\n",
    "print(files[1:23])"
   ]
  },
  {
   "cell_type": "code",
   "execution_count": 17,
   "metadata": {},
   "outputs": [
    {
     "name": "stdout",
     "output_type": "stream",
     "text": [
      "                          N_dist  N_train  N_val  \\\n",
      "timetag                                            \n",
      "Mon Aug 16 01:43:03 2021   50000    12500   1500   \n",
      "Mon Aug 16 00:32:35 2021   50000    12500   1500   \n",
      "Mon Aug 16 00:18:50 2021   50000    25000   1500   \n",
      "Mon Aug 16 00:15:12 2021   50000    25000   1500   \n",
      "Sun Aug 15 22:44:46 2021   50000    25000   1500   \n",
      "Sun Aug 15 22:21:04 2021   50000    25000   1500   \n",
      "Sun Aug 15 22:04:46 2021   50000    25000   1500   \n",
      "Sun Aug 15 21:48:32 2021   50000    25000   1500   \n",
      "Sun Aug 15 21:47:25 2021   50000     2500   1500   \n",
      "Sun Aug 15 21:31:32 2021   50000     2500   1500   \n",
      "Sun Aug 15 21:21:46 2021   50000    12500   1500   \n",
      "Sun Aug 15 21:07:21 2021   50000    12500   1500   \n",
      "Sun Aug 15 20:22:46 2021   50000    12500   1500   \n",
      "Sun Aug 15 20:07:33 2021   50000    12500   1500   \n",
      "Sun Aug 15 19:45:26 2021   50000    12500   1500   \n",
      "Sun Aug 15 19:37:53 2021   50000    12500   1500   \n",
      "Sun Aug 15 19:34:49 2021   50000     2500   1500   \n",
      "Sun Aug 15 19:34:40 2021   50000     2500   1500   \n",
      "Sun Aug 15 19:31:00 2021   50000     2500   1500   \n",
      "Sun Aug 15 19:23:37 2021   50000     2500   1500   \n",
      "Sun Aug 15 18:56:33 2021   50000     2500   1500   \n",
      "Sun Aug 15 18:56:10 2021   50000     2500   1500   \n",
      "\n",
      "                                          PINN_constraint_fcn  \\\n",
      "timetag                                                         \n",
      "Mon Aug 16 01:43:03 2021  <function pinn_APLC at 0x14af2b680>   \n",
      "Mon Aug 16 00:32:35 2021   <function pinn_ALC at 0x14af2b5f0>   \n",
      "Mon Aug 16 00:18:50 2021  <function pinn_APLC at 0x14af2b680>   \n",
      "Mon Aug 16 00:15:12 2021   <function pinn_ALC at 0x14af2b5f0>   \n",
      "Sun Aug 15 22:44:46 2021    <function pinn_AP at 0x14af2b440>   \n",
      "Sun Aug 15 22:21:04 2021     <function pinn_A at 0x143a5d710>   \n",
      "Sun Aug 15 22:04:46 2021    <function pinn_AP at 0x14af2b440>   \n",
      "Sun Aug 15 21:48:32 2021     <function pinn_A at 0x143a5d710>   \n",
      "Sun Aug 15 21:47:25 2021  <function pinn_APLC at 0x14af2b680>   \n",
      "Sun Aug 15 21:31:32 2021   <function pinn_ALC at 0x14af2b5f0>   \n",
      "Sun Aug 15 21:21:46 2021   <function pinn_ALC at 0x14af2b5f0>   \n",
      "Sun Aug 15 21:07:21 2021  <function pinn_APLC at 0x14af2b680>   \n",
      "Sun Aug 15 20:22:46 2021    <function pinn_AP at 0x14af2b440>   \n",
      "Sun Aug 15 20:07:33 2021     <function pinn_A at 0x143a5d710>   \n",
      "Sun Aug 15 19:45:26 2021    <function pinn_AP at 0x14af2b440>   \n",
      "Sun Aug 15 19:37:53 2021     <function pinn_A at 0x143a5d710>   \n",
      "Sun Aug 15 19:34:49 2021   <function pinn_ALC at 0x14af2b5f0>   \n",
      "Sun Aug 15 19:34:40 2021  <function pinn_APLC at 0x14af2b680>   \n",
      "Sun Aug 15 19:31:00 2021    <function pinn_AP at 0x14af2b440>   \n",
      "Sun Aug 15 19:23:37 2021     <function pinn_A at 0x143a5d710>   \n",
      "Sun Aug 15 18:56:33 2021    <function pinn_AP at 0x14af2b440>   \n",
      "Sun Aug 15 18:56:10 2021     <function pinn_A at 0x143a5d710>   \n",
      "\n",
      "                                                          a_bar_transformer  \\\n",
      "timetag                                                                       \n",
      "Mon Aug 16 01:43:03 2021  <GravNN.Preprocessors.UniformScaler.UniformSca...   \n",
      "Mon Aug 16 00:32:35 2021  <GravNN.Preprocessors.UniformScaler.UniformSca...   \n",
      "Mon Aug 16 00:18:50 2021  <GravNN.Preprocessors.UniformScaler.UniformSca...   \n",
      "Mon Aug 16 00:15:12 2021  <GravNN.Preprocessors.UniformScaler.UniformSca...   \n",
      "Sun Aug 15 22:44:46 2021  <GravNN.Preprocessors.UniformScaler.UniformSca...   \n",
      "Sun Aug 15 22:21:04 2021  <GravNN.Preprocessors.UniformScaler.UniformSca...   \n",
      "Sun Aug 15 22:04:46 2021  <GravNN.Preprocessors.UniformScaler.UniformSca...   \n",
      "Sun Aug 15 21:48:32 2021  <GravNN.Preprocessors.UniformScaler.UniformSca...   \n",
      "Sun Aug 15 21:47:25 2021  <GravNN.Preprocessors.UniformScaler.UniformSca...   \n",
      "Sun Aug 15 21:31:32 2021  <GravNN.Preprocessors.UniformScaler.UniformSca...   \n",
      "Sun Aug 15 21:21:46 2021  <GravNN.Preprocessors.UniformScaler.UniformSca...   \n",
      "Sun Aug 15 21:07:21 2021  <GravNN.Preprocessors.UniformScaler.UniformSca...   \n",
      "Sun Aug 15 20:22:46 2021  <GravNN.Preprocessors.UniformScaler.UniformSca...   \n",
      "Sun Aug 15 20:07:33 2021  <GravNN.Preprocessors.UniformScaler.UniformSca...   \n",
      "Sun Aug 15 19:45:26 2021  <GravNN.Preprocessors.UniformScaler.UniformSca...   \n",
      "Sun Aug 15 19:37:53 2021  <GravNN.Preprocessors.UniformScaler.UniformSca...   \n",
      "Sun Aug 15 19:34:49 2021  <GravNN.Preprocessors.UniformScaler.UniformSca...   \n",
      "Sun Aug 15 19:34:40 2021  <GravNN.Preprocessors.UniformScaler.UniformSca...   \n",
      "Sun Aug 15 19:31:00 2021  <GravNN.Preprocessors.UniformScaler.UniformSca...   \n",
      "Sun Aug 15 19:23:37 2021  <GravNN.Preprocessors.UniformScaler.UniformSca...   \n",
      "Sun Aug 15 18:56:33 2021  <GravNN.Preprocessors.UniformScaler.UniformSca...   \n",
      "Sun Aug 15 18:56:10 2021  <GravNN.Preprocessors.UniformScaler.UniformSca...   \n",
      "\n",
      "                                                              a_transformer  \\\n",
      "timetag                                                                       \n",
      "Mon Aug 16 01:43:03 2021  <GravNN.Preprocessors.UniformScaler.UniformSca...   \n",
      "Mon Aug 16 00:32:35 2021  <GravNN.Preprocessors.UniformScaler.UniformSca...   \n",
      "Mon Aug 16 00:18:50 2021  <GravNN.Preprocessors.UniformScaler.UniformSca...   \n",
      "Mon Aug 16 00:15:12 2021  <GravNN.Preprocessors.UniformScaler.UniformSca...   \n",
      "Sun Aug 15 22:44:46 2021  <GravNN.Preprocessors.UniformScaler.UniformSca...   \n",
      "Sun Aug 15 22:21:04 2021  <GravNN.Preprocessors.UniformScaler.UniformSca...   \n",
      "Sun Aug 15 22:04:46 2021  <GravNN.Preprocessors.UniformScaler.UniformSca...   \n",
      "Sun Aug 15 21:48:32 2021  <GravNN.Preprocessors.UniformScaler.UniformSca...   \n",
      "Sun Aug 15 21:47:25 2021  <GravNN.Preprocessors.UniformScaler.UniformSca...   \n",
      "Sun Aug 15 21:31:32 2021  <GravNN.Preprocessors.UniformScaler.UniformSca...   \n",
      "Sun Aug 15 21:21:46 2021  <GravNN.Preprocessors.UniformScaler.UniformSca...   \n",
      "Sun Aug 15 21:07:21 2021  <GravNN.Preprocessors.UniformScaler.UniformSca...   \n",
      "Sun Aug 15 20:22:46 2021  <GravNN.Preprocessors.UniformScaler.UniformSca...   \n",
      "Sun Aug 15 20:07:33 2021  <GravNN.Preprocessors.UniformScaler.UniformSca...   \n",
      "Sun Aug 15 19:45:26 2021  <GravNN.Preprocessors.UniformScaler.UniformSca...   \n",
      "Sun Aug 15 19:37:53 2021  <GravNN.Preprocessors.UniformScaler.UniformSca...   \n",
      "Sun Aug 15 19:34:49 2021  <GravNN.Preprocessors.UniformScaler.UniformSca...   \n",
      "Sun Aug 15 19:34:40 2021  <GravNN.Preprocessors.UniformScaler.UniformSca...   \n",
      "Sun Aug 15 19:31:00 2021  <GravNN.Preprocessors.UniformScaler.UniformSca...   \n",
      "Sun Aug 15 19:23:37 2021  <GravNN.Preprocessors.UniformScaler.UniformSca...   \n",
      "Sun Aug 15 18:56:33 2021  <GravNN.Preprocessors.UniformScaler.UniformSca...   \n",
      "Sun Aug 15 18:56:10 2021  <GravNN.Preprocessors.UniformScaler.UniformSca...   \n",
      "\n",
      "                          acc_noise activation analytic_truth basis  ...  \\\n",
      "timetag                                                              ...   \n",
      "Mon Aug 16 01:43:03 2021        0.0       gelu    poly_stats_  None  ...   \n",
      "Mon Aug 16 00:32:35 2021        0.0       gelu    poly_stats_  None  ...   \n",
      "Mon Aug 16 00:18:50 2021        0.0       gelu    poly_stats_  None  ...   \n",
      "Mon Aug 16 00:15:12 2021        0.0       gelu    poly_stats_  None  ...   \n",
      "Sun Aug 15 22:44:46 2021        0.0       gelu    poly_stats_  None  ...   \n",
      "Sun Aug 15 22:21:04 2021        0.0       gelu    poly_stats_  None  ...   \n",
      "Sun Aug 15 22:04:46 2021        0.0       gelu    poly_stats_  None  ...   \n",
      "Sun Aug 15 21:48:32 2021        0.0       gelu    poly_stats_  None  ...   \n",
      "Sun Aug 15 21:47:25 2021        0.0       gelu    poly_stats_  None  ...   \n",
      "Sun Aug 15 21:31:32 2021        0.0       gelu    poly_stats_  None  ...   \n",
      "Sun Aug 15 21:21:46 2021        0.0       gelu    poly_stats_  None  ...   \n",
      "Sun Aug 15 21:07:21 2021        0.0       gelu    poly_stats_  None  ...   \n",
      "Sun Aug 15 20:22:46 2021        0.0       gelu    poly_stats_  None  ...   \n",
      "Sun Aug 15 20:07:33 2021        0.0       gelu    poly_stats_  None  ...   \n",
      "Sun Aug 15 19:45:26 2021        0.0       gelu    poly_stats_  None  ...   \n",
      "Sun Aug 15 19:37:53 2021        0.0       gelu    poly_stats_  None  ...   \n",
      "Sun Aug 15 19:34:49 2021        0.0       gelu    poly_stats_  None  ...   \n",
      "Sun Aug 15 19:34:40 2021        0.0       gelu    poly_stats_  None  ...   \n",
      "Sun Aug 15 19:31:00 2021        0.0       gelu    poly_stats_  None  ...   \n",
      "Sun Aug 15 19:23:37 2021        0.0       gelu    poly_stats_  None  ...   \n",
      "Sun Aug 15 18:56:33 2021        0.0       gelu    poly_stats_  None  ...   \n",
      "Sun Aug 15 18:56:10 2021        0.0       gelu    poly_stats_  None  ...   \n",
      "\n",
      "                          radius_min  remove_point_mass scale_by  \\\n",
      "timetag                                                            \n",
      "Mon Aug 16 01:43:03 2021           0              False  non_dim   \n",
      "Mon Aug 16 00:32:35 2021           0              False  non_dim   \n",
      "Mon Aug 16 00:18:50 2021           0              False  non_dim   \n",
      "Mon Aug 16 00:15:12 2021           0              False  non_dim   \n",
      "Sun Aug 15 22:44:46 2021           0              False  non_dim   \n",
      "Sun Aug 15 22:21:04 2021           0              False  non_dim   \n",
      "Sun Aug 15 22:04:46 2021           0              False  non_dim   \n",
      "Sun Aug 15 21:48:32 2021           0              False  non_dim   \n",
      "Sun Aug 15 21:47:25 2021           0              False  non_dim   \n",
      "Sun Aug 15 21:31:32 2021           0              False  non_dim   \n",
      "Sun Aug 15 21:21:46 2021           0              False  non_dim   \n",
      "Sun Aug 15 21:07:21 2021           0              False  non_dim   \n",
      "Sun Aug 15 20:22:46 2021           0              False  non_dim   \n",
      "Sun Aug 15 20:07:33 2021           0              False  non_dim   \n",
      "Sun Aug 15 19:45:26 2021           0              False  non_dim   \n",
      "Sun Aug 15 19:37:53 2021           0              False  non_dim   \n",
      "Sun Aug 15 19:34:49 2021           0              False  non_dim   \n",
      "Sun Aug 15 19:34:40 2021           0              False  non_dim   \n",
      "Sun Aug 15 19:31:00 2021           0              False  non_dim   \n",
      "Sun Aug 15 19:23:37 2021           0              False  non_dim   \n",
      "Sun Aug 15 18:56:33 2021           0              False  non_dim   \n",
      "Sun Aug 15 18:56:10 2021           0              False  non_dim   \n",
      "\n",
      "                          schedule_type   size  skip_normalization  \\\n",
      "timetag                                                              \n",
      "Mon Aug 16 01:43:03 2021      exp_decay  14835               False   \n",
      "Mon Aug 16 00:32:35 2021      exp_decay  14856               False   \n",
      "Mon Aug 16 00:18:50 2021      exp_decay  14832               False   \n",
      "Mon Aug 16 00:15:12 2021      exp_decay  14821               False   \n",
      "Sun Aug 15 22:44:46 2021      exp_decay  14857               False   \n",
      "Sun Aug 15 22:21:04 2021      exp_decay  14832               False   \n",
      "Sun Aug 15 22:04:46 2021      exp_decay  14833               False   \n",
      "Sun Aug 15 21:48:32 2021      exp_decay  14834               False   \n",
      "Sun Aug 15 21:47:25 2021      exp_decay  14807               False   \n",
      "Sun Aug 15 21:31:32 2021      exp_decay  14840               False   \n",
      "Sun Aug 15 21:21:46 2021      exp_decay  14837               False   \n",
      "Sun Aug 15 21:07:21 2021      exp_decay  14843               False   \n",
      "Sun Aug 15 20:22:46 2021      exp_decay  14852               False   \n",
      "Sun Aug 15 20:07:33 2021      exp_decay  14829               False   \n",
      "Sun Aug 15 19:45:26 2021      exp_decay  14860               False   \n",
      "Sun Aug 15 19:37:53 2021      exp_decay  14829               False   \n",
      "Sun Aug 15 19:34:49 2021      exp_decay  14835               False   \n",
      "Sun Aug 15 19:34:40 2021      exp_decay  14831               False   \n",
      "Sun Aug 15 19:31:00 2021      exp_decay  14863               False   \n",
      "Sun Aug 15 19:23:37 2021      exp_decay  14839               False   \n",
      "Sun Aug 15 18:56:33 2021      exp_decay  14863               False   \n",
      "Sun Aug 15 18:56:10 2021      exp_decay  14833               False   \n",
      "\n",
      "                         sph_in_graph  time_delta  \\\n",
      "timetag                                             \n",
      "Mon Aug 16 01:43:03 2021         True    16537.91   \n",
      "Mon Aug 16 00:32:35 2021         True    11445.98   \n",
      "Mon Aug 16 00:18:50 2021         True     7062.25   \n",
      "Mon Aug 16 00:15:12 2021         True     5422.29   \n",
      "Sun Aug 15 22:44:46 2021         True     2396.95   \n",
      "Sun Aug 15 22:21:04 2021         True     1948.34   \n",
      "Sun Aug 15 22:04:46 2021         True     1035.95   \n",
      "Sun Aug 15 21:48:32 2021         True     1015.53   \n",
      "Sun Aug 15 21:47:25 2021         True     7961.59   \n",
      "Sun Aug 15 21:31:32 2021         True     7000.15   \n",
      "Sun Aug 15 21:21:46 2021         True     3535.41   \n",
      "Sun Aug 15 21:07:21 2021         True     3584.08   \n",
      "Sun Aug 15 20:22:46 2021         True     2236.58   \n",
      "Sun Aug 15 20:07:33 2021         True     1776.31   \n",
      "Sun Aug 15 19:45:26 2021         True      861.72   \n",
      "Sun Aug 15 19:37:53 2021         True      852.63   \n",
      "Sun Aug 15 19:34:49 2021         True     3177.41   \n",
      "Sun Aug 15 19:34:40 2021         True     3168.93   \n",
      "Sun Aug 15 19:31:00 2021         True     2062.34   \n",
      "Sun Aug 15 19:23:37 2021         True     1642.08   \n",
      "Sun Aug 15 18:56:33 2021         True      882.27   \n",
      "Sun Aug 15 18:56:10 2021         True      859.15   \n",
      "\n",
      "                                                              u_transformer  \\\n",
      "timetag                                                                       \n",
      "Mon Aug 16 01:43:03 2021  <GravNN.Preprocessors.UniformScaler.UniformSca...   \n",
      "Mon Aug 16 00:32:35 2021  <GravNN.Preprocessors.UniformScaler.UniformSca...   \n",
      "Mon Aug 16 00:18:50 2021  <GravNN.Preprocessors.UniformScaler.UniformSca...   \n",
      "Mon Aug 16 00:15:12 2021  <GravNN.Preprocessors.UniformScaler.UniformSca...   \n",
      "Sun Aug 15 22:44:46 2021  <GravNN.Preprocessors.UniformScaler.UniformSca...   \n",
      "Sun Aug 15 22:21:04 2021  <GravNN.Preprocessors.UniformScaler.UniformSca...   \n",
      "Sun Aug 15 22:04:46 2021  <GravNN.Preprocessors.UniformScaler.UniformSca...   \n",
      "Sun Aug 15 21:48:32 2021  <GravNN.Preprocessors.UniformScaler.UniformSca...   \n",
      "Sun Aug 15 21:47:25 2021  <GravNN.Preprocessors.UniformScaler.UniformSca...   \n",
      "Sun Aug 15 21:31:32 2021  <GravNN.Preprocessors.UniformScaler.UniformSca...   \n",
      "Sun Aug 15 21:21:46 2021  <GravNN.Preprocessors.UniformScaler.UniformSca...   \n",
      "Sun Aug 15 21:07:21 2021  <GravNN.Preprocessors.UniformScaler.UniformSca...   \n",
      "Sun Aug 15 20:22:46 2021  <GravNN.Preprocessors.UniformScaler.UniformSca...   \n",
      "Sun Aug 15 20:07:33 2021  <GravNN.Preprocessors.UniformScaler.UniformSca...   \n",
      "Sun Aug 15 19:45:26 2021  <GravNN.Preprocessors.UniformScaler.UniformSca...   \n",
      "Sun Aug 15 19:37:53 2021  <GravNN.Preprocessors.UniformScaler.UniformSca...   \n",
      "Sun Aug 15 19:34:49 2021  <GravNN.Preprocessors.UniformScaler.UniformSca...   \n",
      "Sun Aug 15 19:34:40 2021  <GravNN.Preprocessors.UniformScaler.UniformSca...   \n",
      "Sun Aug 15 19:31:00 2021  <GravNN.Preprocessors.UniformScaler.UniformSca...   \n",
      "Sun Aug 15 19:23:37 2021  <GravNN.Preprocessors.UniformScaler.UniformSca...   \n",
      "Sun Aug 15 18:56:33 2021  <GravNN.Preprocessors.UniformScaler.UniformSca...   \n",
      "Sun Aug 15 18:56:10 2021  <GravNN.Preprocessors.UniformScaler.UniformSca...   \n",
      "\n",
      "                                                              x_transformer  \n",
      "timetag                                                                      \n",
      "Mon Aug 16 01:43:03 2021  <GravNN.Preprocessors.UniformScaler.UniformSca...  \n",
      "Mon Aug 16 00:32:35 2021  <GravNN.Preprocessors.UniformScaler.UniformSca...  \n",
      "Mon Aug 16 00:18:50 2021  <GravNN.Preprocessors.UniformScaler.UniformSca...  \n",
      "Mon Aug 16 00:15:12 2021  <GravNN.Preprocessors.UniformScaler.UniformSca...  \n",
      "Sun Aug 15 22:44:46 2021  <GravNN.Preprocessors.UniformScaler.UniformSca...  \n",
      "Sun Aug 15 22:21:04 2021  <GravNN.Preprocessors.UniformScaler.UniformSca...  \n",
      "Sun Aug 15 22:04:46 2021  <GravNN.Preprocessors.UniformScaler.UniformSca...  \n",
      "Sun Aug 15 21:48:32 2021  <GravNN.Preprocessors.UniformScaler.UniformSca...  \n",
      "Sun Aug 15 21:47:25 2021  <GravNN.Preprocessors.UniformScaler.UniformSca...  \n",
      "Sun Aug 15 21:31:32 2021  <GravNN.Preprocessors.UniformScaler.UniformSca...  \n",
      "Sun Aug 15 21:21:46 2021  <GravNN.Preprocessors.UniformScaler.UniformSca...  \n",
      "Sun Aug 15 21:07:21 2021  <GravNN.Preprocessors.UniformScaler.UniformSca...  \n",
      "Sun Aug 15 20:22:46 2021  <GravNN.Preprocessors.UniformScaler.UniformSca...  \n",
      "Sun Aug 15 20:07:33 2021  <GravNN.Preprocessors.UniformScaler.UniformSca...  \n",
      "Sun Aug 15 19:45:26 2021  <GravNN.Preprocessors.UniformScaler.UniformSca...  \n",
      "Sun Aug 15 19:37:53 2021  <GravNN.Preprocessors.UniformScaler.UniformSca...  \n",
      "Sun Aug 15 19:34:49 2021  <GravNN.Preprocessors.UniformScaler.UniformSca...  \n",
      "Sun Aug 15 19:34:40 2021  <GravNN.Preprocessors.UniformScaler.UniformSca...  \n",
      "Sun Aug 15 19:31:00 2021  <GravNN.Preprocessors.UniformScaler.UniformSca...  \n",
      "Sun Aug 15 19:23:37 2021  <GravNN.Preprocessors.UniformScaler.UniformSca...  \n",
      "Sun Aug 15 18:56:33 2021  <GravNN.Preprocessors.UniformScaler.UniformSca...  \n",
      "Sun Aug 15 18:56:10 2021  <GravNN.Preprocessors.UniformScaler.UniformSca...  \n",
      "\n",
      "[22 rows x 50 columns]\n"
     ]
    }
   ],
   "source": [
    "df2 = pd.DataFrame()\n",
    "for file_name in df_files:\n",
    "    df = pd.read_pickle(file_name+\"/config.data\")\n",
    "    df2 = df2.append(df)\n",
    "\n",
    "print(df2)"
   ]
  },
  {
   "cell_type": "code",
   "execution_count": 20,
   "metadata": {},
   "outputs": [],
   "source": [
    "df2.to_pickle(os.path.abspath('.') + '/../../../Data/Dataframes/traditional_w_constraints_annealing.data')"
   ]
  },
  {
   "cell_type": "code",
   "execution_count": 53,
   "metadata": {},
   "outputs": [
    {
     "name": "stdout",
     "output_type": "stream",
     "text": [
      "['/Users/johnmartin/Documents/GraduateSchool/Research/ML_Gravity/Scripts/Notebooks/Scratch/../../../Data/Networks/2459432.399699074/network', '/Users/johnmartin/Documents/GraduateSchool/Research/ML_Gravity/Scripts/Notebooks/Scratch/../../../Data/Networks/2459432.399699074/networks']\n",
      "/Users/johnmartin/Documents/GraduateSchool/Research/ML_Gravity/Data/Networks/2459432.399699074/network\n",
      "2459432.399699074\n",
      "/Users/johnmartin/Documents/GraduateSchool/Research/ML_Gravity/Data/Networks/2459432.399699074/networks\n",
      "2459432.399699074\n"
     ]
    }
   ],
   "source": [
    "files = glob.glob(os.path.abspath('.') + '/../../../Data/Networks/*')\n",
    "files.sort(key=os.path.getmtime, reverse=True)\n",
    "df_files = files[1:50]\n",
    "\n",
    "for directory_name in df_files:\n",
    "    os.makedirs(directory_name + \"/network/assets\", exist_ok=True)\n",
    "    os.makedirs(directory_name + \"/network/variables\", exist_ok=True)\n",
    "    files = glob.glob(directory_name + '/*')\n",
    "    print(files)\n",
    "    for file_name in files:\n",
    "        full_path = os.path.realpath(file_name)\n",
    "\n",
    "        #print(os.path.relpath(file_name,'/Users/johnmartin/Documents/GraduateSchool/Research/ML_Gravity/Data/Networks'))\n",
    "        print(full_path)\n",
    "        print(os.path.basename(os.path.dirname(full_path)))\n",
    "\n",
    "    break"
   ]
  },
  {
   "cell_type": "code",
   "execution_count": 55,
   "metadata": {},
   "outputs": [
    {
     "data": {
      "text/plain": [
       "['network', 'networks']"
      ]
     },
     "execution_count": 55,
     "metadata": {},
     "output_type": "execute_result"
    }
   ],
   "source": [
    "os.listdir(file_name + \"/..\")"
   ]
  },
  {
   "cell_type": "code",
   "execution_count": 35,
   "metadata": {},
   "outputs": [
    {
     "data": {
      "text/plain": [
       "'networks'"
      ]
     },
     "execution_count": 35,
     "metadata": {},
     "output_type": "execute_result"
    }
   ],
   "source": [
    "os.path.relpath(file_name,os.path.dirname(file_name))"
   ]
  },
  {
   "cell_type": "code",
   "execution_count": 34,
   "metadata": {},
   "outputs": [
    {
     "data": {
      "text/plain": [
       "'2459442.5715625'"
      ]
     },
     "execution_count": 34,
     "metadata": {},
     "output_type": "execute_result"
    }
   ],
   "source": [
    "os.path.dirname(file_name).split('/')[-1]"
   ]
  },
  {
   "cell_type": "code",
   "execution_count": 31,
   "metadata": {},
   "outputs": [
    {
     "data": {
      "text/plain": [
       "'networks'"
      ]
     },
     "execution_count": 31,
     "metadata": {},
     "output_type": "execute_result"
    }
   ],
   "source": [
    "os.path.relpath(file_name,os.path.dirname(file_name))"
   ]
  },
  {
   "cell_type": "code",
   "execution_count": 36,
   "metadata": {},
   "outputs": [
    {
     "data": {
      "text/plain": [
       "'/Users/johnmartin/Documents/GraduateSchool/Research/ML_Gravity/Scripts/Notebooks/Scratch/../../../Data/Networks'"
      ]
     },
     "execution_count": 36,
     "metadata": {},
     "output_type": "execute_result"
    }
   ],
   "source": [
    "os.path.dirname(os.path.dirname(file_name))"
   ]
  },
  {
   "cell_type": "code",
   "execution_count": null,
   "metadata": {},
   "outputs": [],
   "source": []
  }
 ],
 "metadata": {
  "interpreter": {
   "hash": "a1e78c169a4aedeaa441431eb7d512758fd241d655b1c466e2bb1614349099ec"
  },
  "kernelspec": {
   "display_name": "Python 3.7.6 64-bit ('tf2': venv)",
   "name": "python3"
  },
  "language_info": {
   "codemirror_mode": {
    "name": "ipython",
    "version": 3
   },
   "file_extension": ".py",
   "mimetype": "text/x-python",
   "name": "python",
   "nbconvert_exporter": "python",
   "pygments_lexer": "ipython3",
   "version": "3.7.6"
  },
  "orig_nbformat": 4
 },
 "nbformat": 4,
 "nbformat_minor": 2
}