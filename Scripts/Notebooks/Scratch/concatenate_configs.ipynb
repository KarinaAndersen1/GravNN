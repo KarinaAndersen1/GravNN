{
 "cells": [
  {
   "cell_type": "code",
   "execution_count": 1,
   "metadata": {},
   "outputs": [],
   "source": [
    "import pandas as pd\n",
    "import glob\n",
    "import os"
   ]
  },
  {
   "cell_type": "code",
   "execution_count": 4,
   "metadata": {},
   "outputs": [
    {
     "name": "stdout",
     "output_type": "stream",
     "text": [
      "/Users/johnmartin/Documents/GraduateSchool/Research/ML_Gravity/Scripts/Notebooks/Scratch\n",
      "['/Users/johnmartin/Documents/GraduateSchool/Research/ML_Gravity/Scripts/Notebooks/Scratch/../../../Data/Networks/2459446.3604050926', '/Users/johnmartin/Documents/GraduateSchool/Research/ML_Gravity/Scripts/Notebooks/Scratch/../../../Data/Networks/2459446.360358796', '/Users/johnmartin/Documents/GraduateSchool/Research/ML_Gravity/Scripts/Notebooks/Scratch/../../../Data/Networks/2459446.3452430554', '/Users/johnmartin/Documents/GraduateSchool/Research/ML_Gravity/Scripts/Notebooks/Scratch/../../../Data/Networks/2459446.3451851853']\n"
     ]
    }
   ],
   "source": [
    "files = glob.glob(os.path.abspath('.') + '/../../../Data/Networks/*')\n",
    "files.sort(key=os.path.getmtime, reverse=True)\n",
    "df_files = files[0:4]\n",
    "print(os.path.abspath('.'))\n",
    "print(files[0:4])"
   ]
  },
  {
   "cell_type": "code",
   "execution_count": 5,
   "metadata": {},
   "outputs": [
    {
     "name": "stdout",
     "output_type": "stream",
     "text": [
      "                          N_dist  N_train  N_val  \\\n",
      "timetag                                            \n",
      "Thu Aug 19 20:38:59 2021   50000     2500   1500   \n",
      "Thu Aug 19 20:38:55 2021   50000     2500   1500   \n",
      "Thu Aug 19 20:17:09 2021   50000     2500   1500   \n",
      "Thu Aug 19 20:17:04 2021   50000     2500   1500   \n",
      "\n",
      "                                          PINN_constraint_fcn  \\\n",
      "timetag                                                         \n",
      "Thu Aug 19 20:38:59 2021   <function pinn_ALC at 0x1416f6200>   \n",
      "Thu Aug 19 20:38:55 2021  <function pinn_APLC at 0x13aa87e60>   \n",
      "Thu Aug 19 20:17:09 2021    <function pinn_AP at 0x139d473b0>   \n",
      "Thu Aug 19 20:17:04 2021     <function pinn_A at 0x139d40b00>   \n",
      "\n",
      "                                                          a_bar_transformer  \\\n",
      "timetag                                                                       \n",
      "Thu Aug 19 20:38:59 2021  <GravNN.Preprocessors.UniformScaler.UniformSca...   \n",
      "Thu Aug 19 20:38:55 2021  <GravNN.Preprocessors.UniformScaler.UniformSca...   \n",
      "Thu Aug 19 20:17:09 2021  <GravNN.Preprocessors.UniformScaler.UniformSca...   \n",
      "Thu Aug 19 20:17:04 2021  <GravNN.Preprocessors.UniformScaler.UniformSca...   \n",
      "\n",
      "                                                              a_transformer  \\\n",
      "timetag                                                                       \n",
      "Thu Aug 19 20:38:59 2021  <GravNN.Preprocessors.UniformScaler.UniformSca...   \n",
      "Thu Aug 19 20:38:55 2021  <GravNN.Preprocessors.UniformScaler.UniformSca...   \n",
      "Thu Aug 19 20:17:09 2021  <GravNN.Preprocessors.UniformScaler.UniformSca...   \n",
      "Thu Aug 19 20:17:04 2021  <GravNN.Preprocessors.UniformScaler.UniformSca...   \n",
      "\n",
      "                          acc_noise activation analytic_truth basis  ...  \\\n",
      "timetag                                                              ...   \n",
      "Thu Aug 19 20:38:59 2021        0.0       gelu    poly_stats_  None  ...   \n",
      "Thu Aug 19 20:38:55 2021        0.0       gelu    poly_stats_  None  ...   \n",
      "Thu Aug 19 20:17:09 2021        0.0       gelu    poly_stats_  None  ...   \n",
      "Thu Aug 19 20:17:04 2021        0.0       gelu    poly_stats_  None  ...   \n",
      "\n",
      "                          radius_max  radius_min remove_point_mass  scale_by  \\\n",
      "timetag                                                                        \n",
      "Thu Aug 19 20:38:59 2021     26000.0           0             False   non_dim   \n",
      "Thu Aug 19 20:38:55 2021     26000.0           0             False   non_dim   \n",
      "Thu Aug 19 20:17:09 2021     26000.0           0             False   non_dim   \n",
      "Thu Aug 19 20:17:04 2021     26000.0           0             False   non_dim   \n",
      "\n",
      "                          schedule_type   size skip_normalization  time_delta  \\\n",
      "timetag                                                                         \n",
      "Thu Aug 19 20:38:59 2021      exp_decay  14840              False     1302.36   \n",
      "Thu Aug 19 20:38:55 2021      exp_decay  14840              False     1305.64   \n",
      "Thu Aug 19 20:17:09 2021      exp_decay  14865              False      286.00   \n",
      "Thu Aug 19 20:17:04 2021      exp_decay  14839              False      281.54   \n",
      "\n",
      "                                                              u_transformer  \\\n",
      "timetag                                                                       \n",
      "Thu Aug 19 20:38:59 2021  <GravNN.Preprocessors.UniformScaler.UniformSca...   \n",
      "Thu Aug 19 20:38:55 2021  <GravNN.Preprocessors.UniformScaler.UniformSca...   \n",
      "Thu Aug 19 20:17:09 2021  <GravNN.Preprocessors.UniformScaler.UniformSca...   \n",
      "Thu Aug 19 20:17:04 2021  <GravNN.Preprocessors.UniformScaler.UniformSca...   \n",
      "\n",
      "                                                              x_transformer  \n",
      "timetag                                                                      \n",
      "Thu Aug 19 20:38:59 2021  <GravNN.Preprocessors.UniformScaler.UniformSca...  \n",
      "Thu Aug 19 20:38:55 2021  <GravNN.Preprocessors.UniformScaler.UniformSca...  \n",
      "Thu Aug 19 20:17:09 2021  <GravNN.Preprocessors.UniformScaler.UniformSca...  \n",
      "Thu Aug 19 20:17:04 2021  <GravNN.Preprocessors.UniformScaler.UniformSca...  \n",
      "\n",
      "[4 rows x 49 columns]\n"
     ]
    }
   ],
   "source": [
    "df2 = pd.DataFrame()\n",
    "for file_name in df_files:\n",
    "    df = pd.read_pickle(file_name+\"/config.data\")\n",
    "    df2 = df2.append(df)\n",
    "\n",
    "print(df2)"
   ]
  },
  {
   "cell_type": "code",
   "execution_count": 6,
   "metadata": {},
   "outputs": [],
   "source": [
    "df2.to_pickle(os.path.abspath('.') + '/../../../Data/Dataframes/small_data_pinn_constraints_wo_annealing.data')"
   ]
  },
  {
   "cell_type": "code",
   "execution_count": 53,
   "metadata": {},
   "outputs": [
    {
     "name": "stdout",
     "output_type": "stream",
     "text": [
      "['/Users/johnmartin/Documents/GraduateSchool/Research/ML_Gravity/Scripts/Notebooks/Scratch/../../../Data/Networks/2459432.399699074/network', '/Users/johnmartin/Documents/GraduateSchool/Research/ML_Gravity/Scripts/Notebooks/Scratch/../../../Data/Networks/2459432.399699074/networks']\n",
      "/Users/johnmartin/Documents/GraduateSchool/Research/ML_Gravity/Data/Networks/2459432.399699074/network\n",
      "2459432.399699074\n",
      "/Users/johnmartin/Documents/GraduateSchool/Research/ML_Gravity/Data/Networks/2459432.399699074/networks\n",
      "2459432.399699074\n"
     ]
    }
   ],
   "source": [
    "files = glob.glob(os.path.abspath('.') + '/../../../Data/Networks/*')\n",
    "files.sort(key=os.path.getmtime, reverse=True)\n",
    "df_files = files[1:50]\n",
    "\n",
    "for directory_name in df_files:\n",
    "    os.makedirs(directory_name + \"/network/assets\", exist_ok=True)\n",
    "    os.makedirs(directory_name + \"/network/variables\", exist_ok=True)\n",
    "    files = glob.glob(directory_name + '/*')\n",
    "    print(files)\n",
    "    for file_name in files:\n",
    "        full_path = os.path.realpath(file_name)\n",
    "\n",
    "        #print(os.path.relpath(file_name,'/Users/johnmartin/Documents/GraduateSchool/Research/ML_Gravity/Data/Networks'))\n",
    "        print(full_path)\n",
    "        print(os.path.basename(os.path.dirname(full_path)))\n",
    "\n",
    "    break"
   ]
  },
  {
   "cell_type": "code",
   "execution_count": 55,
   "metadata": {},
   "outputs": [
    {
     "data": {
      "text/plain": [
       "['network', 'networks']"
      ]
     },
     "execution_count": 55,
     "metadata": {},
     "output_type": "execute_result"
    }
   ],
   "source": [
    "os.listdir(file_name + \"/..\")"
   ]
  },
  {
   "cell_type": "code",
   "execution_count": 35,
   "metadata": {},
   "outputs": [
    {
     "data": {
      "text/plain": [
       "'networks'"
      ]
     },
     "execution_count": 35,
     "metadata": {},
     "output_type": "execute_result"
    }
   ],
   "source": [
    "os.path.relpath(file_name,os.path.dirname(file_name))"
   ]
  },
  {
   "cell_type": "code",
   "execution_count": 34,
   "metadata": {},
   "outputs": [
    {
     "data": {
      "text/plain": [
       "'2459442.5715625'"
      ]
     },
     "execution_count": 34,
     "metadata": {},
     "output_type": "execute_result"
    }
   ],
   "source": [
    "os.path.dirname(file_name).split('/')[-1]"
   ]
  },
  {
   "cell_type": "code",
   "execution_count": 31,
   "metadata": {},
   "outputs": [
    {
     "data": {
      "text/plain": [
       "'networks'"
      ]
     },
     "execution_count": 31,
     "metadata": {},
     "output_type": "execute_result"
    }
   ],
   "source": [
    "os.path.relpath(file_name,os.path.dirname(file_name))"
   ]
  },
  {
   "cell_type": "code",
   "execution_count": 36,
   "metadata": {},
   "outputs": [
    {
     "data": {
      "text/plain": [
       "'/Users/johnmartin/Documents/GraduateSchool/Research/ML_Gravity/Scripts/Notebooks/Scratch/../../../Data/Networks'"
      ]
     },
     "execution_count": 36,
     "metadata": {},
     "output_type": "execute_result"
    }
   ],
   "source": [
    "os.path.dirname(os.path.dirname(file_name))"
   ]
  },
  {
   "cell_type": "code",
   "execution_count": null,
   "metadata": {},
   "outputs": [],
   "source": []
  }
 ],
 "metadata": {
  "interpreter": {
   "hash": "a1e78c169a4aedeaa441431eb7d512758fd241d655b1c466e2bb1614349099ec"
  },
  "kernelspec": {
   "display_name": "Python 3.7.6 64-bit ('tf2': venv)",
   "name": "python3"
  },
  "language_info": {
   "codemirror_mode": {
    "name": "ipython",
    "version": 3
   },
   "file_extension": ".py",
   "mimetype": "text/x-python",
   "name": "python",
   "nbconvert_exporter": "python",
   "pygments_lexer": "ipython3",
   "version": "3.7.6"
  },
  "orig_nbformat": 4
 },
 "nbformat": 4,
 "nbformat_minor": 2
}