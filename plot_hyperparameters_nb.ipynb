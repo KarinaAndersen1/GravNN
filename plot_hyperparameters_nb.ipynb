{
 "cells": [
  {
   "cell_type": "code",
   "execution_count": null,
   "metadata": {
    "tags": []
   },
   "outputs": [],
   "source": [
    "%matplotlib"
   ]
  },
  {
   "cell_type": "code",
   "execution_count": null,
   "metadata": {
    "tags": []
   },
   "outputs": [],
   "source": [
    "import os, sys\n",
    "import keras\n",
    "import pickle\n",
    "import talos\n",
    "import numpy as np\n",
    "from numpy.random import seed\n",
    "\n",
    "from Trajectories.UniformDist import UniformDist\n",
    "from Trajectories.DHGridDist import DHGridDist\n",
    "from Trajectories.RandomDist import RandomDist\n",
    "from CelestialBodies.Planets import Earth\n",
    "from GravityModels.SphericalHarmonics import SphericalHarmonics\n",
    "from Preprocessors.MinMaxTransform import MinMaxTransform\n",
    "from Support.transformations import sphere2cart, cart2sph, project_acceleration\n",
    "from GravityModels.NNSupport.NN_hyperparam import NN_hyperparam\n",
    "\n",
    "from GravityModels.NN_Base import NN_Base\n",
    "from GravityModels.NNSupport.NN_DeepLayers import *\n",
    "from GravityModels.NNSupport.NN_MultiLayers import *\n",
    "from GravityModels.NNSupport.NN_SingleLayers import *\n",
    "\n",
    "from sklearn.model_selection import train_test_split\n",
    "from tensorflow.keras.optimizers import SGD, Adadelta, Nadam, Adam, RMSprop\n",
    "seed(1)\n",
    "\n",
    "from talos.utils.recover_best_model import recover_best_model\n",
    "from talos import Analyze, Evaluate, Scan, Predict, Deploy, Restore\n",
    "import matplotlib.pyplot as plt"
   ]
  },
  {
   "cell_type": "markdown",
   "metadata": {},
   "source": [
    "# Search through Hyperparameter Space"
   ]
  },
  {
   "cell_type": "code",
   "execution_count": null,
   "metadata": {
    "tags": []
   },
   "outputs": [],
   "source": [
    "planet = Earth()\n",
    "point_count = 1000\n",
    "#trajectory = UniformDist(planet, planet.radius, 10000)\n",
    "trajectory = RandomDist(planet, [planet.radius, planet.radius*1.1], point_count)\n",
    "\n",
    "gravityModel = SphericalHarmonics(planet.sh_file, degree=None, trajectory=trajectory)\n",
    "gravityModel.load() \n",
    "\n",
    "pos_sphere = cart2sph(trajectory.positions)\n",
    "acc_proj = project_acceleration(pos_sphere, gravityModel.accelerations)\n",
    "\n",
    "preprocessor = MinMaxTransform()\n",
    "preprocessor.percentTest = 0.01\n",
    "preprocessor.split(pos_sphere, acc_proj)\n",
    "preprocessor.fit()\n",
    "x_train, x_test, y_train, y_test = preprocessor.apply_transform()\n",
    "\n",
    "p = {'first_neuron':[128, 64, 16],\n",
    "        'hidden_layers':[1, 3],\n",
    "        'batch_size': [5, 15],\n",
    "        'epochs': [100, 200, 300],\n",
    "        'dropout': [0.0, 0.2],\n",
    "        'lr' : [0.1, 0.15, 0.2],\n",
    "        'kernel_initializer': ['normal'],\n",
    "        'optimizer': [Nadam, Adadelta],\n",
    "        'shapes' : ['brick'], \n",
    "        'losses': ['mean_squared_error', 'mean_absolute_error'],\n",
    "        'activation':['relu', 'elu', 'tanh']\n",
    "        }\n",
    "\n",
    "t = talos.Scan(x=x_train,\n",
    "                            y=y_train,\n",
    "                            model=NN_hyperparam,\n",
    "                            params=p,\n",
    "                            experiment_name='Initial_Search',\n",
    "                            fraction_limit=0.005)\n",
    "                            \n",
    "d = Deploy(t, \"third_iteration\", 'val_accuracy', asc=False)\n"
   ]
  },
  {
   "cell_type": "markdown",
   "metadata": {},
   "source": [
    "# Load the Scan Object and Analyze"
   ]
  },
  {
   "cell_type": "code",
   "execution_count": 65,
   "metadata": {
    "tags": []
   },
   "outputs": [],
   "source": [
    "excludes = ['shape', 'epochs', 'round_epochs']\n",
    "excludes = ['accuracy', 'loss', 'val_loss', 'round_epochs', 'epochs']\n",
    "first = '../Initial_Search/070620135028.csv'\n",
    "second = '/Users/johnmartin/Documents/GraduateSchool/Research/GravityML/nnPosAcc/Initial_Search/070720072710.csv'\n",
    "current = second\n",
    "a = Analyze(current)"
   ]
  },
  {
   "cell_type": "code",
   "execution_count": null,
   "metadata": {},
   "outputs": [],
   "source": [
    "a.plot_corr('val_accuracy', ['acc', 'loss', 'val_accuracy', 'val_loss', 'round_epochs'])"
   ]
  },
  {
   "cell_type": "code",
   "execution_count": null,
   "metadata": {},
   "outputs": [],
   "source": [
    "#a.plot_hist('val_accuracy', bins=20)\n",
    "a.plot_bars('lr','val_accuracy', 'kernel_initializer','first_neuron')\n",
    "a.plot_box('lr', 'val_accuracy', 'optimizer')"
   ]
  },
  {
   "cell_type": "code",
   "execution_count": null,
   "metadata": {},
   "outputs": [],
   "source": [
    "best = a.best_params('val_accuracy', excludes)\n",
    "train_high = a.high('accuracy')\n",
    "val_high = a.high(\"val_accuracy\")"
   ]
  },
  {
   "cell_type": "markdown",
   "metadata": {},
   "source": [
    "# Evaluate Scan Object on Test Data"
   ]
  },
  {
   "cell_type": "code",
   "execution_count": 66,
   "metadata": {
    "tags": []
   },
   "outputs": [
    {
     "output_type": "stream",
     "name": "stdout",
     "text": "The total number of points is not a perfect square\nThe total number of points changed to 961\nFound existing acceleration.data at /Users/johnmartin/Documents/GraduateSchool/Research/GravityML/nnPosAcc/Trajectories/TrajectoryBase/../../Files/Trajectories/RandomDist/earthN_961_RadBounds[6378136.6, 7015950.26]/SphericalHarmonics_GGM03S_None/\nFound existing acceleration.data at /Users/johnmartin/Documents/GraduateSchool/Research/GravityML/nnPosAcc/Trajectories/TrajectoryBase/../../Files/Trajectories/DHGridDist/earth_Deg175_Rad6378136.6/SphericalHarmonics_GGM03S_None/\n"
    }
   ],
   "source": [
    "planet = Earth()\n",
    "point_count = 1000\n",
    "#trajectory = UniformDist(planet, planet.radius, 10000)\n",
    "trajectory = RandomDist(planet, [planet.radius, planet.radius*1.1], point_count)\n",
    "\n",
    "gravityModel = SphericalHarmonics(planet.sh_file, degree=None, trajectory=trajectory)\n",
    "gravityModel.load() \n",
    "\n",
    "pos_sphere = cart2sph(trajectory.positions)\n",
    "acc_proj = project_acceleration(pos_sphere, gravityModel.accelerations)\n",
    "\n",
    "density_deg = 175\n",
    "map_grid = DHGridDist(planet, planet.radius, degree=density_deg)\n",
    "\n",
    "gravityModelMap = SphericalHarmonics(planet.sh_file, degree=None, trajectory=map_grid)\n",
    "gravityModelMap.load() \n",
    "\n",
    "test_pos_sphere = cart2sph(map_grid.positions)\n",
    "test_acc_proj = project_acceleration(test_pos_sphere, gravityModelMap.accelerations)"
   ]
  },
  {
   "cell_type": "code",
   "execution_count": 67,
   "metadata": {},
   "outputs": [],
   "source": [
    "preprocessor = MinMaxTransform()\n",
    "preprocessor.percentTest = 0.01\n",
    "preprocessor.split(pos_sphere, acc_proj)\n",
    "preprocessor.fit()\n",
    "x_train, x_test, y_train, y_test = preprocessor.apply_transform()\n",
    "x_test, y_test = preprocessor.apply_transform(test_pos_sphere, test_acc_proj)"
   ]
  },
  {
   "cell_type": "code",
   "execution_count": 71,
   "metadata": {
    "tags": []
   },
   "outputs": [
    {
     "output_type": "stream",
     "name": "stdout",
     "text": "WARNING:tensorflow:Model was constructed with shape (None, 3) for input Tensor(\"dense_input_39:0\", shape=(None, 3), dtype=float32), but it was called on an input with incompatible shape (32, 1, 3).\n673.1206732720145\n30.76568083736315\n"
    }
   ],
   "source": [
    "#a = Analyze(t) # Reporting() and Analyze() are the same\n",
    "p = Predict(t)\n",
    "prediction = p.predict(x_test,'val_accuracy', asc=False)\n",
    "error_inst = abs(np.divide((prediction - y_test),y_test)*100)\n",
    "print(np.average(error_inst))\n",
    "print(np.median(error_inst))\n",
    "\n",
    "# Pick the best model and evaluate the average absolute difference\n",
    "#e = Evaluate(t)\n",
    "#error = e.evaluate(x_test,y_test, metric='val_accuracy', task='continuous', asc=False)\n",
    "\n",
    "# Load a prior model if interested. \n",
    "#r = Restore('/Users/johnmartin/Documents/GraduateSchool/Research/GravityML/nnPosAcc/Notebooks/current_model.zip')\n",
    "# r.results\n",
    "# r.details\n",
    "# r.model #keras sequential model\n",
    "# r.model.predict(x_test)"
   ]
  },
  {
   "cell_type": "code",
   "execution_count": 72,
   "metadata": {},
   "outputs": [],
   "source": [
    "error_inst = error_inst.squeeze()\n"
   ]
  },
  {
   "cell_type": "code",
   "execution_count": null,
   "metadata": {},
   "outputs": [],
   "source": []
  }
 ],
 "metadata": {
  "language_info": {
   "codemirror_mode": {
    "name": "ipython",
    "version": 3
   },
   "file_extension": ".py",
   "mimetype": "text/x-python",
   "name": "python",
   "nbconvert_exporter": "python",
   "pygments_lexer": "ipython3",
   "version": "3.7.6-final"
  },
  "orig_nbformat": 2,
  "kernelspec": {
   "name": "python37664bit9d2b7e896af0482aae499c0eee0eae22",
   "display_name": "Python 3.7.6 64-bit"
  }
 },
 "nbformat": 4,
 "nbformat_minor": 2
}