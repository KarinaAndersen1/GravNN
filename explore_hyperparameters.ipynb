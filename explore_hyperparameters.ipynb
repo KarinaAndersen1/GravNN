{
 "cells": [
  {
   "cell_type": "code",
   "execution_count": 1,
   "metadata": {
    "tags": []
   },
   "outputs": [
    {
     "output_type": "stream",
     "name": "stderr",
     "text": "Using TensorFlow backend.\n"
    }
   ],
   "source": [
    "import keras\n",
    "import talos\n",
    "import numpy as np\n",
    "import pandas as pd\n",
    "\n",
    "from talos.utils.recover_best_model import recover_best_model\n",
    "from talos import Analyze\n",
    "import matplotlib.pyplot as plt\n"
   ]
  },
  {
   "cell_type": "code",
   "execution_count": 2,
   "metadata": {
    "tags": []
   },
   "outputs": [
    {
     "output_type": "stream",
     "name": "stdout",
     "text": "Using matplotlib backend: MacOSX\n"
    }
   ],
   "source": [
    "%matplotlib"
   ]
  },
  {
   "cell_type": "code",
   "execution_count": 4,
   "metadata": {},
   "outputs": [
    {
     "output_type": "error",
     "ename": "FileNotFoundError",
     "evalue": "[Errno 2] File b'./Hyperparams/UniformDist/MinMaxTransform/259200/case_2/Remote.csv' does not exist: b'./Hyperparams/UniformDist/MinMaxTransform/259200/case_2/Remote.csv'",
     "traceback": [
      "\u001b[0;31m---------------------------------------------------------------------------\u001b[0m",
      "\u001b[0;31mFileNotFoundError\u001b[0m                         Traceback (most recent call last)",
      "\u001b[0;32m<ipython-input-4-c074406e19da>\u001b[0m in \u001b[0;36m<module>\u001b[0;34m\u001b[0m\n\u001b[1;32m     29\u001b[0m \u001b[0;31m# case = 2\u001b[0m\u001b[0;34m\u001b[0m\u001b[0;34m\u001b[0m\u001b[0;34m\u001b[0m\u001b[0m\n\u001b[1;32m     30\u001b[0m \u001b[0;31m# a = Analyze('./Hyperparams/UniformDist/MinMaxTransform/259200/case_2/071320150753.csv')\u001b[0m\u001b[0;34m\u001b[0m\u001b[0;34m\u001b[0m\u001b[0;34m\u001b[0m\u001b[0m\n\u001b[0;32m---> 31\u001b[0;31m \u001b[0ma\u001b[0m \u001b[0;34m=\u001b[0m \u001b[0mAnalyze\u001b[0m\u001b[0;34m(\u001b[0m\u001b[0;34m'./Hyperparams/UniformDist/MinMaxTransform/259200/case_2/Remote.csv'\u001b[0m\u001b[0;34m)\u001b[0m\u001b[0;34m\u001b[0m\u001b[0;34m\u001b[0m\u001b[0m\n\u001b[0m\u001b[1;32m     32\u001b[0m \u001b[0mdf_2\u001b[0m \u001b[0;34m=\u001b[0m \u001b[0ma\u001b[0m\u001b[0;34m.\u001b[0m\u001b[0mdata\u001b[0m\u001b[0;34m\u001b[0m\u001b[0;34m\u001b[0m\u001b[0m\n\u001b[1;32m     33\u001b[0m \u001b[0;34m\u001b[0m\u001b[0m\n",
      "\u001b[0;32m~/Library/Python/3.7/lib/python/site-packages/talos/commands/analyze.py\u001b[0m in \u001b[0;36m__init__\u001b[0;34m(self, source)\u001b[0m\n\u001b[1;32m     14\u001b[0m \u001b[0;34m\u001b[0m\u001b[0m\n\u001b[1;32m     15\u001b[0m         \u001b[0;32mif\u001b[0m \u001b[0misinstance\u001b[0m\u001b[0;34m(\u001b[0m\u001b[0msource\u001b[0m\u001b[0;34m,\u001b[0m \u001b[0mstr\u001b[0m\u001b[0;34m)\u001b[0m\u001b[0;34m:\u001b[0m\u001b[0;34m\u001b[0m\u001b[0;34m\u001b[0m\u001b[0m\n\u001b[0;32m---> 16\u001b[0;31m             \u001b[0mself\u001b[0m\u001b[0;34m.\u001b[0m\u001b[0mdata\u001b[0m \u001b[0;34m=\u001b[0m \u001b[0mpd\u001b[0m\u001b[0;34m.\u001b[0m\u001b[0mread_csv\u001b[0m\u001b[0;34m(\u001b[0m\u001b[0msource\u001b[0m\u001b[0;34m)\u001b[0m\u001b[0;34m\u001b[0m\u001b[0;34m\u001b[0m\u001b[0m\n\u001b[0m\u001b[1;32m     17\u001b[0m         \u001b[0;32melse\u001b[0m\u001b[0;34m:\u001b[0m\u001b[0;34m\u001b[0m\u001b[0;34m\u001b[0m\u001b[0m\n\u001b[1;32m     18\u001b[0m             \u001b[0mself\u001b[0m\u001b[0;34m.\u001b[0m\u001b[0mdata\u001b[0m \u001b[0;34m=\u001b[0m \u001b[0msource\u001b[0m\u001b[0;34m.\u001b[0m\u001b[0mdata\u001b[0m\u001b[0;34m\u001b[0m\u001b[0;34m\u001b[0m\u001b[0m\n",
      "\u001b[0;32m~/Library/Python/3.7/lib/python/site-packages/pandas/io/parsers.py\u001b[0m in \u001b[0;36mparser_f\u001b[0;34m(filepath_or_buffer, sep, delimiter, header, names, index_col, usecols, squeeze, prefix, mangle_dupe_cols, dtype, engine, converters, true_values, false_values, skipinitialspace, skiprows, skipfooter, nrows, na_values, keep_default_na, na_filter, verbose, skip_blank_lines, parse_dates, infer_datetime_format, keep_date_col, date_parser, dayfirst, cache_dates, iterator, chunksize, compression, thousands, decimal, lineterminator, quotechar, quoting, doublequote, escapechar, comment, encoding, dialect, error_bad_lines, warn_bad_lines, delim_whitespace, low_memory, memory_map, float_precision)\u001b[0m\n\u001b[1;32m    683\u001b[0m         )\n\u001b[1;32m    684\u001b[0m \u001b[0;34m\u001b[0m\u001b[0m\n\u001b[0;32m--> 685\u001b[0;31m         \u001b[0;32mreturn\u001b[0m \u001b[0m_read\u001b[0m\u001b[0;34m(\u001b[0m\u001b[0mfilepath_or_buffer\u001b[0m\u001b[0;34m,\u001b[0m \u001b[0mkwds\u001b[0m\u001b[0;34m)\u001b[0m\u001b[0;34m\u001b[0m\u001b[0;34m\u001b[0m\u001b[0m\n\u001b[0m\u001b[1;32m    686\u001b[0m \u001b[0;34m\u001b[0m\u001b[0m\n\u001b[1;32m    687\u001b[0m     \u001b[0mparser_f\u001b[0m\u001b[0;34m.\u001b[0m\u001b[0m__name__\u001b[0m \u001b[0;34m=\u001b[0m \u001b[0mname\u001b[0m\u001b[0;34m\u001b[0m\u001b[0;34m\u001b[0m\u001b[0m\n",
      "\u001b[0;32m~/Library/Python/3.7/lib/python/site-packages/pandas/io/parsers.py\u001b[0m in \u001b[0;36m_read\u001b[0;34m(filepath_or_buffer, kwds)\u001b[0m\n\u001b[1;32m    455\u001b[0m \u001b[0;34m\u001b[0m\u001b[0m\n\u001b[1;32m    456\u001b[0m     \u001b[0;31m# Create the parser.\u001b[0m\u001b[0;34m\u001b[0m\u001b[0;34m\u001b[0m\u001b[0;34m\u001b[0m\u001b[0m\n\u001b[0;32m--> 457\u001b[0;31m     \u001b[0mparser\u001b[0m \u001b[0;34m=\u001b[0m \u001b[0mTextFileReader\u001b[0m\u001b[0;34m(\u001b[0m\u001b[0mfp_or_buf\u001b[0m\u001b[0;34m,\u001b[0m \u001b[0;34m**\u001b[0m\u001b[0mkwds\u001b[0m\u001b[0;34m)\u001b[0m\u001b[0;34m\u001b[0m\u001b[0;34m\u001b[0m\u001b[0m\n\u001b[0m\u001b[1;32m    458\u001b[0m \u001b[0;34m\u001b[0m\u001b[0m\n\u001b[1;32m    459\u001b[0m     \u001b[0;32mif\u001b[0m \u001b[0mchunksize\u001b[0m \u001b[0;32mor\u001b[0m \u001b[0miterator\u001b[0m\u001b[0;34m:\u001b[0m\u001b[0;34m\u001b[0m\u001b[0;34m\u001b[0m\u001b[0m\n",
      "\u001b[0;32m~/Library/Python/3.7/lib/python/site-packages/pandas/io/parsers.py\u001b[0m in \u001b[0;36m__init__\u001b[0;34m(self, f, engine, **kwds)\u001b[0m\n\u001b[1;32m    893\u001b[0m             \u001b[0mself\u001b[0m\u001b[0;34m.\u001b[0m\u001b[0moptions\u001b[0m\u001b[0;34m[\u001b[0m\u001b[0;34m\"has_index_names\"\u001b[0m\u001b[0;34m]\u001b[0m \u001b[0;34m=\u001b[0m \u001b[0mkwds\u001b[0m\u001b[0;34m[\u001b[0m\u001b[0;34m\"has_index_names\"\u001b[0m\u001b[0;34m]\u001b[0m\u001b[0;34m\u001b[0m\u001b[0;34m\u001b[0m\u001b[0m\n\u001b[1;32m    894\u001b[0m \u001b[0;34m\u001b[0m\u001b[0m\n\u001b[0;32m--> 895\u001b[0;31m         \u001b[0mself\u001b[0m\u001b[0;34m.\u001b[0m\u001b[0m_make_engine\u001b[0m\u001b[0;34m(\u001b[0m\u001b[0mself\u001b[0m\u001b[0;34m.\u001b[0m\u001b[0mengine\u001b[0m\u001b[0;34m)\u001b[0m\u001b[0;34m\u001b[0m\u001b[0;34m\u001b[0m\u001b[0m\n\u001b[0m\u001b[1;32m    896\u001b[0m \u001b[0;34m\u001b[0m\u001b[0m\n\u001b[1;32m    897\u001b[0m     \u001b[0;32mdef\u001b[0m \u001b[0mclose\u001b[0m\u001b[0;34m(\u001b[0m\u001b[0mself\u001b[0m\u001b[0;34m)\u001b[0m\u001b[0;34m:\u001b[0m\u001b[0;34m\u001b[0m\u001b[0;34m\u001b[0m\u001b[0m\n",
      "\u001b[0;32m~/Library/Python/3.7/lib/python/site-packages/pandas/io/parsers.py\u001b[0m in \u001b[0;36m_make_engine\u001b[0;34m(self, engine)\u001b[0m\n\u001b[1;32m   1133\u001b[0m     \u001b[0;32mdef\u001b[0m \u001b[0m_make_engine\u001b[0m\u001b[0;34m(\u001b[0m\u001b[0mself\u001b[0m\u001b[0;34m,\u001b[0m \u001b[0mengine\u001b[0m\u001b[0;34m=\u001b[0m\u001b[0;34m\"c\"\u001b[0m\u001b[0;34m)\u001b[0m\u001b[0;34m:\u001b[0m\u001b[0;34m\u001b[0m\u001b[0;34m\u001b[0m\u001b[0m\n\u001b[1;32m   1134\u001b[0m         \u001b[0;32mif\u001b[0m \u001b[0mengine\u001b[0m \u001b[0;34m==\u001b[0m \u001b[0;34m\"c\"\u001b[0m\u001b[0;34m:\u001b[0m\u001b[0;34m\u001b[0m\u001b[0;34m\u001b[0m\u001b[0m\n\u001b[0;32m-> 1135\u001b[0;31m             \u001b[0mself\u001b[0m\u001b[0;34m.\u001b[0m\u001b[0m_engine\u001b[0m \u001b[0;34m=\u001b[0m \u001b[0mCParserWrapper\u001b[0m\u001b[0;34m(\u001b[0m\u001b[0mself\u001b[0m\u001b[0;34m.\u001b[0m\u001b[0mf\u001b[0m\u001b[0;34m,\u001b[0m \u001b[0;34m**\u001b[0m\u001b[0mself\u001b[0m\u001b[0;34m.\u001b[0m\u001b[0moptions\u001b[0m\u001b[0;34m)\u001b[0m\u001b[0;34m\u001b[0m\u001b[0;34m\u001b[0m\u001b[0m\n\u001b[0m\u001b[1;32m   1136\u001b[0m         \u001b[0;32melse\u001b[0m\u001b[0;34m:\u001b[0m\u001b[0;34m\u001b[0m\u001b[0;34m\u001b[0m\u001b[0m\n\u001b[1;32m   1137\u001b[0m             \u001b[0;32mif\u001b[0m \u001b[0mengine\u001b[0m \u001b[0;34m==\u001b[0m \u001b[0;34m\"python\"\u001b[0m\u001b[0;34m:\u001b[0m\u001b[0;34m\u001b[0m\u001b[0;34m\u001b[0m\u001b[0m\n",
      "\u001b[0;32m~/Library/Python/3.7/lib/python/site-packages/pandas/io/parsers.py\u001b[0m in \u001b[0;36m__init__\u001b[0;34m(self, src, **kwds)\u001b[0m\n\u001b[1;32m   1915\u001b[0m         \u001b[0mkwds\u001b[0m\u001b[0;34m[\u001b[0m\u001b[0;34m\"usecols\"\u001b[0m\u001b[0;34m]\u001b[0m \u001b[0;34m=\u001b[0m \u001b[0mself\u001b[0m\u001b[0;34m.\u001b[0m\u001b[0musecols\u001b[0m\u001b[0;34m\u001b[0m\u001b[0;34m\u001b[0m\u001b[0m\n\u001b[1;32m   1916\u001b[0m \u001b[0;34m\u001b[0m\u001b[0m\n\u001b[0;32m-> 1917\u001b[0;31m         \u001b[0mself\u001b[0m\u001b[0;34m.\u001b[0m\u001b[0m_reader\u001b[0m \u001b[0;34m=\u001b[0m \u001b[0mparsers\u001b[0m\u001b[0;34m.\u001b[0m\u001b[0mTextReader\u001b[0m\u001b[0;34m(\u001b[0m\u001b[0msrc\u001b[0m\u001b[0;34m,\u001b[0m \u001b[0;34m**\u001b[0m\u001b[0mkwds\u001b[0m\u001b[0;34m)\u001b[0m\u001b[0;34m\u001b[0m\u001b[0;34m\u001b[0m\u001b[0m\n\u001b[0m\u001b[1;32m   1918\u001b[0m         \u001b[0mself\u001b[0m\u001b[0;34m.\u001b[0m\u001b[0munnamed_cols\u001b[0m \u001b[0;34m=\u001b[0m \u001b[0mself\u001b[0m\u001b[0;34m.\u001b[0m\u001b[0m_reader\u001b[0m\u001b[0;34m.\u001b[0m\u001b[0munnamed_cols\u001b[0m\u001b[0;34m\u001b[0m\u001b[0;34m\u001b[0m\u001b[0m\n\u001b[1;32m   1919\u001b[0m \u001b[0;34m\u001b[0m\u001b[0m\n",
      "\u001b[0;32mpandas/_libs/parsers.pyx\u001b[0m in \u001b[0;36mpandas._libs.parsers.TextReader.__cinit__\u001b[0;34m()\u001b[0m\n",
      "\u001b[0;32mpandas/_libs/parsers.pyx\u001b[0m in \u001b[0;36mpandas._libs.parsers.TextReader._setup_parser_source\u001b[0;34m()\u001b[0m\n",
      "\u001b[0;31mFileNotFoundError\u001b[0m: [Errno 2] File b'./Hyperparams/UniformDist/MinMaxTransform/259200/case_2/Remote.csv' does not exist: b'./Hyperparams/UniformDist/MinMaxTransform/259200/case_2/Remote.csv'"
     ]
    }
   ],
   "source": [
    "#first = './Hyperparams/Random/070620135028.csv' # Random Min Max 1\n",
    "#second = './Hyperparams/Random/070720072710.csv' # Random Min Max 2\n",
    "#a = Analyze('./Hyperparams/Random/070720152121.csv') # Random Min Max 3\n",
    "\n",
    "#a = Analyze(\"./Hyperparams/Uniform/070820084805.csv\") # Uniform Min Max 1\n",
    "#a = Analyze(\"./Hyperparams/Uniform/070820131402.csv\") # Uniform Standard 1\n",
    "#a = Analyze(\"./Hyperparams/Uniform/070820134910.csv\") # Uniform Robust 1\n",
    "#a = Analyze('./Hyperparams/Uniform/070820172255.csv') # Uniform Min Max 2 Full\n",
    "#a = Analyze('./Hyperparams/Uniform/070920073557.csv') # Uniform Min Max v2.0\n",
    "#a = Analyze('./Hyperparams/Uniform/070920090006.csv') # Uniform Min Max v2.1\n",
    "#a = Analyze('./Hyperparams/Uniform/070920105710.csv') # Uniform Min Max v2.1.1\n",
    "#a = Analyze('./Hyperparams/Uniform/070920143616.csv') # Uniform Min Max v3 -- Now understanding to look at val_loss. Just searching over epochs, first_neuron (width), learning rate, and optimizer\n",
    "#a = Analyze('./Hyperparams/Uniform/070920144821.csv') # Uniform Min Max v3.1 -- Now understanding to look at val_loss. Just searching over epochs, first_neuron (width), learning rate, and optimizera = Analyze('./\n",
    "#a = Analyze('./Hyperparams/Uniform/070920150614.csv') # Uniform Min Max v3.2 -- Longer epochs, first_neuron (width), learning rate\n",
    "#a = Analyze('./Hyperparams/Uniform/070920154846.csv') # Uniform Min Max v3.3 -- Longer epochs, wider first_neuron (width), lhigher earning rate\n",
    "# at this point epochs seem to be the only advantagous change. \n",
    "\n",
    "#a = Analyze('./Hyperparams/Uniform/Standard/100/070920162754.csv') # Uniform Standard 100 v1.0\n",
    "#a = Analyze('./Hyperparams/Uniform/Standard/100/071020084600.csv') # Uniform Standard 100 v2.0\n",
    "\n",
    "#a = Analyze('./Hyperparams/Uniform/MinMax/10000/071020193719.csv') # Uniform MinMax 10000 v1.0\n",
    "#a = Analyze('./Hyperparams/UniformDist/MinMaxTransform/259200/071220171411.csv') # Uniform MinMax 259200 v1.0\n",
    "\n",
    "# case = 1\n",
    "# a = Analyze('./Hyperparams/UniformDist/MinMaxTransform/259200/case_1/071320150333.csv') \n",
    "a = Analyze('./Hyperparams/RandomDist/MinMaxStandardTransform/259200/case_1/Remote.csv') \n",
    "a = Analyze('./Hyperparams/RandomDist/MinMaxStandardTransform/259200/case_1/073120092741.csv') \n",
    "df_1 = a.data\n",
    "\n",
    "# case = 2\n",
    "# a = Analyze('./Hyperparams/UniformDist/MinMaxTransform/259200/case_2/071320150753.csv')\n",
    "# a = Analyze('./Hyperparams/RandomDist/MinMaxStandardTransform/259200/case_2/Remote.csv')\n",
    "a = Analyze('./Hyperparams/RandomDist/MinMaxStandardTransform/259200/case_2/073020072039.csv')\n",
    "df_2 = a.data\n",
    "\n",
    "# case = 3\n",
    "# a = Analyze('./Hyperparams/UniformDist/MinMaxTransform/259200/case_3/071320150805.csv')\n",
    "# a = Analyze('./Hyperparams/RandomDist/MinMaxStandardTransform/259200/case_3/Remote.csv')\n",
    "a = Analyze('./Hyperparams/RandomDist/MinMaxStandardTransform/259200/case_3/073020072054.csv')\n",
    "\n",
    "df_3 = a.data\n",
    "\n",
    "# case = 4\n",
    "# a = Analyze('./Hyperparams/UniformDist/MinMaxTransform/259200/case_4/071420143549.csv')\n",
    "#a = Analyze('./Hyperparams/RandomDist/MinMaxStandardTransform/259200/case_4/Remote.csv') # 1\n",
    "#a = Analyze('./Hyperparams/RandomDist/MinMaxStandardTransform/259200/case_4/072920114831.csv') # 2\n",
    "a = Analyze('./Hyperparams/RandomDist/MinMaxStandardTransform/259200/case_4/072920140740.csv') # 3\n",
    "df_4 = a.data \n",
    "\n",
    "# case = 5\n",
    "# a = Analyze('./Hyperparams/UniformDist/MinMaxTransform/259200/case_5/071420143558.csv')\n",
    "#a = Analyze('./Hyperparams/RandomDist/MinMaxStandardTransform/259200/case_5/Remote.csv')\n",
    "a = Analyze('./Hyperparams/RandomDist/MinMaxStandardTransform/259200/case_5/072920125931.csv')\n",
    "a = Analyze('./Hyperparams/RandomDist/MinMaxStandardTransform/259200/case_5/072920140722.csv')\n",
    "df_5 = a.data\n",
    "\n",
    "# case = 6\n",
    "# a = Analyze('./Hyperparams/UniformDist/MinMaxTransform/259200/case_6/071420143613.csv')\n",
    "#a = Analyze('./Hyperparams/RandomDist/MinMaxStandardTransform/259200/case_6/Remote.csv')\n",
    "a = Analyze('./Hyperparams/RandomDist/MinMaxStandardTransform/259200/case_6/072920130004.csv')\n",
    "a = Analyze('./Hyperparams/RandomDist/MinMaxStandardTransform/259200/case_6/072920140702.csv')\n",
    "df_6 = a.data\n",
    "\n",
    "\n",
    "#a.plot_corr('val_loss', ['acc', 'accuracy', 'val_accuracy', 'loss', 'round_epochs', 'mean_absolute_error', 'mean_absolute_percentage_error', 'mse'], color_grades=10)\n",
    "#a.plot_hist('val_loss', bins=50)\n",
    "#a.plot_bars('first_unit','val_loss', 'first_neuron','lr')\n",
    "#a.plot_box('epochs', 'val_loss', 'lr')\n"
   ]
  },
  {
   "cell_type": "code",
   "execution_count": 7,
   "metadata": {},
   "outputs": [],
   "source": [
    "#a.plot_box('first_unit', 'val_loss', 'first_neuron')\n",
    "a.plot_corr('val_loss', ['acc', 'accuracy', 'val_accuracy', 'loss', 'round_epochs', 'mean_absolute_error'])"
   ]
  },
  {
   "cell_type": "code",
   "execution_count": 3,
   "metadata": {
    "tags": []
   },
   "outputs": [
    {
     "output_type": "error",
     "ename": "TypeError",
     "evalue": "'Analyze' object is not subscriptable",
     "traceback": [
      "\u001b[0;31m---------------------------------------------------------------------------\u001b[0m",
      "\u001b[0;31mTypeError\u001b[0m                                 Traceback (most recent call last)",
      "\u001b[0;32m<ipython-input-3-5fd2135ac5fd>\u001b[0m in \u001b[0;36m<module>\u001b[0;34m\u001b[0m\n\u001b[1;32m     14\u001b[0m \u001b[0mcase6\u001b[0m \u001b[0;34m=\u001b[0m \u001b[0mAnalyze\u001b[0m\u001b[0;34m(\u001b[0m\u001b[0;34m'./Hyperparams/RandomDist/MinMaxStandardTransform/259200/case_6/072920140702.csv'\u001b[0m\u001b[0;34m)\u001b[0m\u001b[0;34m\u001b[0m\u001b[0;34m\u001b[0m\u001b[0m\n\u001b[1;32m     15\u001b[0m \u001b[0;34m\u001b[0m\u001b[0m\n\u001b[0;32m---> 16\u001b[0;31m \u001b[0mrun1\u001b[0m \u001b[0;34m=\u001b[0m \u001b[0mcase1\u001b[0m\u001b[0;34m[\u001b[0m\u001b[0mcase1\u001b[0m\u001b[0;34m[\u001b[0m\u001b[0;34m'val_loss'\u001b[0m\u001b[0;34m]\u001b[0m \u001b[0;34m==\u001b[0m \u001b[0mcase1\u001b[0m\u001b[0;34m[\u001b[0m\u001b[0;34m'val_loss'\u001b[0m\u001b[0;34m]\u001b[0m\u001b[0;34m.\u001b[0m\u001b[0mmin\u001b[0m\u001b[0;34m(\u001b[0m\u001b[0;34m)\u001b[0m\u001b[0;34m]\u001b[0m\u001b[0;34m\u001b[0m\u001b[0;34m\u001b[0m\u001b[0m\n\u001b[0m\u001b[1;32m     17\u001b[0m \u001b[0mrun2\u001b[0m \u001b[0;34m=\u001b[0m \u001b[0mcase2\u001b[0m\u001b[0;34m[\u001b[0m\u001b[0mcase2\u001b[0m\u001b[0;34m[\u001b[0m\u001b[0;34m'val_loss'\u001b[0m\u001b[0;34m]\u001b[0m \u001b[0;34m==\u001b[0m \u001b[0mcase2\u001b[0m\u001b[0;34m[\u001b[0m\u001b[0;34m'val_loss'\u001b[0m\u001b[0;34m]\u001b[0m\u001b[0;34m.\u001b[0m\u001b[0mmin\u001b[0m\u001b[0;34m(\u001b[0m\u001b[0;34m)\u001b[0m\u001b[0;34m]\u001b[0m\u001b[0;34m\u001b[0m\u001b[0;34m\u001b[0m\u001b[0m\n\u001b[1;32m     18\u001b[0m \u001b[0mrun3\u001b[0m \u001b[0;34m=\u001b[0m \u001b[0mcase3\u001b[0m\u001b[0;34m[\u001b[0m\u001b[0mcase3\u001b[0m\u001b[0;34m[\u001b[0m\u001b[0;34m'val_loss'\u001b[0m\u001b[0;34m]\u001b[0m \u001b[0;34m==\u001b[0m \u001b[0mcase3\u001b[0m\u001b[0;34m[\u001b[0m\u001b[0;34m'val_loss'\u001b[0m\u001b[0;34m]\u001b[0m\u001b[0;34m.\u001b[0m\u001b[0mmin\u001b[0m\u001b[0;34m(\u001b[0m\u001b[0;34m)\u001b[0m\u001b[0;34m]\u001b[0m\u001b[0;34m\u001b[0m\u001b[0;34m\u001b[0m\u001b[0m\n",
      "\u001b[0;31mTypeError\u001b[0m: 'Analyze' object is not subscriptable"
     ]
    }
   ],
   "source": [
    "\n",
    "case1 = Analyze('./Hyperparams/UniformDist/MinMaxTransform/259200/case_1/071320150333.csv').data\n",
    "case2 = Analyze('./Hyperparams/UniformDist/MinMaxTransform/259200/case_2/071320150753.csv').data\n",
    "case3 = Analyze('./Hyperparams/UniformDist/MinMaxTransform/259200/case_3/071320150805.csv').data\n",
    "case4 = Analyze('./Hyperparams/UniformDist/MinMaxTransform/259200/case_4/071420143549.csv').data\n",
    "case5 = Analyze('./Hyperparams/UniformDist/MinMaxTransform/259200/case_5/071420143558.csv').data\n",
    "case6 = Analyze('./Hyperparams/UniformDist/MinMaxTransform/259200/case_6/071420143613.csv').data\n",
    "\n",
    "case1 = Analyze('./Hyperparams/RandomDist/MinMaxStandardTransform/259200/case_1/073120092741.csv').data\n",
    "case2 = Analyze('./Hyperparams/RandomDist/MinMaxStandardTransform/259200/case_2/073020072039.csv').data\n",
    "case3 = Analyze('./Hyperparams/RandomDist/MinMaxStandardTransform/259200/case_3/073020072054.csv').data\n",
    "case4 = Analyze('./Hyperparams/RandomDist/MinMaxStandardTransform/259200/case_4/072920140740.csv').data \n",
    "case5 = Analyze('./Hyperparams/RandomDist/MinMaxStandardTransform/259200/case_5/072920140722.csv').data\n",
    "case6 = Analyze('./Hyperparams/RandomDist/MinMaxStandardTransform/259200/case_6/072920140702.csv').data\n",
    "\n",
    "run1 = case1[case1['val_loss'] == case1['val_loss'].min()]\n",
    "run2 = case2[case2['val_loss'] == case2['val_loss'].min()]\n",
    "run3 = case3[case3['val_loss'] == case3['val_loss'].min()]\n",
    "run4 = case4[case4['val_loss'] == case4['val_loss'].min()]\n",
    "run5 = case5[case5['val_loss'] == case5['val_loss'].min()]\n",
    "run6 = case6[case6['val_loss'] == case6['val_loss'].min()]\n",
    "\n",
    "full_df = pd.concat([run1, run2, run3, run4, run5, run6])\n",
    "\n",
    "print(full_df.to_latex(columns=['optimizer', 'activation', 'kernel_initializer', 'kernel_regularizer', 'dropout', 'lr', 'batch_size']))\n",
    "\n"
   ]
  },
  {
   "cell_type": "code",
   "execution_count": null,
   "metadata": {},
   "outputs": [],
   "source": []
  }
 ],
 "metadata": {
  "language_info": {
   "codemirror_mode": {
    "name": "ipython",
    "version": 3
   },
   "file_extension": ".py",
   "mimetype": "text/x-python",
   "name": "python",
   "nbconvert_exporter": "python",
   "pygments_lexer": "ipython3",
   "version": "3.7.6-final"
  },
  "orig_nbformat": 2,
  "kernelspec": {
   "name": "python37664bit9d2b7e896af0482aae499c0eee0eae22",
   "display_name": "Python 3.7.6 64-bit"
  }
 },
 "nbformat": 4,
 "nbformat_minor": 2
}