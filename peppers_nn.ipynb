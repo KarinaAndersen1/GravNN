{
 "metadata": {
  "language_info": {
   "codemirror_mode": {
    "name": "ipython",
    "version": 3
   },
   "file_extension": ".py",
   "mimetype": "text/x-python",
   "name": "python",
   "nbconvert_exporter": "python",
   "pygments_lexer": "ipython3",
   "version": "3.7.6-final"
  },
  "orig_nbformat": 2,
  "kernelspec": {
   "name": "python37664bit270b3bd8e46b448e82a3a294e684538e",
   "display_name": "Python 3.7.6 64-bit"
  }
 },
 "nbformat": 4,
 "nbformat_minor": 2,
 "cells": [
  {
   "cell_type": "code",
   "execution_count": 37,
   "metadata": {
    "tags": []
   },
   "outputs": [],
   "source": [
    "\n",
    "# load and display an image with Matplotlib\n",
    "from matplotlib import image\n",
    "from matplotlib import pyplot\n",
    "import numpy as np\n",
    "# load image as pixel array\n",
    "data = image.imread('./Files/ShapeModels/peppers.jpg')\n",
    "# summarize shape of the pixel array\n",
    "# print(data.dtype)\n",
    "# print(data.shape)\n",
    "# display the array of pixels as an image\n",
    "#pyplot.imshow(data)\n",
    "#pyplot.show()\n",
    "\n",
    "y = np.linspace(0, len(data)-1, len(data))\n",
    "x = np.linspace(0, len(data[0])-1, len(data[0]))\n",
    "xv, yv= np.meshgrid(x,y) # generates correct x value if sampled at [i][j]\n",
    "z = data\n",
    "\n",
    "input_vec = [] # N x 2\n",
    "output_vec = [] # N x 1\n",
    "for i in range(len(x)):\n",
    "    for j in range(len(y)):\n",
    "        input_vec.append([x[i], y[j]])\n",
    "        output_vec.append([z[i][j]])\n",
    "\n",
    "input_vec = np.array(input_vec)\n",
    "output_vec = np.array(output_vec)\n"
   ]
  },
  {
   "cell_type": "code",
   "execution_count": 42,
   "metadata": {},
   "outputs": [
    {
     "output_type": "error",
     "ename": "ValueError",
     "evalue": "operands could not be broadcast together with shapes (1,5631) (13138,) (1,5631) ",
     "traceback": [
      "\u001b[0;31m---------------------------------------------------------------------------\u001b[0m",
      "\u001b[0;31mValueError\u001b[0m                                Traceback (most recent call last)",
      "\u001b[0;32m<ipython-input-42-c28ae53dbc30>\u001b[0m in \u001b[0;36m<module>\u001b[0;34m\u001b[0m\n\u001b[1;32m     18\u001b[0m \u001b[0mxy_train_encoded\u001b[0m\u001b[0;34m[\u001b[0m\u001b[0;34m:\u001b[0m\u001b[0;34m,\u001b[0m\u001b[0;36m0\u001b[0m\u001b[0;34m]\u001b[0m \u001b[0;34m=\u001b[0m \u001b[0mx_scaler\u001b[0m\u001b[0;34m.\u001b[0m\u001b[0mfit_transform\u001b[0m\u001b[0;34m(\u001b[0m\u001b[0;34m[\u001b[0m\u001b[0mxy_train\u001b[0m\u001b[0;34m[\u001b[0m\u001b[0;34m:\u001b[0m\u001b[0;34m,\u001b[0m\u001b[0;36m0\u001b[0m\u001b[0;34m]\u001b[0m\u001b[0;34m]\u001b[0m\u001b[0;34m)\u001b[0m\u001b[0;34m[\u001b[0m\u001b[0;36m0\u001b[0m\u001b[0;34m]\u001b[0m\u001b[0;34m\u001b[0m\u001b[0;34m\u001b[0m\u001b[0m\n\u001b[1;32m     19\u001b[0m \u001b[0mxy_train_encoded\u001b[0m\u001b[0;34m[\u001b[0m\u001b[0;34m:\u001b[0m\u001b[0;34m,\u001b[0m\u001b[0;36m1\u001b[0m\u001b[0;34m]\u001b[0m \u001b[0;34m=\u001b[0m \u001b[0my_scaler\u001b[0m\u001b[0;34m.\u001b[0m\u001b[0mfit_transform\u001b[0m\u001b[0;34m(\u001b[0m\u001b[0;34m[\u001b[0m\u001b[0mxy_train\u001b[0m\u001b[0;34m[\u001b[0m\u001b[0;34m:\u001b[0m\u001b[0;34m,\u001b[0m\u001b[0;36m1\u001b[0m\u001b[0;34m]\u001b[0m\u001b[0;34m]\u001b[0m\u001b[0;34m)\u001b[0m\u001b[0;34m[\u001b[0m\u001b[0;36m0\u001b[0m\u001b[0;34m]\u001b[0m\u001b[0;34m\u001b[0m\u001b[0;34m\u001b[0m\u001b[0m\n\u001b[0;32m---> 20\u001b[0;31m \u001b[0mxy_val_encoded\u001b[0m\u001b[0;34m[\u001b[0m\u001b[0;34m:\u001b[0m\u001b[0;34m,\u001b[0m\u001b[0;36m0\u001b[0m\u001b[0;34m]\u001b[0m \u001b[0;34m=\u001b[0m \u001b[0mx_scaler\u001b[0m\u001b[0;34m.\u001b[0m\u001b[0mtransform\u001b[0m\u001b[0;34m(\u001b[0m\u001b[0;34m[\u001b[0m\u001b[0mxy_val\u001b[0m\u001b[0;34m[\u001b[0m\u001b[0;34m:\u001b[0m\u001b[0;34m,\u001b[0m\u001b[0;36m0\u001b[0m\u001b[0;34m]\u001b[0m\u001b[0;34m]\u001b[0m\u001b[0;34m)\u001b[0m\u001b[0;34m[\u001b[0m\u001b[0;36m0\u001b[0m\u001b[0;34m]\u001b[0m\u001b[0;34m\u001b[0m\u001b[0;34m\u001b[0m\u001b[0m\n\u001b[0m\u001b[1;32m     21\u001b[0m \u001b[0mxy_val_encoded\u001b[0m\u001b[0;34m[\u001b[0m\u001b[0;34m:\u001b[0m\u001b[0;34m,\u001b[0m\u001b[0;36m1\u001b[0m\u001b[0;34m]\u001b[0m \u001b[0;34m=\u001b[0m \u001b[0my_scaler\u001b[0m\u001b[0;34m.\u001b[0m\u001b[0mtransform\u001b[0m\u001b[0;34m(\u001b[0m\u001b[0;34m[\u001b[0m\u001b[0mxy_val\u001b[0m\u001b[0;34m[\u001b[0m\u001b[0;34m:\u001b[0m\u001b[0;34m,\u001b[0m\u001b[0;36m1\u001b[0m\u001b[0;34m]\u001b[0m\u001b[0;34m]\u001b[0m\u001b[0;34m)\u001b[0m\u001b[0;34m[\u001b[0m\u001b[0;36m0\u001b[0m\u001b[0;34m]\u001b[0m\u001b[0;34m\u001b[0m\u001b[0;34m\u001b[0m\u001b[0m\n\u001b[1;32m     22\u001b[0m \u001b[0mz_train_encoded\u001b[0m \u001b[0;34m=\u001b[0m \u001b[0mz_scaler\u001b[0m\u001b[0;34m.\u001b[0m\u001b[0mfit_transform\u001b[0m\u001b[0;34m(\u001b[0m\u001b[0;34m[\u001b[0m\u001b[0mz_train\u001b[0m\u001b[0;34m]\u001b[0m\u001b[0;34m)\u001b[0m\u001b[0;34m\u001b[0m\u001b[0;34m\u001b[0m\u001b[0m\n",
      "\u001b[0;32m~/Library/Python/3.7/lib/python/site-packages/sklearn/preprocessing/data.py\u001b[0m in \u001b[0;36mtransform\u001b[0;34m(self, X)\u001b[0m\n\u001b[1;32m    387\u001b[0m                         force_all_finite=\"allow-nan\")\n\u001b[1;32m    388\u001b[0m \u001b[0;34m\u001b[0m\u001b[0m\n\u001b[0;32m--> 389\u001b[0;31m         \u001b[0mX\u001b[0m \u001b[0;34m*=\u001b[0m \u001b[0mself\u001b[0m\u001b[0;34m.\u001b[0m\u001b[0mscale_\u001b[0m\u001b[0;34m\u001b[0m\u001b[0;34m\u001b[0m\u001b[0m\n\u001b[0m\u001b[1;32m    390\u001b[0m         \u001b[0mX\u001b[0m \u001b[0;34m+=\u001b[0m \u001b[0mself\u001b[0m\u001b[0;34m.\u001b[0m\u001b[0mmin_\u001b[0m\u001b[0;34m\u001b[0m\u001b[0;34m\u001b[0m\u001b[0m\n\u001b[1;32m    391\u001b[0m         \u001b[0;32mreturn\u001b[0m \u001b[0mX\u001b[0m\u001b[0;34m\u001b[0m\u001b[0;34m\u001b[0m\u001b[0m\n",
      "\u001b[0;31mValueError\u001b[0m: operands could not be broadcast together with shapes (1,5631) (13138,) (1,5631) "
     ]
    }
   ],
   "source": [
    "from sklearn.preprocessing import MinMaxScaler, StandardScaler\n",
    "from sklearn.model_selection import train_test_split\n",
    "from Preprocessors.PreprocessorBase import PreprocessorBase\n",
    "import copy\n",
    "\n",
    "val_range = (0,1)\n",
    "x_scaler = MinMaxScaler(feature_range=val_range)#(0, 1)) # If the data is transformed from r -> 1/r^2 the bounds become [0 (infinity), 1(max)] for body\n",
    "y_scaler = MinMaxScaler(feature_range=val_range) # discrete range of values so min max makes sense\n",
    "z_scaler = StandardScaler() # Can't have acceleration in negative radial direction\n",
    "\n",
    "xy_train, xy_val, z_train, z_val = train_test_split(input_vec, output_vec, test_size=0.3)\n",
    "\n",
    "xy_train_encoded = [xy_train]\n",
    "xy_val_encoded = [xy_val]\n",
    "z_train_encoded = [z_train]\n",
    "z_val_encoded = [z_val]\n",
    "\n",
    "xy_train_encoded[:,0] = x_scaler.fit_transform([xy_train[:,0]])[0]\n",
    "xy_train_encoded[:,1] = y_scaler.fit_transform([xy_train[:,1]])[0]\n",
    "xy_val_encoded[:,0] = x_scaler.transform([xy_val[:,0]])[0]\n",
    "xy_val_encoded[:,1] = y_scaler.transform([xy_val[:,1]])[0]\n",
    "z_train_encoded = z_scaler.fit_transform([z_train])\n",
    "z_val_encoded = z_scaler.fit_transform([z_val])"
   ]
  },
  {
   "cell_type": "code",
   "execution_count": 46,
   "metadata": {},
   "outputs": [
    {
     "output_type": "execute_result",
     "data": {
      "text/plain": "(5631,)"
     },
     "metadata": {},
     "execution_count": 46
    }
   ],
   "source": [
    "np.shape([xy_val[:,0]][0])\n"
   ]
  },
  {
   "cell_type": "code",
   "execution_count": 31,
   "metadata": {},
   "outputs": [],
   "source": [
    "from GravityModels import NN_Base\n",
    "\n",
    "from tensorflow.keras.initializers import GlorotNormal\n",
    "from tensorflow.keras.optimizers import SGD, Adadelta, Adam, Nadam, RMSprop\n",
    "from tensorflow.keras.regularizers import l2\n",
    "\n",
    "params = {}\n",
    "params['epochs'] = 50\n",
    "params['batch_size'] = 10\n",
    "params['optimizer'] = Nadam\n",
    "params['kernel_initializer'] = GlorotNormal\n",
    "params['kernel_regularizer'] = 'l2'\n",
    "params['first_unit'] = 256\n",
    "params['first_neuron'] = 128\n",
    "params['hidden_layers'] = 0\n",
    "params['dropout'] = 0.4\n",
    "params['lr'] = 0.1\n",
    "params['losses'] = 'mean_squared_error'# 'mean_squared_error'\n",
    "\n",
    "save_location = None\n",
    "hist, model = NN_hyperparam(x_train, y_train, x_val, y_val, params, verbose=1, save_location=save_location)"
   ]
  },
  {
   "cell_type": "code",
   "execution_count": null,
   "metadata": {},
   "outputs": [],
   "source": []
  }
 ]
}